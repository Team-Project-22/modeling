{
 "cells": [
  {
   "cell_type": "code",
   "execution_count": null,
   "metadata": {
    "collapsed": true,
    "pycharm": {
     "name": "#%%\n"
    }
   },
   "outputs": [],
   "source": [
    "import requests\n",
    "import json\n",
    "import urllib.request"
   ]
  },
  {
   "cell_type": "code",
   "execution_count": null,
   "outputs": [],
   "source": [
    "object_url = \"https://collectionapi.metmuseum.org/public/collection/v1/objects\"\n",
    "department_url = \"https://collectionapi.metmuseum.org/public/collection/v1/departments\"\n",
    "search_url = \"https://collectionapi.metmuseum.org/public/collection/v1/search\""
   ],
   "metadata": {
    "collapsed": false,
    "pycharm": {
     "name": "#%%\n"
    }
   }
  },
  {
   "cell_type": "code",
   "execution_count": null,
   "outputs": [],
   "source": [
    "hasImage_data= requests.get(search_url+\"?hasImages=true&artistOrCulture=true&q=van gogh\").json() # Van Gogh Query로 검색, hasImages=true : Image 갖고 있는 것만, artistOrCulture=true : 검색할 쿼리의 필터종류"
   ],
   "metadata": {
    "collapsed": false,
    "pycharm": {
     "name": "#%%\n"
    }
   }
  },
  {
   "cell_type": "code",
   "execution_count": null,
   "outputs": [],
   "source": [
    "# Save Images [ObjectIDs]_[Artist Name]_[Title].jpg Format\n",
    "for i in range(hasImage_data['total']):\n",
    "    has_image_json = requests.get(object_url+\"/\"+str(hasImage_data[\"objectIDs\"][i])).json()\n",
    "    if has_image_json[\"primaryImage\"] != '':\n",
    "        print(\"ObjectIDs : \" + str(hasImage_data[\"objectIDs\"][i]))\n",
    "        print(\"Downloading : \" + has_image_json['artistDisplayName'] + \" : \"+has_image_json[\"title\"])\n",
    "        urllib.request.urlretrieve(has_image_json[\"primaryImage\"], str(hasImage_data[\"objectIDs\"][i])+\"_\"+\n",
    "                                                                has_image_json[\"artistDisplayName\"]+\"_\"+\n",
    "                                                                has_image_json[\"title\"].replace(\":\",\"-\")+\".jpg\") # Window 파일 저장 시, \":\" 는 오류가 나서, \"-\" 로 치환하여 저장"
   ],
   "metadata": {
    "collapsed": false,
    "pycharm": {
     "name": "#%%\n"
    }
   }
  }
 ],
 "metadata": {
  "kernelspec": {
   "display_name": "Python 3",
   "language": "python",
   "name": "python3"
  },
  "language_info": {
   "codemirror_mode": {
    "name": "ipython",
    "version": 2
   },
   "file_extension": ".py",
   "mimetype": "text/x-python",
   "name": "python",
   "nbconvert_exporter": "python",
   "pygments_lexer": "ipython2",
   "version": "2.7.6"
  }
 },
 "nbformat": 4,
 "nbformat_minor": 0
}