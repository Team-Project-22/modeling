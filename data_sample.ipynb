{
 "cells": [
  {
   "cell_type": "code",
   "execution_count": null,
   "metadata": {
    "collapsed": true,
    "pycharm": {
     "name": "#%%\n"
    }
   },
   "outputs": [],
   "source": [
    "import requests\n",
    "import json\n",
    "import pandas as pd\n",
    "import urllib.request"
   ]
  },
  {
   "cell_type": "code",
   "execution_count": null,
   "outputs": [],
   "source": [
    "object_url = \"https://collectionapi.metmuseum.org/public/collection/v1/objects\"\n",
    "department_url = \"https://collectionapi.metmuseum.org/public/collection/v1/departments\"\n",
    "search_url = \"https://collectionapi.metmuseum.org/public/collection/v1/search\""
   ],
   "metadata": {
    "collapsed": false,
    "pycharm": {
     "name": "#%%\n"
    }
   }
  },
  {
   "cell_type": "code",
   "execution_count": null,
   "outputs": [],
   "source": [
    "hasImage_data= requests.get(search_url+\"?hasImages=true&artistOrCulture=true&q=van gogh\").json() # Van Gogh Query로 검색, hasImages=true : Image 갖고 있는 것만, artistOrCulture=true : 검색할 쿼리의 필터종류"
   ],
   "metadata": {
    "collapsed": false,
    "pycharm": {
     "name": "#%%\n"
    }
   }
  },
  {
   "cell_type": "code",
   "execution_count": null,
   "outputs": [],
   "source": [
    "# Artworks Features\n",
    "Obj_IDs = []\n",
    "Artwork_names = []\n",
    "Img_file_names = []\n",
    "Obj_dates = []\n",
    "Dimensions = []\n",
    "Mediums = []"
   ],
   "metadata": {
    "collapsed": false,
    "pycharm": {
     "name": "#%%\n"
    }
   }
  },
  {
   "cell_type": "code",
   "execution_count": null,
   "outputs": [],
   "source": [
    "# Save Images [ObjectIDs]_[Artist Name]_[Title].jpg Format\n",
    "for i in range(hasImage_data['total']):\n",
    "    has_image_json = requests.get(object_url+\"/\"+str(hasImage_data[\"objectIDs\"][i])).json()\n",
    "    if has_image_json[\"primaryImage\"] != '':\n",
    "        print(\"ObjectIDs : \" + str(hasImage_data[\"objectIDs\"][i]))\n",
    "        print(\"Downloading : \" + has_image_json['artistDisplayName'] + \" : \"+has_image_json[\"title\"])\n",
    "        artwork_file_name = str(hasImage_data[\"objectIDs\"][i])+\"_\" + has_image_json[\"artistDisplayName\"]+\"_\" + has_image_json[\"title\"].replace(\":\",\"-\") + \".jpg\"\n",
    "        urllib.request.urlretrieve(has_image_json[\"primaryImage\"], artwork_file_name) # Window 파일 저장 시, \":\" 는 오류가 나서, \"-\" 로 치환하여 저장\n",
    "\n",
    "        Obj_IDs.append(hasImage_data[\"objectIDs\"][i]) # hasImage_data['total'] 을 이용하려 했는데, isPublicDomain 이 허가되지 않은 작품들은, 이미지가 있지만 이미지경로가 주어지지않아 크기가 달라서 그냥 따로하나하나 저장..\n",
    "        Artwork_names.append(has_image_json[\"title\"])\n",
    "        Img_file_names.append(artwork_file_name)\n",
    "        Obj_dates.append(has_image_json[\"objectDate\"])\n",
    "        Dimensions.append(has_image_json[\"dimensions\"])\n",
    "        Mediums.append(has_image_json[\"medium\"])"
   ],
   "metadata": {
    "collapsed": false,
    "pycharm": {
     "name": "#%%\n"
    }
   }
  },
  {
   "cell_type": "markdown",
   "source": [
    "<img alt=\"img\" height=\"1100\" src=\"DB_Structure.png\" width=\"1600\"/>"
   ],
   "metadata": {
    "collapsed": false,
    "pycharm": {
     "name": "#%% md\n"
    }
   }
  },
  {
   "cell_type": "markdown",
   "source": [
    "# Make DataFrame with DB Features"
   ],
   "metadata": {
    "collapsed": false,
    "pycharm": {
     "name": "#%% md\n"
    }
   }
  },
  {
   "cell_type": "code",
   "execution_count": null,
   "outputs": [],
   "source": [
    "df = pd.DataFrame({\n",
    "    \"Obj_ID\" : Obj_IDs,\n",
    "    \"Title\" : Artwork_names,\n",
    "    \"Img_file\" : Img_file_names,\n",
    "    \"Obj_dates\" : Obj_dates,\n",
    "    \"Dimensions\" : Dimensions,\n",
    "    \"Mediums\" : Mediums\n",
    "})"
   ],
   "metadata": {
    "collapsed": false,
    "pycharm": {
     "name": "#%%\n"
    }
   }
  },
  {
   "cell_type": "code",
   "execution_count": null,
   "outputs": [],
   "source": [
    "df.set_index(\"Obj_ID\")"
   ],
   "metadata": {
    "collapsed": false,
    "pycharm": {
     "name": "#%%\n"
    }
   }
  },
  {
   "cell_type": "code",
   "execution_count": null,
   "outputs": [],
   "source": [
    "df['Mediums'].unique()"
   ],
   "metadata": {
    "collapsed": false,
    "pycharm": {
     "name": "#%%\n"
    }
   }
  },
  {
   "cell_type": "code",
   "execution_count": null,
   "outputs": [],
   "source": [],
   "metadata": {
    "collapsed": false,
    "pycharm": {
     "name": "#%%\n"
    }
   }
  }
 ],
 "metadata": {
  "kernelspec": {
   "display_name": "Python 3",
   "language": "python",
   "name": "python3"
  },
  "language_info": {
   "codemirror_mode": {
    "name": "ipython",
    "version": 2
   },
   "file_extension": ".py",
   "mimetype": "text/x-python",
   "name": "python",
   "nbconvert_exporter": "python",
   "pygments_lexer": "ipython2",
   "version": "2.7.6"
  }
 },
 "nbformat": 4,
 "nbformat_minor": 0
}