{
 "cells": [
  {
   "cell_type": "code",
   "execution_count": 1,
   "outputs": [],
   "source": [
    "import numpy as np\n",
    "import tensorflow as tf\n",
    "import pandas as pd"
   ],
   "metadata": {
    "collapsed": false,
    "pycharm": {
     "name": "#%%\n"
    }
   }
  },
  {
   "cell_type": "code",
   "execution_count": 2,
   "outputs": [],
   "source": [
    "def read_data_ml100k():\n",
    "    columns = ['user_id', 'item_id', 'rating', 'timestamp']\n",
    "    data = pd.read_csv('ml-100k/u.data', sep='\\t', names=columns, engine='python')\n",
    "    n_users = data.user_id.unique().shape[0]\n",
    "    n_items = data.item_id.unique().shape[0]\n",
    "    return data, n_users, n_items"
   ],
   "metadata": {
    "collapsed": false,
    "pycharm": {
     "name": "#%%\n"
    }
   }
  },
  {
   "cell_type": "code",
   "execution_count": 3,
   "outputs": [],
   "source": [
    "def split_data_ml100k(data, n_users, n_items, split_mode='random', test_ratio=0.1):\n",
    "    if split_mode == 'seq-aware':\n",
    "        train_items, test_items, train_list = {}, {}, []\n",
    "        for line in data.itertuples():\n",
    "            u, i, rating, time = line[1], line[2], line[3], line[4]\n",
    "            train_items.setdefault(u, []).append((u, i, rating, time))\n",
    "\n",
    "            if u not in test_items or test_items[u][-1] < time:\n",
    "                test_items[u] = (i, rating, time)\n",
    "\n",
    "        for u in range(1, n_users+1):\n",
    "            train_list.extend(sorted(train_items[u], key=lambda k: k[3]))\n",
    "        test_data = [(key, *value) for key, value in test_items.items()]\n",
    "        train_data = [item for item in train_list if item not in test_data]\n",
    "        train_data = pd.DataFrame(train_data)\n",
    "        test_data = pd.DataFrame(test_data)\n",
    "    else:\n",
    "        mask = [True if x == 1\n",
    "                else\n",
    "                    False for x in np.random.uniform(0, 1, (len(data))) < 1 - test_ratio]\n",
    "        neg_mask = [not x for x in mask]\n",
    "        train_data, test_data = data[mask], data[neg_mask]\n",
    "\n",
    "    return train_data, test_data"
   ],
   "metadata": {
    "collapsed": false,
    "pycharm": {
     "name": "#%%\n"
    }
   }
  },
  {
   "cell_type": "code",
   "execution_count": 4,
   "outputs": [],
   "source": [
    "def load_data_ml100k(data, n_users, n_items, feedback='explicit'):\n",
    "    users, items, scores = [], [], [] # users와 items, scores를 저장해놓을 리스트\n",
    "    inter = np.zeros((n_items, n_users)) if feedback == 'explicit' else {} # feedback 이 'explicit'이면 inter를 [n_items, n_users] shape의 배열로 만든다. 'implicit'이면 빈 딕셔너리로\n",
    "    for line in data.itertuples(): # line-by-line으로 data를 불러와서\n",
    "        user_index, item_index = int(line[1] -1), int(line[2] - 1) # 라인의 첫번째 값에서 1을 뺀게 user_index, 라인의 두번째 값에서 1을 뺀게 item_index로 저장\n",
    "        score = int(line[3]) if feedback == 'explicit' else 1 # 'explicit'이면 점수자체를 저장하고, 'implicit'이면 점수는 필요없고, 보았다는 것만 필요하기에 1로 저장\n",
    "        users.append(user_index)\n",
    "        items.append(item_index)\n",
    "        scores.append(score) # user_index, item_index, score 다 추가\n",
    "        if feedback == 'implicit': # 'implicit'이면\n",
    "            inter.setdefault(user_index, []).append(item_index) # 해당 user_index에 본 item_index들을 저장해놓는다. => 아마 보았다는 것이 중요하기에 그런듯\n",
    "        else:\n",
    "            inter[item_index, user_index] = score # 'explicit'이면 그냥 점수를 inter list의 해당 부분에 저장\n",
    "\n",
    "    return users, items, scores, inter"
   ],
   "metadata": {
    "collapsed": false,
    "pycharm": {
     "name": "#%%\n"
    }
   }
  },
  {
   "cell_type": "code",
   "execution_count": 25,
   "outputs": [],
   "source": [
    "def split_and_load_ml100k(split_mode='seq-aware', feedback='explicit', test_ratio=0.1, batch_size=256):\n",
    "    data, n_users, n_items = read_data_ml100k()\n",
    "    train_data, test_data = split_data_ml100k(data, n_users, n_items, split_mode, test_ratio)\n",
    "    train_u, train_i, train_r, _ = load_data_ml100k(train_data, n_users, n_items, feedback)\n",
    "    test_u, test_i, test_r, _ = load_data_ml100k(test_data, n_users, n_items, feedback)\n",
    "    train_set = tf.data.Dataset.from_tensor_slices((np.array(train_u), np.array(train_i), np.array(train_r)))\n",
    "    test_set = tf.data.Dataset.from_tensor_slices((np.array(test_u), np.array(test_i), np.array(test_r)))\n",
    "    train_set = train_set.shuffle(1000).batch(batch_size, drop_remainder=True)\n",
    "    test_set = test_set.batch(batch_size, drop_remainder=True)\n",
    "    return n_users, n_items, train_set, test_set"
   ],
   "metadata": {
    "collapsed": false,
    "pycharm": {
     "name": "#%%\n"
    }
   }
  },
  {
   "cell_type": "code",
   "execution_count": 26,
   "outputs": [],
   "source": [
    "n_users, n_items, train_set, test_set = split_and_load_ml100k(test_ratio=0.1, batch_size=512)"
   ],
   "metadata": {
    "collapsed": false,
    "pycharm": {
     "name": "#%%\n"
    }
   }
  },
  {
   "cell_type": "code",
   "execution_count": 7,
   "outputs": [
    {
     "name": "stdout",
     "output_type": "stream",
     "text": [
      "n_users: 943\n",
      "n_items: 1682\n"
     ]
    }
   ],
   "source": [
    "print(f'n_users: {n_users}')\n",
    "print(f'n_items: {n_items}')"
   ],
   "metadata": {
    "collapsed": false,
    "pycharm": {
     "name": "#%%\n"
    }
   }
  },
  {
   "cell_type": "code",
   "execution_count": 32,
   "outputs": [
    {
     "name": "stdout",
     "output_type": "stream",
     "text": [
      "193\n"
     ]
    }
   ],
   "source": [
    "print(len(list(train_set.as_numpy_iterator())))"
   ],
   "metadata": {
    "collapsed": false,
    "pycharm": {
     "name": "#%%\n"
    }
   }
  },
  {
   "cell_type": "code",
   "execution_count": 9,
   "outputs": [],
   "source": [
    "class MyModel(tf.keras.Model):\n",
    "    def __init__(self, n_users, n_items, K):\n",
    "        super(MyModel, self).__init__()\n",
    "        self.P = tf.keras.layers.Embedding(input_dim=n_users, output_dim=K)\n",
    "        self.Q = tf.keras.layers.Embedding(input_dim=n_items, output_dim=K)\n",
    "        self.user_bias = tf.keras.layers.Embedding(n_users, 1)\n",
    "        self.item_bias = tf.keras.layers.Embedding(n_items, 1)\n",
    "\n",
    "    def call(self, user_id, item_id):\n",
    "        P_u = self.P(user_id)\n",
    "        Q_i = self.Q(item_id)\n",
    "        b_u = self.user_bias(user_id)\n",
    "        b_i = self.user_bias(item_id)\n",
    "        Q_i = tf.transpose(Q_i, perm=[0, 2, 1])\n",
    "        outputs = tf.matmul(P_u, Q_i) + np.squeeze(b_u) + np.squeeze(b_i)\n",
    "        return outputs\n",
    "\n",
    "#============== 여기부터 다시"
   ],
   "metadata": {
    "collapsed": false,
    "pycharm": {
     "name": "#%%\n"
    }
   }
  },
  {
   "cell_type": "code",
   "execution_count": 47,
   "outputs": [],
   "source": [
    "columns = ['user_id', 'item_id', 'rating', 'timestamp']\n",
    "ratings = pd.read_csv('ml-100k/u.data', sep='\\t', names=columns)\n",
    "ratings.drop('timestamp', axis=1, inplace=True)\n",
    "\n",
    "columns = ['item_id', 'movie title', 'release date', 'video release date', 'IMDb URL', 'unknown', 'Action', 'Adventure', 'Animation', 'Childrens', 'Comedy', 'Crime', 'Documentary', 'Drama', 'Fantasy', 'Film-Noir', 'Horror', 'Musical', 'Mystery', 'Romance', 'Sci-Fi', 'Thriller', 'War', 'Western']\n",
    "movies = pd.read_csv('ml-100k/u.item', sep='|', names=columns, encoding='latin-1')\n",
    "movies = movies[['item_id', 'movie title']]\n",
    "\n",
    "\n",
    "n_users = len(ratings['user_id'].unique())\n",
    "n_items = len(movies['item_id'].unique())\n",
    "rating_mat = np.zeros(shape= (n_users, n_items))\n",
    "\n",
    "ratings = ratings.to_numpy()\n",
    "users = []\n",
    "items = []\n",
    "ids = []\n",
    "for u, i, r in ratings:\n",
    "    rating_mat[u-1, i-1] = r\n",
    "    users.append(u)\n",
    "    items.append(i)\n",
    "    ids.append()"
   ],
   "metadata": {
    "collapsed": false,
    "pycharm": {
     "name": "#%%\n"
    }
   }
  },
  {
   "cell_type": "code",
   "execution_count": 50,
   "outputs": [],
   "source": [
    "rating_mat = tf.convert_to_tensor(rating_mat)"
   ],
   "metadata": {
    "collapsed": false,
    "pycharm": {
     "name": "#%%\n"
    }
   }
  },
  {
   "cell_type": "code",
   "execution_count": 51,
   "outputs": [
    {
     "data": {
      "text/plain": "<tf.Tensor: shape=(943, 1682), dtype=float64, numpy=\narray([[5., 3., 4., ..., 0., 0., 0.],\n       [4., 0., 0., ..., 0., 0., 0.],\n       [0., 0., 0., ..., 0., 0., 0.],\n       ...,\n       [5., 0., 0., ..., 0., 0., 0.],\n       [0., 0., 0., ..., 0., 0., 0.],\n       [0., 5., 0., ..., 0., 0., 0.]])>"
     },
     "execution_count": 51,
     "metadata": {},
     "output_type": "execute_result"
    }
   ],
   "source": [
    "rating_mat"
   ],
   "metadata": {
    "collapsed": false,
    "pycharm": {
     "name": "#%%\n"
    }
   }
  },
  {
   "cell_type": "code",
   "execution_count": 42,
   "outputs": [],
   "source": [
    "input_arr1 = np.random.randn(n_users)\n",
    "input_arr2 = np.random.randn(n_items)\n",
    "user = tf.keras.layers.Embedding(input_dim=n_users, output_dim=20)(input_arr1)\n",
    "item = tf.keras.layers.Embedding(input_dim=n_items, output_dim=20)(input_arr2)\n"
   ],
   "metadata": {
    "collapsed": false,
    "pycharm": {
     "name": "#%%\n"
    }
   }
  },
  {
   "cell_type": "code",
   "execution_count": 43,
   "outputs": [],
   "source": [
    "item = tf.transpose(item, perm=[1, 0])"
   ],
   "metadata": {
    "collapsed": false,
    "pycharm": {
     "name": "#%%\n"
    }
   }
  },
  {
   "cell_type": "code",
   "execution_count": 44,
   "outputs": [],
   "source": [
    "outputs = tf.matmul(user, item)"
   ],
   "metadata": {
    "collapsed": false,
    "pycharm": {
     "name": "#%%\n"
    }
   }
  },
  {
   "cell_type": "code",
   "execution_count": 45,
   "outputs": [
    {
     "data": {
      "text/plain": "TensorShape([943, 1682])"
     },
     "execution_count": 45,
     "metadata": {},
     "output_type": "execute_result"
    }
   ],
   "source": [
    "outputs.shape"
   ],
   "metadata": {
    "collapsed": false,
    "pycharm": {
     "name": "#%%\n"
    }
   }
  },
  {
   "cell_type": "code",
   "execution_count": 54,
   "outputs": [],
   "source": [
    "mse_loss_fn = tf.keras.losses.MeanSquaredError()"
   ],
   "metadata": {
    "collapsed": false,
    "pycharm": {
     "name": "#%%\n"
    }
   }
  },
  {
   "cell_type": "code",
   "execution_count": 56,
   "outputs": [],
   "source": [
    "loss = mse_loss_fn(rating_mat, outputs)"
   ],
   "metadata": {
    "collapsed": false,
    "pycharm": {
     "name": "#%%\n"
    }
   }
  },
  {
   "cell_type": "code",
   "execution_count": 62,
   "outputs": [
    {
     "data": {
      "text/plain": "<tf.Tensor: shape=(), dtype=float32, numpy=0.86715966>"
     },
     "execution_count": 62,
     "metadata": {},
     "output_type": "execute_result"
    }
   ],
   "source": [
    "loss"
   ],
   "metadata": {
    "collapsed": false,
    "pycharm": {
     "name": "#%%\n"
    }
   }
  },
  {
   "cell_type": "code",
   "execution_count": 10,
   "outputs": [],
   "source": [
    "model = MyModel(n_users, n_items, 20)"
   ],
   "metadata": {
    "collapsed": false,
    "pycharm": {
     "name": "#%%\n"
    }
   }
  },
  {
   "cell_type": "code",
   "execution_count": 13,
   "outputs": [
    {
     "ename": "TypeError",
     "evalue": "Error converting shape to a TensorShape: Dimension value must be integer or None or have an __index__ method, got value '(943, 1682)' with type '<class 'tuple'>'.",
     "output_type": "error",
     "traceback": [
      "\u001B[1;31m---------------------------------------------------------------------------\u001B[0m",
      "\u001B[1;31mTypeError\u001B[0m                                 Traceback (most recent call last)",
      "File \u001B[1;32m~\\AppData\\Roaming\\Python\\Python310\\site-packages\\tensorflow\\python\\eager\\execute.py:202\u001B[0m, in \u001B[0;36mmake_shape\u001B[1;34m(v, arg_name)\u001B[0m\n\u001B[0;32m    201\u001B[0m \u001B[38;5;28;01mtry\u001B[39;00m:\n\u001B[1;32m--> 202\u001B[0m   shape \u001B[38;5;241m=\u001B[39m \u001B[43mtensor_shape\u001B[49m\u001B[38;5;241;43m.\u001B[39;49m\u001B[43mas_shape\u001B[49m\u001B[43m(\u001B[49m\u001B[43mv\u001B[49m\u001B[43m)\u001B[49m\n\u001B[0;32m    203\u001B[0m \u001B[38;5;28;01mexcept\u001B[39;00m \u001B[38;5;167;01mTypeError\u001B[39;00m \u001B[38;5;28;01mas\u001B[39;00m e:\n",
      "File \u001B[1;32m~\\AppData\\Roaming\\Python\\Python310\\site-packages\\tensorflow\\python\\framework\\tensor_shape.py:1448\u001B[0m, in \u001B[0;36mas_shape\u001B[1;34m(shape)\u001B[0m\n\u001B[0;32m   1447\u001B[0m \u001B[38;5;28;01melse\u001B[39;00m:\n\u001B[1;32m-> 1448\u001B[0m   \u001B[38;5;28;01mreturn\u001B[39;00m \u001B[43mTensorShape\u001B[49m\u001B[43m(\u001B[49m\u001B[43mshape\u001B[49m\u001B[43m)\u001B[49m\n",
      "File \u001B[1;32m~\\AppData\\Roaming\\Python\\Python310\\site-packages\\tensorflow\\python\\framework\\tensor_shape.py:776\u001B[0m, in \u001B[0;36mTensorShape.__init__\u001B[1;34m(self, dims)\u001B[0m\n\u001B[0;32m    775\u001B[0m \u001B[38;5;28;01mif\u001B[39;00m \u001B[38;5;28misinstance\u001B[39m(dims, (\u001B[38;5;28mtuple\u001B[39m, \u001B[38;5;28mlist\u001B[39m)):  \u001B[38;5;66;03m# Most common case.\u001B[39;00m\n\u001B[1;32m--> 776\u001B[0m   \u001B[38;5;28mself\u001B[39m\u001B[38;5;241m.\u001B[39m_dims \u001B[38;5;241m=\u001B[39m \u001B[38;5;28;43mtuple\u001B[39;49m\u001B[43m(\u001B[49m\u001B[43mas_dimension\u001B[49m\u001B[43m(\u001B[49m\u001B[43md\u001B[49m\u001B[43m)\u001B[49m\u001B[38;5;241;43m.\u001B[39;49m\u001B[43mvalue\u001B[49m\u001B[43m \u001B[49m\u001B[38;5;28;43;01mfor\u001B[39;49;00m\u001B[43m \u001B[49m\u001B[43md\u001B[49m\u001B[43m \u001B[49m\u001B[38;5;129;43;01min\u001B[39;49;00m\u001B[43m \u001B[49m\u001B[43mdims\u001B[49m\u001B[43m)\u001B[49m\n\u001B[0;32m    777\u001B[0m \u001B[38;5;28;01melif\u001B[39;00m dims \u001B[38;5;129;01mis\u001B[39;00m \u001B[38;5;28;01mNone\u001B[39;00m:\n",
      "File \u001B[1;32m~\\AppData\\Roaming\\Python\\Python310\\site-packages\\tensorflow\\python\\framework\\tensor_shape.py:776\u001B[0m, in \u001B[0;36m<genexpr>\u001B[1;34m(.0)\u001B[0m\n\u001B[0;32m    775\u001B[0m \u001B[38;5;28;01mif\u001B[39;00m \u001B[38;5;28misinstance\u001B[39m(dims, (\u001B[38;5;28mtuple\u001B[39m, \u001B[38;5;28mlist\u001B[39m)):  \u001B[38;5;66;03m# Most common case.\u001B[39;00m\n\u001B[1;32m--> 776\u001B[0m   \u001B[38;5;28mself\u001B[39m\u001B[38;5;241m.\u001B[39m_dims \u001B[38;5;241m=\u001B[39m \u001B[38;5;28mtuple\u001B[39m(\u001B[43mas_dimension\u001B[49m\u001B[43m(\u001B[49m\u001B[43md\u001B[49m\u001B[43m)\u001B[49m\u001B[38;5;241m.\u001B[39mvalue \u001B[38;5;28;01mfor\u001B[39;00m d \u001B[38;5;129;01min\u001B[39;00m dims)\n\u001B[0;32m    777\u001B[0m \u001B[38;5;28;01melif\u001B[39;00m dims \u001B[38;5;129;01mis\u001B[39;00m \u001B[38;5;28;01mNone\u001B[39;00m:\n",
      "File \u001B[1;32m~\\AppData\\Roaming\\Python\\Python310\\site-packages\\tensorflow\\python\\framework\\tensor_shape.py:740\u001B[0m, in \u001B[0;36mas_dimension\u001B[1;34m(value)\u001B[0m\n\u001B[0;32m    739\u001B[0m \u001B[38;5;28;01melse\u001B[39;00m:\n\u001B[1;32m--> 740\u001B[0m   \u001B[38;5;28;01mreturn\u001B[39;00m \u001B[43mDimension\u001B[49m\u001B[43m(\u001B[49m\u001B[43mvalue\u001B[49m\u001B[43m)\u001B[49m\n",
      "File \u001B[1;32m~\\AppData\\Roaming\\Python\\Python310\\site-packages\\tensorflow\\python\\framework\\tensor_shape.py:216\u001B[0m, in \u001B[0;36mDimension.__init__\u001B[1;34m(self, value)\u001B[0m\n\u001B[0;32m    215\u001B[0m \u001B[38;5;28;01mexcept\u001B[39;00m \u001B[38;5;167;01mAttributeError\u001B[39;00m:\n\u001B[1;32m--> 216\u001B[0m   \u001B[43msix\u001B[49m\u001B[38;5;241;43m.\u001B[39;49m\u001B[43mraise_from\u001B[49m\u001B[43m(\u001B[49m\n\u001B[0;32m    217\u001B[0m \u001B[43m      \u001B[49m\u001B[38;5;167;43;01mTypeError\u001B[39;49;00m\u001B[43m(\u001B[49m\u001B[38;5;124;43m\"\u001B[39;49m\u001B[38;5;124;43mDimension value must be integer or None or have \u001B[39;49m\u001B[38;5;124;43m\"\u001B[39;49m\n\u001B[0;32m    218\u001B[0m \u001B[43m                \u001B[49m\u001B[38;5;124;43m\"\u001B[39;49m\u001B[38;5;124;43man __index__ method, got value \u001B[39;49m\u001B[38;5;124;43m'\u001B[39;49m\u001B[38;5;132;43;01m{0!r}\u001B[39;49;00m\u001B[38;5;124;43m'\u001B[39;49m\u001B[38;5;124;43m with type \u001B[39;49m\u001B[38;5;124;43m'\u001B[39;49m\u001B[38;5;132;43;01m{1!r}\u001B[39;49;00m\u001B[38;5;124;43m'\u001B[39;49m\u001B[38;5;124;43m\"\u001B[39;49m\n\u001B[0;32m    219\u001B[0m \u001B[43m                \u001B[49m\u001B[38;5;241;43m.\u001B[39;49m\u001B[43mformat\u001B[49m\u001B[43m(\u001B[49m\u001B[43mvalue\u001B[49m\u001B[43m,\u001B[49m\u001B[43m \u001B[49m\u001B[38;5;28;43mtype\u001B[39;49m\u001B[43m(\u001B[49m\u001B[43mvalue\u001B[49m\u001B[43m)\u001B[49m\u001B[43m)\u001B[49m\u001B[43m)\u001B[49m\u001B[43m,\u001B[49m\u001B[43m \u001B[49m\u001B[38;5;28;43;01mNone\u001B[39;49;00m\u001B[43m)\u001B[49m\n\u001B[0;32m    220\u001B[0m \u001B[38;5;28;01mif\u001B[39;00m \u001B[38;5;28mself\u001B[39m\u001B[38;5;241m.\u001B[39m_value \u001B[38;5;241m<\u001B[39m \u001B[38;5;241m0\u001B[39m:\n",
      "File \u001B[1;32m<string>:3\u001B[0m, in \u001B[0;36mraise_from\u001B[1;34m(value, from_value)\u001B[0m\n",
      "\u001B[1;31mTypeError\u001B[0m: Dimension value must be integer or None or have an __index__ method, got value '(943, 1682)' with type '<class 'tuple'>'",
      "\nDuring handling of the above exception, another exception occurred:\n",
      "\u001B[1;31mTypeError\u001B[0m                                 Traceback (most recent call last)",
      "Input \u001B[1;32mIn [13]\u001B[0m, in \u001B[0;36m<module>\u001B[1;34m\u001B[0m\n\u001B[1;32m----> 1\u001B[0m \u001B[43mmodel\u001B[49m\u001B[38;5;241;43m.\u001B[39;49m\u001B[43mbuild\u001B[49m\u001B[43m(\u001B[49m\u001B[43minput_shape\u001B[49m\u001B[43m \u001B[49m\u001B[38;5;241;43m=\u001B[39;49m\u001B[43m \u001B[49m\u001B[43m(\u001B[49m\u001B[38;5;28;43;01mNone\u001B[39;49;00m\u001B[43m,\u001B[49m\u001B[43m \u001B[49m\u001B[43m(\u001B[49m\u001B[43mn_users\u001B[49m\u001B[43m,\u001B[49m\u001B[43m \u001B[49m\u001B[43mn_items\u001B[49m\u001B[43m)\u001B[49m\u001B[43m)\u001B[49m\u001B[43m)\u001B[49m\n",
      "File \u001B[1;32m~\\AppData\\Roaming\\Python\\Python310\\site-packages\\keras\\engine\\training.py:469\u001B[0m, in \u001B[0;36mModel.build\u001B[1;34m(self, input_shape)\u001B[0m\n\u001B[0;32m    462\u001B[0m     x \u001B[38;5;241m=\u001B[39m {\n\u001B[0;32m    463\u001B[0m         k: base_layer_utils\u001B[38;5;241m.\u001B[39mgenerate_placeholders_from_shape(\n\u001B[0;32m    464\u001B[0m             shape\n\u001B[0;32m    465\u001B[0m         )\n\u001B[0;32m    466\u001B[0m         \u001B[38;5;28;01mfor\u001B[39;00m k, shape \u001B[38;5;129;01min\u001B[39;00m input_shape\u001B[38;5;241m.\u001B[39mitems()\n\u001B[0;32m    467\u001B[0m     }\n\u001B[0;32m    468\u001B[0m \u001B[38;5;28;01melse\u001B[39;00m:\n\u001B[1;32m--> 469\u001B[0m     x \u001B[38;5;241m=\u001B[39m \u001B[43mbase_layer_utils\u001B[49m\u001B[38;5;241;43m.\u001B[39;49m\u001B[43mgenerate_placeholders_from_shape\u001B[49m\u001B[43m(\u001B[49m\n\u001B[0;32m    470\u001B[0m \u001B[43m        \u001B[49m\u001B[43minput_shape\u001B[49m\n\u001B[0;32m    471\u001B[0m \u001B[43m    \u001B[49m\u001B[43m)\u001B[49m\n\u001B[0;32m    473\u001B[0m kwargs \u001B[38;5;241m=\u001B[39m {}\n\u001B[0;32m    474\u001B[0m call_signature \u001B[38;5;241m=\u001B[39m \u001B[38;5;28mself\u001B[39m\u001B[38;5;241m.\u001B[39m_call_spec\u001B[38;5;241m.\u001B[39mfull_argspec\n",
      "File \u001B[1;32m~\\AppData\\Roaming\\Python\\Python310\\site-packages\\keras\\engine\\base_layer_utils.py:185\u001B[0m, in \u001B[0;36mgenerate_placeholders_from_shape\u001B[1;34m(shape)\u001B[0m\n\u001B[0;32m    184\u001B[0m \u001B[38;5;28;01mdef\u001B[39;00m \u001B[38;5;21mgenerate_placeholders_from_shape\u001B[39m(shape):\n\u001B[1;32m--> 185\u001B[0m     \u001B[38;5;28;01mreturn\u001B[39;00m \u001B[43mtf1\u001B[49m\u001B[38;5;241;43m.\u001B[39;49m\u001B[43mplaceholder\u001B[49m\u001B[43m(\u001B[49m\u001B[43mshape\u001B[49m\u001B[38;5;241;43m=\u001B[39;49m\u001B[43mshape\u001B[49m\u001B[43m,\u001B[49m\u001B[43m \u001B[49m\u001B[43mdtype\u001B[49m\u001B[38;5;241;43m=\u001B[39;49m\u001B[43mbackend\u001B[49m\u001B[38;5;241;43m.\u001B[39;49m\u001B[43mfloatx\u001B[49m\u001B[43m(\u001B[49m\u001B[43m)\u001B[49m\u001B[43m)\u001B[49m\n",
      "File \u001B[1;32m~\\AppData\\Roaming\\Python\\Python310\\site-packages\\tensorflow\\python\\ops\\array_ops.py:3345\u001B[0m, in \u001B[0;36mplaceholder\u001B[1;34m(dtype, shape, name)\u001B[0m\n\u001B[0;32m   3341\u001B[0m \u001B[38;5;28;01mif\u001B[39;00m context\u001B[38;5;241m.\u001B[39mexecuting_eagerly():\n\u001B[0;32m   3342\u001B[0m   \u001B[38;5;28;01mraise\u001B[39;00m \u001B[38;5;167;01mRuntimeError\u001B[39;00m(\u001B[38;5;124m\"\u001B[39m\u001B[38;5;124mtf.placeholder() is not compatible with \u001B[39m\u001B[38;5;124m\"\u001B[39m\n\u001B[0;32m   3343\u001B[0m                      \u001B[38;5;124m\"\u001B[39m\u001B[38;5;124meager execution.\u001B[39m\u001B[38;5;124m\"\u001B[39m)\n\u001B[1;32m-> 3345\u001B[0m \u001B[38;5;28;01mreturn\u001B[39;00m \u001B[43mgen_array_ops\u001B[49m\u001B[38;5;241;43m.\u001B[39;49m\u001B[43mplaceholder\u001B[49m\u001B[43m(\u001B[49m\u001B[43mdtype\u001B[49m\u001B[38;5;241;43m=\u001B[39;49m\u001B[43mdtype\u001B[49m\u001B[43m,\u001B[49m\u001B[43m \u001B[49m\u001B[43mshape\u001B[49m\u001B[38;5;241;43m=\u001B[39;49m\u001B[43mshape\u001B[49m\u001B[43m,\u001B[49m\u001B[43m \u001B[49m\u001B[43mname\u001B[49m\u001B[38;5;241;43m=\u001B[39;49m\u001B[43mname\u001B[49m\u001B[43m)\u001B[49m\n",
      "File \u001B[1;32m~\\AppData\\Roaming\\Python\\Python310\\site-packages\\tensorflow\\python\\ops\\gen_array_ops.py:6896\u001B[0m, in \u001B[0;36mplaceholder\u001B[1;34m(dtype, shape, name)\u001B[0m\n\u001B[0;32m   6894\u001B[0m \u001B[38;5;28;01mif\u001B[39;00m shape \u001B[38;5;129;01mis\u001B[39;00m \u001B[38;5;28;01mNone\u001B[39;00m:\n\u001B[0;32m   6895\u001B[0m   shape \u001B[38;5;241m=\u001B[39m \u001B[38;5;28;01mNone\u001B[39;00m\n\u001B[1;32m-> 6896\u001B[0m shape \u001B[38;5;241m=\u001B[39m \u001B[43m_execute\u001B[49m\u001B[38;5;241;43m.\u001B[39;49m\u001B[43mmake_shape\u001B[49m\u001B[43m(\u001B[49m\u001B[43mshape\u001B[49m\u001B[43m,\u001B[49m\u001B[43m \u001B[49m\u001B[38;5;124;43m\"\u001B[39;49m\u001B[38;5;124;43mshape\u001B[39;49m\u001B[38;5;124;43m\"\u001B[39;49m\u001B[43m)\u001B[49m\n\u001B[0;32m   6897\u001B[0m _, _, _op, _outputs \u001B[38;5;241m=\u001B[39m _op_def_library\u001B[38;5;241m.\u001B[39m_apply_op_helper(\n\u001B[0;32m   6898\u001B[0m       \u001B[38;5;124m\"\u001B[39m\u001B[38;5;124mPlaceholder\u001B[39m\u001B[38;5;124m\"\u001B[39m, dtype\u001B[38;5;241m=\u001B[39mdtype, shape\u001B[38;5;241m=\u001B[39mshape, name\u001B[38;5;241m=\u001B[39mname)\n\u001B[0;32m   6899\u001B[0m _result \u001B[38;5;241m=\u001B[39m _outputs[:]\n",
      "File \u001B[1;32m~\\AppData\\Roaming\\Python\\Python310\\site-packages\\tensorflow\\python\\eager\\execute.py:204\u001B[0m, in \u001B[0;36mmake_shape\u001B[1;34m(v, arg_name)\u001B[0m\n\u001B[0;32m    202\u001B[0m   shape \u001B[38;5;241m=\u001B[39m tensor_shape\u001B[38;5;241m.\u001B[39mas_shape(v)\n\u001B[0;32m    203\u001B[0m \u001B[38;5;28;01mexcept\u001B[39;00m \u001B[38;5;167;01mTypeError\u001B[39;00m \u001B[38;5;28;01mas\u001B[39;00m e:\n\u001B[1;32m--> 204\u001B[0m   \u001B[38;5;28;01mraise\u001B[39;00m \u001B[38;5;167;01mTypeError\u001B[39;00m(\u001B[38;5;124m\"\u001B[39m\u001B[38;5;124mError converting \u001B[39m\u001B[38;5;132;01m%s\u001B[39;00m\u001B[38;5;124m to a TensorShape: \u001B[39m\u001B[38;5;132;01m%s\u001B[39;00m\u001B[38;5;124m.\u001B[39m\u001B[38;5;124m\"\u001B[39m \u001B[38;5;241m%\u001B[39m (arg_name, e))\n\u001B[0;32m    205\u001B[0m \u001B[38;5;28;01mexcept\u001B[39;00m \u001B[38;5;167;01mValueError\u001B[39;00m \u001B[38;5;28;01mas\u001B[39;00m e:\n\u001B[0;32m    206\u001B[0m   \u001B[38;5;28;01mraise\u001B[39;00m \u001B[38;5;167;01mValueError\u001B[39;00m(\u001B[38;5;124m\"\u001B[39m\u001B[38;5;124mError converting \u001B[39m\u001B[38;5;132;01m%s\u001B[39;00m\u001B[38;5;124m to a TensorShape: \u001B[39m\u001B[38;5;132;01m%s\u001B[39;00m\u001B[38;5;124m.\u001B[39m\u001B[38;5;124m\"\u001B[39m \u001B[38;5;241m%\u001B[39m\n\u001B[0;32m    207\u001B[0m                    (arg_name, e))\n",
      "\u001B[1;31mTypeError\u001B[0m: Error converting shape to a TensorShape: Dimension value must be integer or None or have an __index__ method, got value '(943, 1682)' with type '<class 'tuple'>'."
     ]
    }
   ],
   "source": [
    "model.compile(optimizer)"
   ],
   "metadata": {
    "collapsed": false,
    "pycharm": {
     "name": "#%%\n"
    }
   }
  },
  {
   "cell_type": "markdown",
   "source": [
    "## 위로 코드 써보기\n",
    "\n",
    "---"
   ],
   "metadata": {
    "collapsed": false,
    "pycharm": {
     "name": "#%% md\n"
    }
   }
  },
  {
   "cell_type": "code",
   "execution_count": null,
   "outputs": [],
   "source": [
    "passcolumns = ['item_id', 'movie title', 'release date', 'video release date', 'IMDb URL', 'unknown', 'Action', 'Adventure', 'Animation', 'Childrens', 'Comedy', 'Crime', 'Documentary', 'Drama', 'Fantasy', 'Film-Noir', 'Horror', 'Musical', 'Mystery', 'Romance', 'Sci-Fi', 'Thriller', 'War', 'Western']\n",
    "movies = pd.read_csv('ml-100k/u.item', sep='|', names=columns, encoding='latin-1')\n",
    "movies = movies[['item_id', 'movie title']]\n",
    "movies.head()"
   ],
   "metadata": {
    "collapsed": false,
    "pycharm": {
     "name": "#%%\n"
    }
   }
  },
  {
   "cell_type": "code",
   "execution_count": null,
   "outputs": [],
   "source": [],
   "metadata": {
    "collapsed": false,
    "pycharm": {
     "name": "#%%\n"
    }
   }
  },
  {
   "cell_type": "code",
   "execution_count": 4,
   "outputs": [
    {
     "data": {
      "text/plain": "   user_id  item_id  rating   movie title\n0      196      242       3  Kolya (1996)\n1       63      242       3  Kolya (1996)\n2      226      242       5  Kolya (1996)\n3      154      242       3  Kolya (1996)\n4      306      242       5  Kolya (1996)",
      "text/html": "<div>\n<style scoped>\n    .dataframe tbody tr th:only-of-type {\n        vertical-align: middle;\n    }\n\n    .dataframe tbody tr th {\n        vertical-align: top;\n    }\n\n    .dataframe thead th {\n        text-align: right;\n    }\n</style>\n<table border=\"1\" class=\"dataframe\">\n  <thead>\n    <tr style=\"text-align: right;\">\n      <th></th>\n      <th>user_id</th>\n      <th>item_id</th>\n      <th>rating</th>\n      <th>movie title</th>\n    </tr>\n  </thead>\n  <tbody>\n    <tr>\n      <th>0</th>\n      <td>196</td>\n      <td>242</td>\n      <td>3</td>\n      <td>Kolya (1996)</td>\n    </tr>\n    <tr>\n      <th>1</th>\n      <td>63</td>\n      <td>242</td>\n      <td>3</td>\n      <td>Kolya (1996)</td>\n    </tr>\n    <tr>\n      <th>2</th>\n      <td>226</td>\n      <td>242</td>\n      <td>5</td>\n      <td>Kolya (1996)</td>\n    </tr>\n    <tr>\n      <th>3</th>\n      <td>154</td>\n      <td>242</td>\n      <td>3</td>\n      <td>Kolya (1996)</td>\n    </tr>\n    <tr>\n      <th>4</th>\n      <td>306</td>\n      <td>242</td>\n      <td>5</td>\n      <td>Kolya (1996)</td>\n    </tr>\n  </tbody>\n</table>\n</div>"
     },
     "execution_count": 4,
     "metadata": {},
     "output_type": "execute_result"
    }
   ],
   "source": [
    "user_movie_data = pd.merge(ratings, movies, on='item_id')\n",
    "user_movie_data.head()"
   ],
   "metadata": {
    "collapsed": false,
    "pycharm": {
     "name": "#%%\n"
    }
   }
  },
  {
   "cell_type": "code",
   "execution_count": 5,
   "outputs": [],
   "source": [
    "user_movie_rating = user_movie_data.pivot_table('rating', index='user_id', columns='movie title').fillna(0)"
   ],
   "metadata": {
    "collapsed": false,
    "pycharm": {
     "name": "#%%\n"
    }
   }
  },
  {
   "cell_type": "code",
   "execution_count": 8,
   "outputs": [
    {
     "data": {
      "text/plain": "943"
     },
     "execution_count": 8,
     "metadata": {},
     "output_type": "execute_result"
    }
   ],
   "source": [
    "user_movie_rating.shape[0]"
   ],
   "metadata": {
    "collapsed": false,
    "pycharm": {
     "name": "#%%\n"
    }
   }
  },
  {
   "cell_type": "code",
   "execution_count": 11,
   "outputs": [
    {
     "data": {
      "text/plain": "movie title  'Til There Was You (1997)  1-900 (1994)  101 Dalmatians (1996)  \\\nuser_id                                                                       \n1                                  0.0           0.0                    2.0   \n2                                  0.0           0.0                    0.0   \n3                                  0.0           0.0                    0.0   \n4                                  0.0           0.0                    0.0   \n5                                  0.0           0.0                    2.0   \n\nmovie title  12 Angry Men (1957)  187 (1997)  2 Days in the Valley (1996)  \\\nuser_id                                                                     \n1                            5.0         0.0                          0.0   \n2                            0.0         0.0                          0.0   \n3                            0.0         2.0                          0.0   \n4                            0.0         0.0                          0.0   \n5                            0.0         0.0                          0.0   \n\nmovie title  20,000 Leagues Under the Sea (1954)  \\\nuser_id                                            \n1                                            3.0   \n2                                            0.0   \n3                                            0.0   \n4                                            0.0   \n5                                            0.0   \n\nmovie title  2001: A Space Odyssey (1968)  \\\nuser_id                                     \n1                                     4.0   \n2                                     0.0   \n3                                     0.0   \n4                                     0.0   \n5                                     4.0   \n\nmovie title  3 Ninjas: High Noon At Mega Mountain (1998)  \\\nuser_id                                                    \n1                                                    0.0   \n2                                                    1.0   \n3                                                    0.0   \n4                                                    0.0   \n5                                                    0.0   \n\nmovie title  39 Steps, The (1935)  ...  Yankee Zulu (1994)  \\\nuser_id                            ...                       \n1                             0.0  ...                 0.0   \n2                             0.0  ...                 0.0   \n3                             0.0  ...                 0.0   \n4                             0.0  ...                 0.0   \n5                             0.0  ...                 0.0   \n\nmovie title  Year of the Horse (1997)  You So Crazy (1994)  \\\nuser_id                                                      \n1                                 0.0                  0.0   \n2                                 0.0                  0.0   \n3                                 0.0                  0.0   \n4                                 0.0                  0.0   \n5                                 0.0                  0.0   \n\nmovie title  Young Frankenstein (1974)  Young Guns (1988)  \\\nuser_id                                                     \n1                                  5.0                3.0   \n2                                  0.0                0.0   \n3                                  0.0                0.0   \n4                                  0.0                0.0   \n5                                  4.0                0.0   \n\nmovie title  Young Guns II (1990)  Young Poisoner's Handbook, The (1995)  \\\nuser_id                                                                    \n1                             0.0                                    0.0   \n2                             0.0                                    0.0   \n3                             0.0                                    0.0   \n4                             0.0                                    0.0   \n5                             0.0                                    0.0   \n\nmovie title  Zeus and Roxanne (1997)  unknown  \\\nuser_id                                         \n1                                0.0      4.0   \n2                                0.0      0.0   \n3                                0.0      0.0   \n4                                0.0      0.0   \n5                                0.0      4.0   \n\nmovie title  Á köldum klaka (Cold Fever) (1994)  \nuser_id                                          \n1                                           0.0  \n2                                           0.0  \n3                                           0.0  \n4                                           0.0  \n5                                           0.0  \n\n[5 rows x 1664 columns]",
      "text/html": "<div>\n<style scoped>\n    .dataframe tbody tr th:only-of-type {\n        vertical-align: middle;\n    }\n\n    .dataframe tbody tr th {\n        vertical-align: top;\n    }\n\n    .dataframe thead th {\n        text-align: right;\n    }\n</style>\n<table border=\"1\" class=\"dataframe\">\n  <thead>\n    <tr style=\"text-align: right;\">\n      <th>movie title</th>\n      <th>'Til There Was You (1997)</th>\n      <th>1-900 (1994)</th>\n      <th>101 Dalmatians (1996)</th>\n      <th>12 Angry Men (1957)</th>\n      <th>187 (1997)</th>\n      <th>2 Days in the Valley (1996)</th>\n      <th>20,000 Leagues Under the Sea (1954)</th>\n      <th>2001: A Space Odyssey (1968)</th>\n      <th>3 Ninjas: High Noon At Mega Mountain (1998)</th>\n      <th>39 Steps, The (1935)</th>\n      <th>...</th>\n      <th>Yankee Zulu (1994)</th>\n      <th>Year of the Horse (1997)</th>\n      <th>You So Crazy (1994)</th>\n      <th>Young Frankenstein (1974)</th>\n      <th>Young Guns (1988)</th>\n      <th>Young Guns II (1990)</th>\n      <th>Young Poisoner's Handbook, The (1995)</th>\n      <th>Zeus and Roxanne (1997)</th>\n      <th>unknown</th>\n      <th>Á köldum klaka (Cold Fever) (1994)</th>\n    </tr>\n    <tr>\n      <th>user_id</th>\n      <th></th>\n      <th></th>\n      <th></th>\n      <th></th>\n      <th></th>\n      <th></th>\n      <th></th>\n      <th></th>\n      <th></th>\n      <th></th>\n      <th></th>\n      <th></th>\n      <th></th>\n      <th></th>\n      <th></th>\n      <th></th>\n      <th></th>\n      <th></th>\n      <th></th>\n      <th></th>\n      <th></th>\n    </tr>\n  </thead>\n  <tbody>\n    <tr>\n      <th>1</th>\n      <td>0.0</td>\n      <td>0.0</td>\n      <td>2.0</td>\n      <td>5.0</td>\n      <td>0.0</td>\n      <td>0.0</td>\n      <td>3.0</td>\n      <td>4.0</td>\n      <td>0.0</td>\n      <td>0.0</td>\n      <td>...</td>\n      <td>0.0</td>\n      <td>0.0</td>\n      <td>0.0</td>\n      <td>5.0</td>\n      <td>3.0</td>\n      <td>0.0</td>\n      <td>0.0</td>\n      <td>0.0</td>\n      <td>4.0</td>\n      <td>0.0</td>\n    </tr>\n    <tr>\n      <th>2</th>\n      <td>0.0</td>\n      <td>0.0</td>\n      <td>0.0</td>\n      <td>0.0</td>\n      <td>0.0</td>\n      <td>0.0</td>\n      <td>0.0</td>\n      <td>0.0</td>\n      <td>1.0</td>\n      <td>0.0</td>\n      <td>...</td>\n      <td>0.0</td>\n      <td>0.0</td>\n      <td>0.0</td>\n      <td>0.0</td>\n      <td>0.0</td>\n      <td>0.0</td>\n      <td>0.0</td>\n      <td>0.0</td>\n      <td>0.0</td>\n      <td>0.0</td>\n    </tr>\n    <tr>\n      <th>3</th>\n      <td>0.0</td>\n      <td>0.0</td>\n      <td>0.0</td>\n      <td>0.0</td>\n      <td>2.0</td>\n      <td>0.0</td>\n      <td>0.0</td>\n      <td>0.0</td>\n      <td>0.0</td>\n      <td>0.0</td>\n      <td>...</td>\n      <td>0.0</td>\n      <td>0.0</td>\n      <td>0.0</td>\n      <td>0.0</td>\n      <td>0.0</td>\n      <td>0.0</td>\n      <td>0.0</td>\n      <td>0.0</td>\n      <td>0.0</td>\n      <td>0.0</td>\n    </tr>\n    <tr>\n      <th>4</th>\n      <td>0.0</td>\n      <td>0.0</td>\n      <td>0.0</td>\n      <td>0.0</td>\n      <td>0.0</td>\n      <td>0.0</td>\n      <td>0.0</td>\n      <td>0.0</td>\n      <td>0.0</td>\n      <td>0.0</td>\n      <td>...</td>\n      <td>0.0</td>\n      <td>0.0</td>\n      <td>0.0</td>\n      <td>0.0</td>\n      <td>0.0</td>\n      <td>0.0</td>\n      <td>0.0</td>\n      <td>0.0</td>\n      <td>0.0</td>\n      <td>0.0</td>\n    </tr>\n    <tr>\n      <th>5</th>\n      <td>0.0</td>\n      <td>0.0</td>\n      <td>2.0</td>\n      <td>0.0</td>\n      <td>0.0</td>\n      <td>0.0</td>\n      <td>0.0</td>\n      <td>4.0</td>\n      <td>0.0</td>\n      <td>0.0</td>\n      <td>...</td>\n      <td>0.0</td>\n      <td>0.0</td>\n      <td>0.0</td>\n      <td>4.0</td>\n      <td>0.0</td>\n      <td>0.0</td>\n      <td>0.0</td>\n      <td>0.0</td>\n      <td>4.0</td>\n      <td>0.0</td>\n    </tr>\n  </tbody>\n</table>\n<p>5 rows × 1664 columns</p>\n</div>"
     },
     "execution_count": 11,
     "metadata": {},
     "output_type": "execute_result"
    }
   ],
   "source": [
    "user_movie_rating.head()"
   ],
   "metadata": {
    "collapsed": false,
    "pycharm": {
     "name": "#%%\n"
    }
   }
  },
  {
   "cell_type": "code",
   "execution_count": 12,
   "outputs": [],
   "source": [
    "matrix = user_movie_rating.to_numpy()"
   ],
   "metadata": {
    "collapsed": false,
    "pycharm": {
     "name": "#%%\n"
    }
   }
  },
  {
   "cell_type": "code",
   "execution_count": 14,
   "outputs": [
    {
     "data": {
      "text/plain": "array([[0., 0., 2., ..., 0., 4., 0.],\n       [0., 0., 0., ..., 0., 0., 0.],\n       [0., 0., 0., ..., 0., 0., 0.],\n       ...,\n       [0., 0., 0., ..., 0., 0., 0.],\n       [0., 0., 0., ..., 0., 0., 0.],\n       [0., 0., 0., ..., 0., 0., 0.]])"
     },
     "execution_count": 14,
     "metadata": {},
     "output_type": "execute_result"
    }
   ],
   "source": [
    "matrix"
   ],
   "metadata": {
    "collapsed": false,
    "pycharm": {
     "name": "#%%\n"
    }
   }
  },
  {
   "cell_type": "code",
   "execution_count": 9,
   "outputs": [],
   "source": [
    "K = 20\n",
    "n_user = user_movie_rating.shape[0]\n",
    "n_movie = user_movie_rating.shape[1]"
   ],
   "metadata": {
    "collapsed": false,
    "pycharm": {
     "name": "#%%\n"
    }
   }
  },
  {
   "cell_type": "code",
   "execution_count": 10,
   "outputs": [],
   "source": [
    "W = tf.Variable(tf.random.truncated_normal([n_user, K], stddev=0.2, mean=0), name=\"users\")\n",
    "H = tf.Variable(tf.random.truncated_normal([K, n_movie], stddev=0.2, mean=0), name=\"items\")"
   ],
   "metadata": {
    "collapsed": false,
    "pycharm": {
     "name": "#%%\n"
    }
   }
  },
  {
   "cell_type": "code",
   "execution_count": 15,
   "outputs": [],
   "source": [
    "pred_matrix = tf.matmul(W, H)"
   ],
   "metadata": {
    "collapsed": false,
    "pycharm": {
     "name": "#%%\n"
    }
   }
  },
  {
   "cell_type": "code",
   "execution_count": 30,
   "outputs": [],
   "source": [
    "pred_matrix = np.asarray(pred_matrix)"
   ],
   "metadata": {
    "collapsed": false,
    "pycharm": {
     "name": "#%%\n"
    }
   }
  },
  {
   "cell_type": "code",
   "execution_count": 18,
   "outputs": [],
   "source": [
    "idx, jdx = matrix.nonzero()"
   ],
   "metadata": {
    "collapsed": false,
    "pycharm": {
     "name": "#%%\n"
    }
   }
  },
  {
   "cell_type": "code",
   "execution_count": 31,
   "outputs": [],
   "source": [
    "ys, preds = [], []\n",
    "for i, j in zip(idx, jdx):\n",
    "    ys.append(matrix[i][j])\n",
    "    preds.append(pred_matrix[i][j])"
   ],
   "metadata": {
    "collapsed": false,
    "pycharm": {
     "name": "#%%\n"
    }
   }
  },
  {
   "cell_type": "code",
   "execution_count": 32,
   "outputs": [
    {
     "name": "stdout",
     "output_type": "stream",
     "text": [
      "tf.Tensor(13.74855, shape=(), dtype=float32)\n"
     ]
    }
   ],
   "source": [
    "error = tf.keras.losses.mean_squared_error(ys, preds)\n",
    "print(error)"
   ],
   "metadata": {
    "collapsed": false,
    "pycharm": {
     "name": "#%%\n"
    }
   }
  },
  {
   "cell_type": "code",
   "execution_count": 65,
   "outputs": [],
   "source": [
    "u = tf.keras.layers.Input(shape=(1, ))\n",
    "m = tf.keras.layers.Input(shape=(1, ))\n",
    "K = 20\n",
    "u_embedding = tf.keras.layers.Embedding(n_users, K, embeddings_regularizer=tf.keras.regularizers.l2(1e-9))(u)\n",
    "m_embedding = tf.keras.layers.Embedding(n_items, K, embeddings_regularizer=tf.keras.regularizers.l2(1e-9))(m)\n",
    "\n",
    "u_bias = tf.keras.layers.Embedding(n_users, 1, embeddings_regularizer=tf.keras.regularizers.l2(1e-9))(u)\n",
    "m_bias = tf.keras.layers.Embedding(n_items, 1, embeddings_regularizer=tf.keras.regularizers.l2(1e-9))(m)\n",
    "x = tf.keras.layers.Dot(axes=2)([u_embedding, m_embedding])\n",
    "\n",
    "x = tf.keras.layers.Add()([x, u_bias, m_bias])\n",
    "x = tf.keras.layers.Flatten()(x)\n",
    "\n",
    "model = tf.keras.Model(inputs=[u, m], outputs=x)"
   ],
   "metadata": {
    "collapsed": false,
    "pycharm": {
     "name": "#%%\n"
    }
   }
  },
  {
   "cell_type": "code",
   "execution_count": 66,
   "outputs": [],
   "source": [
    "model.compile(loss='mse',\n",
    "              optimizer=tf.keras.optimizers.SGD(learning_rate=0.08,\n",
    "                                                momentum=0.9),\n",
    "              metrics=['mae'])"
   ],
   "metadata": {
    "collapsed": false,
    "pycharm": {
     "name": "#%%\n"
    }
   }
  },
  {
   "cell_type": "code",
   "execution_count": 67,
   "outputs": [
    {
     "data": {
      "text/plain": "<tf.Tensor: shape=(943, 1682), dtype=float64, numpy=\narray([[5., 3., 4., ..., 0., 0., 0.],\n       [4., 0., 0., ..., 0., 0., 0.],\n       [0., 0., 0., ..., 0., 0., 0.],\n       ...,\n       [5., 0., 0., ..., 0., 0., 0.],\n       [0., 0., 0., ..., 0., 0., 0.],\n       [0., 5., 0., ..., 0., 0., 0.]])>"
     },
     "execution_count": 67,
     "metadata": {},
     "output_type": "execute_result"
    }
   ],
   "source": [
    "rating_mat"
   ],
   "metadata": {
    "collapsed": false,
    "pycharm": {
     "name": "#%%\n"
    }
   }
  },
  {
   "cell_type": "code",
   "execution_count": 69,
   "outputs": [
    {
     "data": {
      "text/plain": "<tf.Tensor: shape=(), dtype=float64, numpy=3.0>"
     },
     "execution_count": 69,
     "metadata": {},
     "output_type": "execute_result"
    }
   ],
   "source": [],
   "metadata": {
    "collapsed": false,
    "pycharm": {
     "name": "#%%\n"
    }
   }
  },
  {
   "cell_type": "code",
   "execution_count": null,
   "outputs": [],
   "source": [],
   "metadata": {
    "collapsed": false,
    "pycharm": {
     "name": "#%%\n"
    }
   }
  }
 ],
 "metadata": {
  "kernelspec": {
   "display_name": "Python 3",
   "language": "python",
   "name": "python3"
  },
  "language_info": {
   "codemirror_mode": {
    "name": "ipython",
    "version": 2
   },
   "file_extension": ".py",
   "mimetype": "text/x-python",
   "name": "python",
   "nbconvert_exporter": "python",
   "pygments_lexer": "ipython2",
   "version": "2.7.6"
  }
 },
 "nbformat": 4,
 "nbformat_minor": 0
}