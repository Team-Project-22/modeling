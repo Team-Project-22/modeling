{
 "cells": [
  {
   "cell_type": "code",
   "execution_count": 1,
   "metadata": {
    "collapsed": true,
    "pycharm": {
     "name": "#%%\n"
    }
   },
   "outputs": [],
   "source": [
    "import tensorflow as tf\n",
    "import numpy as np\n",
    "import pandas as pd\n",
    "from scipy import stats"
   ]
  },
  {
   "cell_type": "code",
   "execution_count": 2,
   "outputs": [],
   "source": [
    "columns = ['user_id', 'item_id', 'rating', 'timestamp']\n",
    "ratings = pd.read_csv('ml-100k/u.data', sep='\\t', names=columns)\n",
    "ratings.drop('timestamp', axis=1, inplace=True)\n",
    "\n",
    "columns = ['item_id', 'movie title', 'release date', 'video release date', 'IMDb URL', 'unknown', 'Action', 'Adventure', 'Animation', 'Childrens', 'Comedy', 'Crime', 'Documentary', 'Drama', 'Fantasy', 'Film-Noir', 'Horror', 'Musical', 'Mystery', 'Romance', 'Sci-Fi', 'Thriller', 'War', 'Western']\n",
    "movies = pd.read_csv('ml-100k/u.item', sep='|', names=columns, encoding='latin-1')\n",
    "movies = movies[['item_id', 'movie title']]\n",
    "\n",
    "n_users = len(ratings['user_id'].unique())\n",
    "n_items = len(movies['item_id'].unique())\n",
    "rating_mat = np.zeros(shape= (n_users, n_items))"
   ],
   "metadata": {
    "collapsed": false,
    "pycharm": {
     "name": "#%%\n"
    }
   }
  },
  {
   "cell_type": "code",
   "execution_count": 48,
   "outputs": [
    {
     "data": {
      "text/plain": "943"
     },
     "execution_count": 48,
     "metadata": {},
     "output_type": "execute_result"
    }
   ],
   "source": [
    "n_users"
   ],
   "metadata": {
    "collapsed": false,
    "pycharm": {
     "name": "#%%\n"
    }
   }
  },
  {
   "cell_type": "code",
   "execution_count": 4,
   "outputs": [
    {
     "data": {
      "text/plain": "   user_id  item_id  rating\n0      196      242       3\n1      186      302       3\n2       22      377       1\n3      244       51       2\n4      166      346       1",
      "text/html": "<div>\n<style scoped>\n    .dataframe tbody tr th:only-of-type {\n        vertical-align: middle;\n    }\n\n    .dataframe tbody tr th {\n        vertical-align: top;\n    }\n\n    .dataframe thead th {\n        text-align: right;\n    }\n</style>\n<table border=\"1\" class=\"dataframe\">\n  <thead>\n    <tr style=\"text-align: right;\">\n      <th></th>\n      <th>user_id</th>\n      <th>item_id</th>\n      <th>rating</th>\n    </tr>\n  </thead>\n  <tbody>\n    <tr>\n      <th>0</th>\n      <td>196</td>\n      <td>242</td>\n      <td>3</td>\n    </tr>\n    <tr>\n      <th>1</th>\n      <td>186</td>\n      <td>302</td>\n      <td>3</td>\n    </tr>\n    <tr>\n      <th>2</th>\n      <td>22</td>\n      <td>377</td>\n      <td>1</td>\n    </tr>\n    <tr>\n      <th>3</th>\n      <td>244</td>\n      <td>51</td>\n      <td>2</td>\n    </tr>\n    <tr>\n      <th>4</th>\n      <td>166</td>\n      <td>346</td>\n      <td>1</td>\n    </tr>\n  </tbody>\n</table>\n</div>"
     },
     "execution_count": 4,
     "metadata": {},
     "output_type": "execute_result"
    }
   ],
   "source": [
    "ratings.head()"
   ],
   "metadata": {
    "collapsed": false,
    "pycharm": {
     "name": "#%%\n"
    }
   }
  },
  {
   "cell_type": "code",
   "execution_count": 5,
   "outputs": [],
   "source": [
    "users = []\n",
    "items = []\n",
    "rating = []\n",
    "for row in ratings.itertuples(index=False):\n",
    "    users.append(row[0])\n",
    "    items.append(row[1])\n",
    "    rating.append(row[2])"
   ],
   "metadata": {
    "collapsed": false,
    "pycharm": {
     "name": "#%%\n"
    }
   }
  },
  {
   "cell_type": "code",
   "execution_count": 6,
   "outputs": [],
   "source": [
    "K = 10\n",
    "lr = 1e-3\n",
    "batch_size= 128\n",
    "epochs = 100"
   ],
   "metadata": {
    "collapsed": false,
    "pycharm": {
     "name": "#%%\n"
    }
   }
  },
  {
   "cell_type": "code",
   "execution_count": 7,
   "outputs": [],
   "source": [
    "class MF(tf.keras.Model):\n",
    "    def __init__(self, n_users, n_items, K=10):\n",
    "        super(MF, self).__init__()\n",
    "\n",
    "        self.u_embedding = tf.keras.layers.Embedding(n_users, K, name=\"user_embedding\")\n",
    "        self.i_embedding = tf.keras.layers.Embedding(n_items, K, name=\"item_embedding\")\n",
    "        self.flatten = tf.keras.layers.Flatten()\n",
    "        self.predictor = tf.keras.layers.Dense(1, activation='relu')\n",
    "\n",
    "    def call(self, input, training=False):\n",
    "        u = self.u_embedding(input[0], training=training)\n",
    "        i = self.i_embedding(input[1], training=training)\n",
    "\n",
    "        u = self.flatten(u)\n",
    "        i = self.flatten(i)\n",
    "\n",
    "        x = tf.keras.layers.Dot(axes=1)([u, i])\n",
    "        x = self.predictor(x , training=training)\n",
    "\n",
    "        return x\n",
    "    def model(self):\n",
    "        user = tf.keras.layers.Input(shape=(1, ), name='user_input')\n",
    "        item = tf.keras.layers.Input(shape=(1, ), name='item_input')\n",
    "\n",
    "        return tf.keras.Model(inputs=[user, item], outputs=self.call([user, item]))"
   ],
   "metadata": {
    "collapsed": false,
    "pycharm": {
     "name": "#%%\n"
    }
   }
  },
  {
   "cell_type": "code",
   "execution_count": 8,
   "outputs": [
    {
     "name": "stdout",
     "output_type": "stream",
     "text": [
      "Model: \"model\"\n",
      "__________________________________________________________________________________________________\n",
      " Layer (type)                   Output Shape         Param #     Connected to                     \n",
      "==================================================================================================\n",
      " user_input (InputLayer)        [(None, 1)]          0           []                               \n",
      "                                                                                                  \n",
      " item_input (InputLayer)        [(None, 1)]          0           []                               \n",
      "                                                                                                  \n",
      " user_embedding (Embedding)     (None, 1, 10)        9430        ['user_input[0][0]']             \n",
      "                                                                                                  \n",
      " item_embedding (Embedding)     (None, 1, 10)        16820       ['item_input[0][0]']             \n",
      "                                                                                                  \n",
      " flatten (Flatten)              (None, 10)           0           ['user_embedding[0][0]',         \n",
      "                                                                  'item_embedding[0][0]']         \n",
      "                                                                                                  \n",
      " dot (Dot)                      (None, 1)            0           ['flatten[0][0]',                \n",
      "                                                                  'flatten[1][0]']                \n",
      "                                                                                                  \n",
      " dense (Dense)                  (None, 1)            2           ['dot[0][0]']                    \n",
      "                                                                                                  \n",
      "==================================================================================================\n",
      "Total params: 26,252\n",
      "Trainable params: 26,252\n",
      "Non-trainable params: 0\n",
      "__________________________________________________________________________________________________\n"
     ]
    }
   ],
   "source": [
    "model = MF(n_users, n_items, K=K).model()\n",
    "model.summary()"
   ],
   "metadata": {
    "collapsed": false,
    "pycharm": {
     "name": "#%%\n"
    }
   }
  },
  {
   "cell_type": "code",
   "execution_count": 125,
   "outputs": [],
   "source": [
    "model.compile(loss='mse',\n",
    "              optimizer=tf.keras.optimizers.SGD(learning_rate=lr, momentum=0.9),\n",
    "              metrics=[tf.keras.metrics.RootMeanSquaredError()])"
   ],
   "metadata": {
    "collapsed": false,
    "pycharm": {
     "name": "#%%\n"
    }
   }
  },
  {
   "cell_type": "code",
   "execution_count": 10,
   "outputs": [],
   "source": [
    "ratings['ranked_itemId'] = stats.rankdata(ratings['item_id'], method='dense')-1"
   ],
   "metadata": {
    "collapsed": false,
    "pycharm": {
     "name": "#%%\n"
    }
   }
  },
  {
   "cell_type": "code",
   "execution_count": 11,
   "outputs": [
    {
     "data": {
      "text/plain": "   user_id  item_id  rating  ranked_itemId\n0      196      242       3            241\n1      186      302       3            301\n2       22      377       1            376\n3      244       51       2             50\n4      166      346       1            345",
      "text/html": "<div>\n<style scoped>\n    .dataframe tbody tr th:only-of-type {\n        vertical-align: middle;\n    }\n\n    .dataframe tbody tr th {\n        vertical-align: top;\n    }\n\n    .dataframe thead th {\n        text-align: right;\n    }\n</style>\n<table border=\"1\" class=\"dataframe\">\n  <thead>\n    <tr style=\"text-align: right;\">\n      <th></th>\n      <th>user_id</th>\n      <th>item_id</th>\n      <th>rating</th>\n      <th>ranked_itemId</th>\n    </tr>\n  </thead>\n  <tbody>\n    <tr>\n      <th>0</th>\n      <td>196</td>\n      <td>242</td>\n      <td>3</td>\n      <td>241</td>\n    </tr>\n    <tr>\n      <th>1</th>\n      <td>186</td>\n      <td>302</td>\n      <td>3</td>\n      <td>301</td>\n    </tr>\n    <tr>\n      <th>2</th>\n      <td>22</td>\n      <td>377</td>\n      <td>1</td>\n      <td>376</td>\n    </tr>\n    <tr>\n      <th>3</th>\n      <td>244</td>\n      <td>51</td>\n      <td>2</td>\n      <td>50</td>\n    </tr>\n    <tr>\n      <th>4</th>\n      <td>166</td>\n      <td>346</td>\n      <td>1</td>\n      <td>345</td>\n    </tr>\n  </tbody>\n</table>\n</div>"
     },
     "execution_count": 11,
     "metadata": {},
     "output_type": "execute_result"
    }
   ],
   "source": [
    "ratings.head()"
   ],
   "metadata": {
    "collapsed": false,
    "pycharm": {
     "name": "#%%\n"
    }
   }
  },
  {
   "cell_type": "code",
   "execution_count": 12,
   "outputs": [],
   "source": [
    "real_to_ranked_itemId = {}\n",
    "for i, content in ratings.iterrows():\n",
    "    real_to_ranked_itemId[content['item_id']] = content['ranked_itemId']"
   ],
   "metadata": {
    "collapsed": false,
    "pycharm": {
     "name": "#%%\n"
    }
   }
  },
  {
   "cell_type": "code",
   "execution_count": 13,
   "outputs": [
    {
     "data": {
      "text/plain": "{242: 241,\n 302: 301,\n 377: 376,\n 51: 50,\n 346: 345,\n 474: 473,\n 265: 264,\n 465: 464,\n 451: 450,\n 86: 85,\n 257: 256,\n 1014: 1013,\n 222: 221,\n 40: 39,\n 29: 28,\n 785: 784,\n 387: 386,\n 274: 273,\n 1042: 1041,\n 1184: 1183,\n 392: 391,\n 486: 485,\n 144: 143,\n 118: 117,\n 1: 0,\n 546: 545,\n 95: 94,\n 768: 767,\n 277: 276,\n 234: 233,\n 246: 245,\n 98: 97,\n 193: 192,\n 88: 87,\n 194: 193,\n 1081: 1080,\n 603: 602,\n 796: 795,\n 32: 31,\n 16: 15,\n 304: 303,\n 979: 978,\n 564: 563,\n 327: 326,\n 201: 200,\n 1137: 1136,\n 241: 240,\n 4: 3,\n 332: 331,\n 100: 99,\n 432: 431,\n 322: 321,\n 181: 180,\n 196: 195,\n 679: 678,\n 384: 383,\n 143: 142,\n 423: 422,\n 515: 514,\n 20: 19,\n 288: 287,\n 219: 218,\n 526: 525,\n 919: 918,\n 26: 25,\n 232: 231,\n 427: 426,\n 512: 511,\n 15: 14,\n 1049: 1048,\n 416: 415,\n 165: 164,\n 690: 689,\n 248: 247,\n 1444: 1443,\n 5: 4,\n 229: 228,\n 237: 236,\n 480: 479,\n 54: 53,\n 366: 365,\n 518: 517,\n 403: 402,\n 111: 110,\n 625: 624,\n 338: 337,\n 25: 24,\n 1016: 1015,\n 154: 153,\n 275: 274,\n 1153: 1152,\n 498: 497,\n 382: 381,\n 209: 208,\n 23: 22,\n 294: 293,\n 208: 207,\n 685: 684,\n 328: 327,\n 496: 495,\n 132: 131,\n 174: 173,\n 96: 95,\n 151: 150,\n 307: 306,\n 648: 647,\n 21: 20,\n 832: 831,\n 514: 513,\n 789: 788,\n 485: 484,\n 317: 316,\n 195: 194,\n 200: 199,\n 385: 384,\n 750: 749,\n 264: 263,\n 245: 244,\n 135: 134,\n 1147: 1146,\n 471: 470,\n 658: 657,\n 140: 139,\n 379: 378,\n 815: 814,\n 479: 478,\n 368: 367,\n 1211: 1210,\n 1134: 1133,\n 836: 835,\n 272: 271,\n 756: 755,\n 787: 786,\n 14: 13,\n 955: 954,\n 419: 418,\n 405: 404,\n 504: 503,\n 466: 465,\n 268: 267,\n 117: 116,\n 273: 272,\n 559: 558,\n 794: 793,\n 323: 322,\n 177: 176,\n 231: 230,\n 2: 1,\n 137: 136,\n 1336: 1335,\n 164: 163,\n 281: 280,\n 1240: 1239,\n 298: 297,\n 443: 442,\n 1035: 1034,\n 79: 78,\n 258: 257,\n 455: 454,\n 755: 754,\n 673: 672,\n 172: 171,\n 1217: 1216,\n 719: 718,\n 1267: 1266,\n 930: 929,\n 216: 215,\n 1079: 1078,\n 452: 451,\n 61: 60,\n 48: 47,\n 360: 359,\n 77: 76,\n 476: 475,\n 483: 482,\n 748: 747,\n 220: 219,\n 255: 254,\n 280: 279,\n 202: 201,\n 408: 407,\n 235: 234,\n 228: 227,\n 1098: 1097,\n 347: 346,\n 178: 177,\n 478: 477,\n 688: 687,\n 10: 9,\n 127: 126,\n 106: 105,\n 69: 68,\n 944: 943,\n 790: 789,\n 1091: 1090,\n 214: 213,\n 1028: 1027,\n 554: 553,\n 109: 108,\n 171: 170,\n 318: 317,\n 568: 567,\n 842: 841,\n 65: 64,\n 591: 590,\n 401: 400,\n 339: 338,\n 746: 745,\n 68: 67,\n 7: 6,\n 1018: 1017,\n 218: 217,\n 623: 622,\n 334: 333,\n 344: 343,\n 145: 144,\n 56: 55,\n 89: 88,\n 141: 140,\n 576: 575,\n 133: 132,\n 153: 152,\n 813: 812,\n 872: 871,\n 146: 145,\n 507: 506,\n 367: 366,\n 468: 467,\n 595: 594,\n 11: 10,\n 520: 519,\n 82: 81,\n 501: 500,\n 3: 2,\n 695: 694,\n 198: 197,\n 189: 188,\n 767: 766,\n 705: 704,\n 64: 63,\n 357: 356,\n 484: 483,\n 508: 507,\n 303: 302,\n 215: 214,\n 749: 748,\n 829: 828,\n 204: 203,\n 1295: 1294,\n 33: 32,\n 160: 159,\n 321: 320,\n 343: 342,\n 227: 226,\n 191: 190,\n 903: 902,\n 183: 182,\n 724: 723,\n 430: 429,\n 1197: 1196,\n 134: 133,\n 751: 750,\n 212: 211,\n 256: 255,\n 662: 661,\n 984: 983,\n 1067: 1066,\n 410: 409,\n 879: 878,\n 271: 270,\n 1086: 1085,\n 649: 648,\n 951: 950,\n 197: 196,\n 678: 677,\n 199: 198,\n 709: 708,\n 169: 168,\n 597: 596,\n 1393: 1392,\n 333: 332,\n 1115: 1114,\n 577: 576,\n 378: 377,\n 425: 424,\n 959: 958,\n 1224: 1223,\n 1017: 1016,\n 175: 174,\n 286: 285,\n 558: 557,\n 66: 65,\n 206: 205,\n 402: 401,\n 640: 639,\n 522: 521,\n 62: 61,\n 12: 11,\n 291: 290,\n 462: 461,\n 612: 611,\n 758: 757,\n 845: 844,\n 163: 162,\n 1451: 1450,\n 250: 249,\n 823: 822,\n 186: 185,\n 731: 730,\n 71: 70,\n 781: 780,\n 176: 175,\n 1181: 1180,\n 78: 77,\n 436: 435,\n 631: 630,\n 716: 715,\n 188: 187,\n 699: 698,\n 604: 603,\n 97: 96,\n 173: 172,\n 460: 459,\n 715: 714,\n 17: 16,\n 315: 314,\n 505: 504,\n 279: 278,\n 80: 79,\n 238: 237,\n 60: 59,\n 325: 324,\n 407: 406,\n 531: 530,\n 587: 586,\n 892: 891,\n 1047: 1046,\n 47: 46,\n 217: 216,\n 259: 258,\n 596: 595,\n 960: 959,\n 211: 210,\n 938: 937,\n 1060: 1059,\n 404: 403,\n 305: 304,\n 210: 209,\n 278: 277,\n 770: 769,\n 252: 251,\n 156: 155,\n 1110: 1109,\n 350: 349,\n 431: 430,\n 475: 474,\n 182: 181,\n 50: 49,\n 365: 364,\n 187: 186,\n 289: 288,\n 185: 184,\n 712: 711,\n 94: 93,\n 742: 741,\n 762: 761,\n 732: 731,\n 168: 167,\n 550: 549,\n 849: 848,\n 406: 405,\n 150: 149,\n 869: 868,\n 184: 183,\n 371: 370,\n 720: 719,\n 873: 872,\n 381: 380,\n 922: 921,\n 57: 56,\n 306: 305,\n 370: 369,\n 249: 248,\n 721: 720,\n 611: 610,\n 142: 141,\n 943: 942,\n 126: 125,\n 824: 823,\n 8: 7,\n 58: 57,\n 680: 679,\n 741: 740,\n 1061: 1060,\n 448: 447,\n 900: 899,\n 941: 940,\n 905: 904,\n 1497: 1496,\n 55: 54,\n 744: 743,\n 642: 641,\n 1015: 1014,\n 121: 120,\n 301: 300,\n 81: 80,\n 284: 283,\n 740: 739,\n 22: 21,\n 864: 863,\n 1099: 1098,\n 961: 960,\n 812: 811,\n 240: 239,\n 376: 375,\n 931: 930,\n 717: 716,\n 399: 398,\n 1039: 1038,\n 1114: 1113,\n 292: 291,\n 561: 560,\n 901: 900,\n 70: 69,\n 417: 416,\n 809: 808,\n 540: 539,\n 293: 292,\n 497: 496,\n 1462: 1461,\n 1246: 1245,\n 655: 654,\n 13: 12,\n 588: 587,\n 409: 408,\n 739: 738,\n 661: 660,\n 665: 664,\n 692: 691,\n 439: 438,\n 632: 631,\n 1198: 1197,\n 609: 608,\n 225: 224,\n 128: 127,\n 866: 865,\n 295: 294,\n 49: 48,\n 626: 625,\n 707: 706,\n 586: 585,\n 593: 592,\n 147: 146,\n 1220: 1219,\n 492: 491,\n 620: 619,\n 161: 160,\n 1070: 1069,\n 449: 448,\n 948: 947,\n 509: 508,\n 870: 869,\n 39: 38,\n 1100: 1099,\n 820: 819,\n 660: 659,\n 1022: 1021,\n 120: 119,\n 780: 779,\n 44: 43,\n 686: 685,\n 28: 27,\n 729: 728,\n 52: 51,\n 230: 229,\n 506: 505,\n 566: 565,\n 774: 773,\n 1003: 1002,\n 433: 432,\n 99: 98,\n 1288: 1287,\n 190: 189,\n 1010: 1009,\n 877: 876,\n 487: 486,\n 1052: 1051,\n 287: 286,\n 659: 658,\n 927: 926,\n 696: 695,\n 269: 268,\n 179: 178,\n 440: 439,\n 806: 805,\n 572: 571,\n 654: 653,\n 324: 323,\n 736: 735,\n 92: 91,\n 461: 460,\n 129: 128,\n 9: 8,\n 152: 151,\n 233: 232,\n 589: 588,\n 203: 202,\n 1034: 1033,\n 923: 922,\n 463: 462,\n 122: 121,\n 310: 309,\n 285: 284,\n 447: 446,\n 412: 411,\n 1428: 1427,\n 977: 976,\n 1065: 1064,\n 421: 420,\n 937: 936,\n 583: 582,\n 110: 109,\n 251: 250,\n 831: 830,\n 543: 542,\n 926: 925,\n 155: 154,\n 53: 52,\n 393: 392,\n 91: 90,\n 477: 476,\n 472: 471,\n 761: 760,\n 1286: 1285,\n 93: 92,\n 644: 643,\n 982: 981,\n 491: 490,\n 511: 510,\n 397: 396,\n 162: 161,\n 513: 512,\n 375: 374,\n 38: 37,\n 418: 417,\n 858: 857,\n 131: 130,\n 87: 86,\n 725: 724,\n 72: 71,\n 663: 662,\n 1133: 1132,\n 125: 124,\n 1248: 1247,\n 354: 353,\n 105: 104,\n 73: 72,\n 239: 238,\n 860: 859,\n 1046: 1045,\n 1178: 1177,\n 523: 522,\n 634: 633,\n 1245: 1244,\n 974: 973,\n 619: 618,\n 107: 106,\n 213: 212,\n 319: 318,\n 963: 962,\n 875: 874,\n 180: 179,\n 1033: 1032,\n 380: 379,\n 59: 58,\n 1078: 1077,\n 585: 584,\n 148: 147,\n 683: 682,\n 454: 453,\n 737: 736,\n 524: 523,\n 995: 994,\n 616: 615,\n 945: 944,\n 299: 298,\n 792: 791,\n 708: 707,\n 950: 949,\n 27: 26,\n 747: 746,\n 85: 84,\n 516: 515,\n 1063: 1062,\n 682: 681,\n 221: 220,\n 1150: 1149,\n 847: 846,\n 138: 137,\n 517: 516,\n 283: 282,\n 602: 601,\n 573: 572,\n 617: 616,\n 569: 568,\n 1332: 1331,\n 703: 702,\n 386: 385,\n 331: 330,\n 355: 354,\n 949: 948,\n 488: 487,\n 114: 113,\n 24: 23,\n 763: 762,\n 43: 42,\n 953: 952,\n 670: 669,\n 510: 509,\n 372: 371,\n 335: 334,\n 779: 778,\n 435: 434,\n 223: 222,\n 1334: 1333,\n 835: 834,\n 1327: 1326,\n 263: 262,\n 450: 449,\n 651: 650,\n 316: 315,\n 929: 928,\n 580: 579,\n 1041: 1040,\n 424: 423,\n 429: 428,\n 868: 867,\n 1161: 1160,\n 166: 165,\n 1162: 1161,\n 1019: 1018,\n 908: 907,\n 1160: 1159,\n 676: 675,\n 1012: 1011,\n 1209: 1208,\n 693: 692,\n 282: 281,\n 253: 252,\n 428: 427,\n 1350: 1349,\n 363: 362,\n 300: 299,\n 1346: 1345,\n 1119: 1118,\n 674: 673,\n 411: 410,\n 527: 526,\n 1397: 1396,\n 807: 806,\n 657: 656,\n 1142: 1141,\n 113: 112,\n 426: 425,\n 1109: 1108,\n 116: 115,\n 898: 897,\n 723: 722,\n 243: 242,\n 582: 581,\n 778: 777,\n 308: 307,\n 1007: 1006,\n 641: 640,\n 1165: 1164,\n 764: 763,\n 1011: 1010,\n 1101: 1100,\n 396: 395,\n 1260: 1259,\n 904: 903,\n 312: 311,\n 1048: 1047,\n 627: 626,\n 571: 570,\n 552: 551,\n 1278: 1277,\n 499: 498,\n 1186: 1185,\n 1057: 1056,\n 207: 206,\n 309: 308,\n 671: 670,\n 83: 82,\n 482: 481,\n 276: 275,\n 1094: 1093,\n 647: 646,\n 578: 577,\n 1021: 1020,\n 886: 885,\n 1151: 1150,\n 855: 854,\n 942: 941,\n 826: 825,\n 1044: 1043,\n 254: 253,\n 290: 289,\n 848: 847,\n 542: 541,\n 581: 580,\n 1229: 1228,\n 718: 717,\n 337: 336,\n 1107: 1106,\n 539: 538,\n 821: 820,\n 364: 363,\n 553: 552,\n 313: 312,\n 1218: 1217,\n 115: 114,\n 1129: 1128,\n 493: 492,\n 36: 35,\n 205: 204,\n 102: 101,\n 1249: 1248,\n 773: 772,\n 494: 493,\n 192: 191,\n 687: 686,\n 772: 771,\n 921: 920,\n 42: 41,\n 469: 468,\n 874: 873,\n 1216: 1215,\n 1139: 1138,\n 547: 546,\n 157: 156,\n 1208: 1207,\n 1157: 1156,\n 808: 807,\n 906: 905,\n 535: 534,\n 470: 469,\n 714: 713,\n 939: 938,\n 738: 737,\n 525: 524,\n 340: 339,\n 1037: 1036,\n 530: 529,\n 528: 527,\n 754: 753,\n 1436: 1435,\n 771: 770,\n 226: 225,\n 1383: 1382,\n 745: 744,\n 1316: 1315,\n 846: 845,\n 605: 604,\n 575: 574,\n 1284: 1283,\n 1298: 1297,\n 529: 528,\n 743: 742,\n 840: 839,\n 244: 243,\n 760: 759,\n 1006: 1005,\n 1228: 1227,\n 1095: 1094,\n 34: 33,\n 103: 102,\n 441: 440,\n 90: 89,\n 1005: 1004,\n 863: 862,\n 473: 472,\n 1281: 1280,\n 356: 355,\n 630: 629,\n 793: 792,\n 766: 765,\n 1206: 1205,\n 1342: 1341,\n 980: 979,\n 1263: 1262,\n 1376: 1375,\n 1182: 1181,\n 457: 456,\n 710: 709,\n 615: 614,\n 101: 100,\n 697: 696,\n 1199: 1198,\n 395: 394,\n 983: 982,\n 684: 683,\n 971: 970,\n 1116: 1115,\n 267: 266,\n 556: 555,\n 853: 852,\n 311: 310,\n 1073: 1072,\n 975: 974,\n 361: 360,\n 643: 642,\n 704: 703,\n 997: 996,\n 260: 259,\n 990: 989,\n 969: 968,\n 167: 166,\n 650: 649,\n 320: 319,\n 63: 62,\n 965: 964,\n 652: 651,\n 1059: 1058,\n 882: 881,\n 1164: 1163,\n 1207: 1206,\n 786: 785,\n 614: 613,\n 810: 809,\n 1222: 1221,\n 139: 138,\n 769: 768,\n 765: 764,\n 67: 66,\n 624: 623,\n 1001: 1000,\n 797: 796,\n 883: 882,\n 752: 751,\n 1315: 1314,\n 560: 559,\n 345: 344,\n 1194: 1193,\n 464: 463,\n 1348: 1347,\n 932: 931,\n 1179: 1178,\n 536: 535,\n 369: 368,\n 1250: 1249,\n 880: 879,\n 629: 628,\n 775: 774,\n 1289: 1288,\n 544: 543,\n 170: 169,\n 1518: 1517,\n 413: 412,\n 618: 617,\n 326: 325,\n 123: 122,\n 628: 627,\n 262: 261,\n 31: 30,\n 1180: 1179,\n 414: 413,\n 490: 489,\n 839: 838,\n 453: 452,\n 149: 148,\n 1320: 1319,\n 827: 826,\n 124: 123,\n 570: 569,\n 843: 842,\n 844: 843,\n 420: 419,\n 590: 589,\n 1230: 1229,\n 1324: 1323,\n 895: 894,\n 1149: 1148,\n 567: 566,\n 606: 605,\n 816: 815,\n 672: 671,\n 584: 583,\n 521: 520,\n 728: 727,\n 689: 688,\n 329: 328,\n 859: 858,\n 456: 455,\n 791: 790,\n 159: 158,\n 489: 488,\n 1266: 1265,\n 1416: 1415,\n 988: 987,\n 636: 635,\n 1411: 1410,\n 533: 532,\n 1394: 1393,\n 819: 818,\n 495: 494,\n 1093: 1092,\n 1492: 1491,\n 30: 29,\n 314: 313,\n 958: 957,\n 841: 840,\n 838: 837,\n 702: 701,\n 1020: 1019,\n 947: 946,\n 1000: 999,\n 104: 103,\n 1322: 1321,\n 622: 621,\n 481: 480,\n 532: 531,\n 915: 914,\n 502: 501,\n 1291: 1290,\n 330: 329,\n 802: 801,\n 37: 36,\n 1025: 1024,\n 1364: 1363,\n 266: 265,\n 727: 726,\n 828: 827,\n 548: 547,\n 1132: 1131,\n 993: 992,\n 136: 135,\n 996: 995,\n 562: 561,\n 653: 652,\n 74: 73,\n 1493: 1492,\n 45: 44,\n 867: 866,\n 876: 875,\n 158: 157,\n 1183: 1182,\n 1118: 1117,\n 500: 499,\n 610: 609,\n 887: 886,\n 1299: 1298,\n 918: 917,\n 41: 40,\n 1066: 1065,\n 336: 335,\n 1117: 1116,\n 1169: 1168,\n 1262: 1261,\n 348: 347,\n 270: 269,\n 1053: 1052,\n 1464: 1463,\n 374: 373,\n 621: 620,\n 607: 606,\n 1030: 1029,\n 777: 776,\n 700: 699,\n 297: 296,\n 925: 924,\n 928: 927,\n 394: 393,\n 549: 548,\n 999: 998,\n 1471: 1470,\n 341: 340,\n 1009: 1008,\n 391: 390,\n 467: 466,\n 811: 810,\n 805: 804,\n 519: 518,\n 1036: 1035,\n 84: 83,\n 894: 893,\n 574: 573,\n 1113: 1112,\n 1306: 1305,\n 638: 637,\n 1314: 1313,\n 1131: 1130,\n 1069: 1068,\n 1084: 1083,\n 1407: 1406,\n 878: 877,\n 1242: 1241,\n 359: 358,\n 579: 578,\n 884: 883,\n ...}"
     },
     "execution_count": 13,
     "metadata": {},
     "output_type": "execute_result"
    }
   ],
   "source": [
    "real_to_ranked_itemId"
   ],
   "metadata": {
    "collapsed": false,
    "pycharm": {
     "name": "#%%\n"
    }
   }
  },
  {
   "cell_type": "code",
   "execution_count": 14,
   "outputs": [],
   "source": [
    "movies['ranked_itemId'] = movies['item_id'].map(real_to_ranked_itemId)"
   ],
   "metadata": {
    "collapsed": false,
    "pycharm": {
     "name": "#%%\n"
    }
   }
  },
  {
   "cell_type": "code",
   "execution_count": 15,
   "outputs": [],
   "source": [
    "ratings['user_id'] = ratings['user_id'] - 1 # make id to start from 0"
   ],
   "metadata": {
    "collapsed": false,
    "pycharm": {
     "name": "#%%\n"
    }
   }
  },
  {
   "cell_type": "code",
   "execution_count": 16,
   "outputs": [
    {
     "data": {
      "text/plain": "      item_id                                movie title  ranked_itemId\n0           1                           Toy Story (1995)              0\n1           2                           GoldenEye (1995)              1\n2           3                          Four Rooms (1995)              2\n3           4                          Get Shorty (1995)              3\n4           5                             Copycat (1995)              4\n...       ...                                        ...            ...\n1677     1678                          Mat' i syn (1997)           1677\n1678     1679                           B. Monkey (1998)           1678\n1679     1680                       Sliding Doors (1998)           1679\n1680     1681                        You So Crazy (1994)           1680\n1681     1682  Scream of Stone (Schrei aus Stein) (1991)           1681\n\n[1682 rows x 3 columns]",
      "text/html": "<div>\n<style scoped>\n    .dataframe tbody tr th:only-of-type {\n        vertical-align: middle;\n    }\n\n    .dataframe tbody tr th {\n        vertical-align: top;\n    }\n\n    .dataframe thead th {\n        text-align: right;\n    }\n</style>\n<table border=\"1\" class=\"dataframe\">\n  <thead>\n    <tr style=\"text-align: right;\">\n      <th></th>\n      <th>item_id</th>\n      <th>movie title</th>\n      <th>ranked_itemId</th>\n    </tr>\n  </thead>\n  <tbody>\n    <tr>\n      <th>0</th>\n      <td>1</td>\n      <td>Toy Story (1995)</td>\n      <td>0</td>\n    </tr>\n    <tr>\n      <th>1</th>\n      <td>2</td>\n      <td>GoldenEye (1995)</td>\n      <td>1</td>\n    </tr>\n    <tr>\n      <th>2</th>\n      <td>3</td>\n      <td>Four Rooms (1995)</td>\n      <td>2</td>\n    </tr>\n    <tr>\n      <th>3</th>\n      <td>4</td>\n      <td>Get Shorty (1995)</td>\n      <td>3</td>\n    </tr>\n    <tr>\n      <th>4</th>\n      <td>5</td>\n      <td>Copycat (1995)</td>\n      <td>4</td>\n    </tr>\n    <tr>\n      <th>...</th>\n      <td>...</td>\n      <td>...</td>\n      <td>...</td>\n    </tr>\n    <tr>\n      <th>1677</th>\n      <td>1678</td>\n      <td>Mat' i syn (1997)</td>\n      <td>1677</td>\n    </tr>\n    <tr>\n      <th>1678</th>\n      <td>1679</td>\n      <td>B. Monkey (1998)</td>\n      <td>1678</td>\n    </tr>\n    <tr>\n      <th>1679</th>\n      <td>1680</td>\n      <td>Sliding Doors (1998)</td>\n      <td>1679</td>\n    </tr>\n    <tr>\n      <th>1680</th>\n      <td>1681</td>\n      <td>You So Crazy (1994)</td>\n      <td>1680</td>\n    </tr>\n    <tr>\n      <th>1681</th>\n      <td>1682</td>\n      <td>Scream of Stone (Schrei aus Stein) (1991)</td>\n      <td>1681</td>\n    </tr>\n  </tbody>\n</table>\n<p>1682 rows × 3 columns</p>\n</div>"
     },
     "execution_count": 16,
     "metadata": {},
     "output_type": "execute_result"
    }
   ],
   "source": [
    "movies.dropna()"
   ],
   "metadata": {
    "collapsed": false,
    "pycharm": {
     "name": "#%%\n"
    }
   }
  },
  {
   "cell_type": "code",
   "execution_count": 17,
   "outputs": [],
   "source": [
    "def get_dataset_partitions(df, train_split=0.8, val_split=0.1, test_split=0.1):\n",
    "    df_sample = df.sample(frac=1, random_state=12)\n",
    "    indices_or_sections = [int(train_split * len(df)), int((1 - val_split) * len(df))]\n",
    "    train_df, val_df, test_df = np.split(df_sample, indices_or_sections)\n",
    "    return train_df, val_df, test_df"
   ],
   "metadata": {
    "collapsed": false,
    "pycharm": {
     "name": "#%%\n"
    }
   }
  },
  {
   "cell_type": "code",
   "execution_count": 18,
   "outputs": [],
   "source": [
    "train_df, val_df, test_df = get_dataset_partitions(ratings)"
   ],
   "metadata": {
    "collapsed": false,
    "pycharm": {
     "name": "#%%\n"
    }
   }
  },
  {
   "cell_type": "code",
   "execution_count": 19,
   "outputs": [
    {
     "data": {
      "text/plain": "       user_id  item_id  rating  ranked_itemId\n23441      436      404       5            403\n90125       12      813       1            812\n57892      626       62       4             61\n7228       150      223       5            222\n99545      803      132       4            131",
      "text/html": "<div>\n<style scoped>\n    .dataframe tbody tr th:only-of-type {\n        vertical-align: middle;\n    }\n\n    .dataframe tbody tr th {\n        vertical-align: top;\n    }\n\n    .dataframe thead th {\n        text-align: right;\n    }\n</style>\n<table border=\"1\" class=\"dataframe\">\n  <thead>\n    <tr style=\"text-align: right;\">\n      <th></th>\n      <th>user_id</th>\n      <th>item_id</th>\n      <th>rating</th>\n      <th>ranked_itemId</th>\n    </tr>\n  </thead>\n  <tbody>\n    <tr>\n      <th>23441</th>\n      <td>436</td>\n      <td>404</td>\n      <td>5</td>\n      <td>403</td>\n    </tr>\n    <tr>\n      <th>90125</th>\n      <td>12</td>\n      <td>813</td>\n      <td>1</td>\n      <td>812</td>\n    </tr>\n    <tr>\n      <th>57892</th>\n      <td>626</td>\n      <td>62</td>\n      <td>4</td>\n      <td>61</td>\n    </tr>\n    <tr>\n      <th>7228</th>\n      <td>150</td>\n      <td>223</td>\n      <td>5</td>\n      <td>222</td>\n    </tr>\n    <tr>\n      <th>99545</th>\n      <td>803</td>\n      <td>132</td>\n      <td>4</td>\n      <td>131</td>\n    </tr>\n  </tbody>\n</table>\n</div>"
     },
     "execution_count": 19,
     "metadata": {},
     "output_type": "execute_result"
    }
   ],
   "source": [
    "train_df.head()"
   ],
   "metadata": {
    "collapsed": false,
    "pycharm": {
     "name": "#%%\n"
    }
   }
  },
  {
   "cell_type": "code",
   "execution_count": 20,
   "outputs": [],
   "source": [
    "early_stop_callback = tf.keras.callbacks.EarlyStopping(\n",
    "    monitor='val_loss',\n",
    "    min_delta = 0,\n",
    "    patience=5,\n",
    "    verbose=0,\n",
    "    mode='auto',\n",
    "    restore_best_weights=True\n",
    ")"
   ],
   "metadata": {
    "collapsed": false,
    "pycharm": {
     "name": "#%%\n"
    }
   }
  },
  {
   "cell_type": "code",
   "execution_count": 126,
   "outputs": [
    {
     "name": "stdout",
     "output_type": "stream",
     "text": [
      "Epoch 1/100\n",
      "625/625 [==============================] - 5s 6ms/step - loss: 1.2703 - root_mean_squared_error: 1.1271 - val_loss: 1.2540 - val_root_mean_squared_error: 1.1198\n",
      "Epoch 2/100\n",
      "625/625 [==============================] - 3s 6ms/step - loss: 1.2703 - root_mean_squared_error: 1.1271 - val_loss: 1.2540 - val_root_mean_squared_error: 1.1198\n",
      "Epoch 3/100\n",
      "625/625 [==============================] - 4s 6ms/step - loss: 1.2702 - root_mean_squared_error: 1.1270 - val_loss: 1.2543 - val_root_mean_squared_error: 1.1200\n",
      "Epoch 4/100\n",
      "625/625 [==============================] - 4s 6ms/step - loss: 1.2703 - root_mean_squared_error: 1.1271 - val_loss: 1.2540 - val_root_mean_squared_error: 1.1198\n",
      "Epoch 5/100\n",
      "625/625 [==============================] - 4s 6ms/step - loss: 1.2702 - root_mean_squared_error: 1.1271 - val_loss: 1.2541 - val_root_mean_squared_error: 1.1199\n",
      "Epoch 6/100\n",
      "625/625 [==============================] - 4s 6ms/step - loss: 1.2702 - root_mean_squared_error: 1.1270 - val_loss: 1.2541 - val_root_mean_squared_error: 1.1199\n",
      "Epoch 7/100\n",
      "625/625 [==============================] - 4s 6ms/step - loss: 1.2702 - root_mean_squared_error: 1.1270 - val_loss: 1.2540 - val_root_mean_squared_error: 1.1198\n",
      "Epoch 8/100\n",
      "625/625 [==============================] - 4s 6ms/step - loss: 1.2702 - root_mean_squared_error: 1.1270 - val_loss: 1.2540 - val_root_mean_squared_error: 1.1198\n",
      "Epoch 9/100\n",
      "625/625 [==============================] - 4s 6ms/step - loss: 1.2702 - root_mean_squared_error: 1.1270 - val_loss: 1.2540 - val_root_mean_squared_error: 1.1198\n",
      "Epoch 10/100\n",
      "625/625 [==============================] - 4s 6ms/step - loss: 1.2701 - root_mean_squared_error: 1.1270 - val_loss: 1.2541 - val_root_mean_squared_error: 1.1199\n",
      "Epoch 11/100\n",
      "625/625 [==============================] - 4s 6ms/step - loss: 1.2701 - root_mean_squared_error: 1.1270 - val_loss: 1.2540 - val_root_mean_squared_error: 1.1198\n",
      "Epoch 12/100\n",
      "625/625 [==============================] - 4s 6ms/step - loss: 1.2701 - root_mean_squared_error: 1.1270 - val_loss: 1.2541 - val_root_mean_squared_error: 1.1199\n",
      "Epoch 13/100\n",
      "625/625 [==============================] - 4s 6ms/step - loss: 1.2701 - root_mean_squared_error: 1.1270 - val_loss: 1.2541 - val_root_mean_squared_error: 1.1199\n",
      "Epoch 14/100\n",
      "625/625 [==============================] - 4s 6ms/step - loss: 1.2701 - root_mean_squared_error: 1.1270 - val_loss: 1.2542 - val_root_mean_squared_error: 1.1199\n"
     ]
    }
   ],
   "source": [
    "history = model.fit(\n",
    "    x = [train_df['user_id'].values, train_df['ranked_itemId'].values],\n",
    "    y = train_df['rating'].values,\n",
    "    epochs=epochs,\n",
    "    batch_size=batch_size,\n",
    "    validation_data=([val_df['user_id'].values, val_df['ranked_itemId'].values],\n",
    "                     val_df['rating'].values),\n",
    "    callbacks=[early_stop_callback]\n",
    ")"
   ],
   "metadata": {
    "collapsed": false,
    "pycharm": {
     "name": "#%%\n"
    }
   }
  },
  {
   "cell_type": "code",
   "execution_count": 22,
   "outputs": [
    {
     "name": "stdout",
     "output_type": "stream",
     "text": [
      "79/79 - 0s - loss: 1.2540 - mse: 1.2540 - 498ms/epoch - 6ms/step\n"
     ]
    },
    {
     "data": {
      "text/plain": "[1.254015564918518, 1.254015564918518]"
     },
     "execution_count": 22,
     "metadata": {},
     "output_type": "execute_result"
    }
   ],
   "source": [
    "model.evaluate([val_df['user_id'], val_df['ranked_itemId']], val_df['rating'], batch_size=128, verbose=2)"
   ],
   "metadata": {
    "collapsed": false,
    "pycharm": {
     "name": "#%%\n"
    }
   }
  },
  {
   "cell_type": "code",
   "execution_count": 23,
   "outputs": [
    {
     "name": "stdout",
     "output_type": "stream",
     "text": [
      "79/79 - 0s - loss: 1.2560 - mse: 1.2560 - 174ms/epoch - 2ms/step\n"
     ]
    },
    {
     "data": {
      "text/plain": "[1.2560021877288818, 1.2560021877288818]"
     },
     "execution_count": 23,
     "metadata": {},
     "output_type": "execute_result"
    }
   ],
   "source": [
    "model.evaluate([test_df['user_id'], test_df['ranked_itemId']], test_df['rating'], batch_size=128, verbose=2)"
   ],
   "metadata": {
    "collapsed": false,
    "pycharm": {
     "name": "#%%\n"
    }
   }
  },
  {
   "cell_type": "markdown",
   "source": [
    "# Something using with the embeddings"
   ],
   "metadata": {
    "collapsed": false,
    "pycharm": {
     "name": "#%% md\n"
    }
   }
  },
  {
   "cell_type": "code",
   "execution_count": 37,
   "outputs": [
    {
     "name": "stdout",
     "output_type": "stream",
     "text": [
      "53/53 [==============================] - 0s 675us/step\n"
     ]
    }
   ],
   "source": [
    "movie_embedding_model = tf.keras.Model(inputs=model.get_layer('item_input').input, outputs = model.get_layer('item_embedding').output)\n",
    "movie_embeddings = movie_embedding_model.predict(movies['ranked_itemId'])\n",
    "movie_embeddings = movie_embeddings.reshape(len(movies), 10)"
   ],
   "metadata": {
    "collapsed": false,
    "pycharm": {
     "name": "#%%\n"
    }
   }
  },
  {
   "cell_type": "code",
   "execution_count": 64,
   "outputs": [
    {
     "name": "stdout",
     "output_type": "stream",
     "text": [
      "(943,)\n",
      "(943, 1)\n"
     ]
    }
   ],
   "source": [
    "user_id_list = np.sort(ratings['user_id'].unique())\n",
    "print(user_id_list.shape)\n",
    "user_id_list = np.expand_dims(user_id_list, 1)\n",
    "print(user_id_list.shape)"
   ],
   "metadata": {
    "collapsed": false,
    "pycharm": {
     "name": "#%%\n"
    }
   }
  },
  {
   "cell_type": "code",
   "execution_count": 66,
   "outputs": [
    {
     "data": {
      "text/plain": "(1682,)"
     },
     "execution_count": 66,
     "metadata": {},
     "output_type": "execute_result"
    }
   ],
   "source": [
    "movies['ranked_itemId'].shape"
   ],
   "metadata": {
    "collapsed": false,
    "pycharm": {
     "name": "#%%\n"
    }
   }
  },
  {
   "cell_type": "code",
   "execution_count": 68,
   "outputs": [
    {
     "name": "stdout",
     "output_type": "stream",
     "text": [
      "30/30 [==============================] - 0s 722us/step\n"
     ]
    }
   ],
   "source": [
    "pred_model = tf.keras.Model(inputs=model.get_layer('user_input').input, outputs = model.get_layer('user_embedding').output)\n",
    "pred = pred_model.predict(user_id_list)"
   ],
   "metadata": {
    "collapsed": false,
    "pycharm": {
     "name": "#%%\n"
    }
   }
  },
  {
   "cell_type": "code",
   "execution_count": 72,
   "outputs": [],
   "source": [
    "pred = pred.reshape(n_users, 10)\n",
    "pred.shape"
   ],
   "metadata": {
    "collapsed": false,
    "pycharm": {
     "name": "#%%\n"
    }
   }
  },
  {
   "cell_type": "code",
   "execution_count": 116,
   "outputs": [],
   "source": [
    "x = tf.matmul(pred, movie_embeddings, transpose_b=True)"
   ],
   "metadata": {
    "collapsed": false,
    "pycharm": {
     "name": "#%%\n"
    }
   }
  },
  {
   "cell_type": "code",
   "execution_count": 120,
   "outputs": [],
   "source": [
    "user_195 = ratings.loc[ratings[\"user_id\"] == 195].pivot_table('rating', index='user_id', columns='item_id')"
   ],
   "metadata": {
    "collapsed": false,
    "pycharm": {
     "name": "#%%\n"
    }
   }
  },
  {
   "cell_type": "code",
   "execution_count": 121,
   "outputs": [
    {
     "data": {
      "text/plain": "array([ 3.2298830e-03,  3.7745046e-03, -4.4286274e-04, -2.4183438e-04,\n       -4.3022814e-03,  5.0310593e-04,  5.7645061e-04, -1.7308421e-04,\n       -4.7843917e-03,  3.1654555e-03, -1.3112333e-03, -1.1006403e-03,\n        2.7345435e-03, -1.4913690e-03,  2.6532388e-03,  6.1706570e-04,\n        6.3912757e-04,  4.4263020e-04,  8.2273775e-04, -2.3993268e-03,\n        4.7901319e-03, -1.2381643e-03, -1.1355884e-04, -3.6812644e-03,\n       -4.0657155e-04,  5.7887990e-04,  1.1146816e-03, -7.1629940e-05,\n        2.8749229e-05, -1.6659141e-03, -2.3951547e-03,  2.1847405e-03,\n       -2.8129562e-03, -2.5003008e-04,  4.1458271e-03, -8.4723963e-04,\n       -4.5075403e-03, -3.1003738e-03, -3.8351386e-03], dtype=float32)"
     },
     "execution_count": 121,
     "metadata": {},
     "output_type": "execute_result"
    }
   ],
   "source": [
    "np.array(x[195])[user_195.columns]"
   ],
   "metadata": {
    "collapsed": false,
    "pycharm": {
     "name": "#%%\n"
    }
   }
  },
  {
   "cell_type": "code",
   "execution_count": 114,
   "outputs": [
    {
     "data": {
      "text/plain": "<tf.Tensor: shape=(1,), dtype=float32, numpy=array([0.], dtype=float32)>"
     },
     "execution_count": 114,
     "metadata": {},
     "output_type": "execute_result"
    }
   ],
   "source": [
    "out[195]"
   ],
   "metadata": {
    "collapsed": false,
    "pycharm": {
     "name": "#%%\n"
    }
   }
  },
  {
   "cell_type": "code",
   "execution_count": 40,
   "outputs": [],
   "source": [
    "from sklearn.cluster import KMeans"
   ],
   "metadata": {
    "collapsed": false,
    "pycharm": {
     "name": "#%%\n"
    }
   }
  },
  {
   "cell_type": "code",
   "execution_count": 41,
   "outputs": [],
   "source": [
    "kluster = range(1, 10)\n",
    "\n",
    "inertias = []\n",
    "mapping = {}\n",
    "\n",
    "for k in kluster:\n",
    "    kmeanModel = KMeans(n_clusters=k, random_state=0).fit(movie_embeddings)\n",
    "    inertias.append(kmeanModel.inertia_)\n",
    "    mapping[k] = kmeanModel.inertia_"
   ],
   "metadata": {
    "collapsed": false,
    "pycharm": {
     "name": "#%%\n"
    }
   }
  },
  {
   "cell_type": "code",
   "execution_count": 42,
   "outputs": [],
   "source": [
    "import matplotlib.pyplot as plt"
   ],
   "metadata": {
    "collapsed": false,
    "pycharm": {
     "name": "#%%\n"
    }
   }
  },
  {
   "cell_type": "code",
   "execution_count": 43,
   "outputs": [
    {
     "data": {
      "text/plain": "<Figure size 432x288 with 1 Axes>",
      "image/png": "[encoded data removed]"
     },
     "metadata": {
      "needs_background": "light"
     },
     "output_type": "display_data"
    }
   ],
   "source": [
    "plt.plot(kluster, inertias, 'bx-')\n",
    "plt.xlabel(\"K\")\n",
    "plt.ylabel(\"inertia\")\n",
    "plt.title(\"Elbow Methos using Inertia\")\n",
    "plt.show()"
   ],
   "metadata": {
    "collapsed": false,
    "pycharm": {
     "name": "#%%\n"
    }
   }
  },
  {
   "cell_type": "code",
   "execution_count": 44,
   "outputs": [],
   "source": [
    "kmeans = KMeans(n_clusters=4, random_state=0).fit(movie_embeddings)"
   ],
   "metadata": {
    "collapsed": false,
    "pycharm": {
     "name": "#%%\n"
    }
   }
  },
  {
   "cell_type": "code",
   "execution_count": 73,
   "outputs": [
    {
     "name": "stdout",
     "output_type": "stream",
     "text": [
      "Cluster #0\n",
      "\t Scream of Stone (Schrei aus Stein) (1991)  -  1\n",
      "\t You So Crazy (1994)  -  1\n",
      "\t Sliding Doors (1998)  -  1\n",
      "\t Sweet Nothing (1995)  -  1\n",
      "\t War at Home, The (1996)  -  1\n",
      "\t Mamma Roma (1962)  -  1\n",
      "\t Nothing Personal (1995)  -  1\n",
      "\t Rough Magic (1995)  -  2\n",
      "\t Small Faces (1995)  -  1\n",
      "\t Little City (1998)  -  2\n",
      "Cluster #1\n",
      "\t MURDER and murder (1996)  -  1\n",
      "\t Next Step, The (1995)  -  1\n",
      "\t Ripe (1996)  -  1\n",
      "\t New Age, The (1994)  -  1\n",
      "\t Target (1995)  -  1\n",
      "\t Favor, The (1994)  -  1\n",
      "\t Temptress Moon (Feng Yue) (1996)  -  3\n",
      "\t Big One, The (1997)  -  1\n",
      "\t Men With Guns (1997)  -  2\n",
      "\t Sudden Manhattan (1996)  -  2\n",
      "Cluster #2\n",
      "\t Sunchaser, The (1996)  -  1\n",
      "\t Further Gesture, A (1996)  -  1\n",
      "\t Tainted (1998)  -  1\n",
      "\t Brother's Kiss, A (1997)  -  1\n",
      "\t Substance of Fire, The (1996)  -  3\n",
      "\t Entertaining Angels: The Dorothy Day Story (1996)  -  1\n",
      "\t Butcher Boy, The (1998)  -  1\n",
      "\t Eighth Day, The (1996)  -  1\n",
      "\t Bitter Sugar (Azucar Amargo) (1996)  -  3\n",
      "\t Brothers in Trouble (1995)  -  1\n",
      "Cluster #3\n",
      "\t B. Monkey (1998)  -  1\n",
      "\t Mat' i syn (1997)  -  1\n",
      "\t Mirage (1995)  -  1\n",
      "\t Kika (1993)  -  2\n",
      "\t Wedding Bell Blues (1996)  -  1\n",
      "\t 8 Heads in a Duffel Bag (1997)  -  4\n",
      "\t Getting Away With Murder (1996)  -  1\n",
      "\t Chairman of the Board (1998)  -  1\n",
      "\t Some Mother's Son (1996)  -  2\n",
      "\t Dadetown (1995)  -  1\n"
     ]
    }
   ],
   "source": [
    "for cluster in range(4):\n",
    "    print(\"Cluster #{}\".format(cluster))\n",
    "    movies_list = []\n",
    "    for movie_index in np.where(kmeans.labels_ == cluster)[0]:\n",
    "        movie_name = movies.iloc[movie_index]['movie title']\n",
    "        movie_id = movies.iloc[movie_index]['ranked_itemId']\n",
    "        movie_rating_count = ratings.loc[ratings['ranked_itemId'] == movie_id].count()[0]\n",
    "        movies_list.append((movie_name, movie_id, movie_rating_count))\n",
    "\n",
    "    for movie in sorted(movies_list, key=lambda x:x[1], reverse=True)[:10]:\n",
    "        print(\"\\t\", movie[0], ' - ', movie[2])"
   ],
   "metadata": {
    "collapsed": false,
    "pycharm": {
     "name": "#%%\n"
    }
   }
  },
  {
   "cell_type": "code",
   "execution_count": null,
   "outputs": [],
   "source": [
    "test_user = np.zeros(n_users, 1)"
   ],
   "metadata": {
    "collapsed": false,
    "pycharm": {
     "name": "#%%\n"
    }
   }
  }
 ],
 "metadata": {
  "kernelspec": {
   "display_name": "Python 3",
   "language": "python",
   "name": "python3"
  },
  "language_info": {
   "codemirror_mode": {
    "name": "ipython",
    "version": 2
   },
   "file_extension": ".py",
   "mimetype": "text/x-python",
   "name": "python",
   "nbconvert_exporter": "python",
   "pygments_lexer": "ipython2",
   "version": "2.7.6"
  }
 },
 "nbformat": 4,
 "nbformat_minor": 0
}