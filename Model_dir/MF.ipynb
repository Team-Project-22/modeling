{
 "cells": [
  {
   "cell_type": "code",
   "execution_count": 1,
   "metadata": {
    "collapsed": true,
    "pycharm": {
     "name": "#%%\n"
    }
   },
   "outputs": [],
   "source": [
    "import tensorflow as tf\n",
    "import numpy as np\n",
    "import pandas as pd"
   ]
  },
  {
   "cell_type": "code",
   "execution_count": 2,
   "outputs": [],
   "source": [
    "ratings = pd.read_csv('../ml-100k/u.data', sep='\\t', names=['user_id', 'item_id', 'rating', 'timestamp'])"
   ],
   "metadata": {
    "collapsed": false,
    "pycharm": {
     "name": "#%%\n"
    }
   }
  },
  {
   "cell_type": "code",
   "execution_count": 3,
   "outputs": [
    {
     "data": {
      "text/plain": "   user_id  item_id  rating  timestamp\n0      196      242       3  881250949\n1      186      302       3  891717742\n2       22      377       1  878887116\n3      244       51       2  880606923\n4      166      346       1  886397596",
      "text/html": "<div>\n<style scoped>\n    .dataframe tbody tr th:only-of-type {\n        vertical-align: middle;\n    }\n\n    .dataframe tbody tr th {\n        vertical-align: top;\n    }\n\n    .dataframe thead th {\n        text-align: right;\n    }\n</style>\n<table border=\"1\" class=\"dataframe\">\n  <thead>\n    <tr style=\"text-align: right;\">\n      <th></th>\n      <th>user_id</th>\n      <th>item_id</th>\n      <th>rating</th>\n      <th>timestamp</th>\n    </tr>\n  </thead>\n  <tbody>\n    <tr>\n      <th>0</th>\n      <td>196</td>\n      <td>242</td>\n      <td>3</td>\n      <td>881250949</td>\n    </tr>\n    <tr>\n      <th>1</th>\n      <td>186</td>\n      <td>302</td>\n      <td>3</td>\n      <td>891717742</td>\n    </tr>\n    <tr>\n      <th>2</th>\n      <td>22</td>\n      <td>377</td>\n      <td>1</td>\n      <td>878887116</td>\n    </tr>\n    <tr>\n      <th>3</th>\n      <td>244</td>\n      <td>51</td>\n      <td>2</td>\n      <td>880606923</td>\n    </tr>\n    <tr>\n      <th>4</th>\n      <td>166</td>\n      <td>346</td>\n      <td>1</td>\n      <td>886397596</td>\n    </tr>\n  </tbody>\n</table>\n</div>"
     },
     "execution_count": 3,
     "metadata": {},
     "output_type": "execute_result"
    }
   ],
   "source": [
    "ratings.head()"
   ],
   "metadata": {
    "collapsed": false,
    "pycharm": {
     "name": "#%%\n"
    }
   }
  },
  {
   "cell_type": "code",
   "execution_count": 4,
   "outputs": [],
   "source": [
    "columns = ['item_id', 'movie title', 'release date', 'video release date', 'IMDb URL', 'unknown', 'Action', 'Adventure', 'Animation', 'Childrens', 'Comedy', 'Crime', 'Documentary', 'Drama', 'Fantasy', 'Film-Noir', 'Horror', 'Musical', 'Mystery', 'Romance', 'Sci-Fi', 'Thriller', 'War', 'Western']\n",
    "movies = pd.read_csv('../ml-100k/u.item', sep='|', names=columns, encoding='latin-1')\n",
    "movies = movies[['item_id', 'movie title']]"
   ],
   "metadata": {
    "collapsed": false,
    "pycharm": {
     "name": "#%%\n"
    }
   }
  },
  {
   "cell_type": "code",
   "execution_count": 5,
   "outputs": [
    {
     "data": {
      "text/plain": "   item_id        movie title\n0        1   Toy Story (1995)\n1        2   GoldenEye (1995)\n2        3  Four Rooms (1995)\n3        4  Get Shorty (1995)\n4        5     Copycat (1995)",
      "text/html": "<div>\n<style scoped>\n    .dataframe tbody tr th:only-of-type {\n        vertical-align: middle;\n    }\n\n    .dataframe tbody tr th {\n        vertical-align: top;\n    }\n\n    .dataframe thead th {\n        text-align: right;\n    }\n</style>\n<table border=\"1\" class=\"dataframe\">\n  <thead>\n    <tr style=\"text-align: right;\">\n      <th></th>\n      <th>item_id</th>\n      <th>movie title</th>\n    </tr>\n  </thead>\n  <tbody>\n    <tr>\n      <th>0</th>\n      <td>1</td>\n      <td>Toy Story (1995)</td>\n    </tr>\n    <tr>\n      <th>1</th>\n      <td>2</td>\n      <td>GoldenEye (1995)</td>\n    </tr>\n    <tr>\n      <th>2</th>\n      <td>3</td>\n      <td>Four Rooms (1995)</td>\n    </tr>\n    <tr>\n      <th>3</th>\n      <td>4</td>\n      <td>Get Shorty (1995)</td>\n    </tr>\n    <tr>\n      <th>4</th>\n      <td>5</td>\n      <td>Copycat (1995)</td>\n    </tr>\n  </tbody>\n</table>\n</div>"
     },
     "execution_count": 5,
     "metadata": {},
     "output_type": "execute_result"
    }
   ],
   "source": [
    "movies.head()"
   ],
   "metadata": {
    "collapsed": false,
    "pycharm": {
     "name": "#%%\n"
    }
   }
  },
  {
   "cell_type": "code",
   "execution_count": 6,
   "outputs": [],
   "source": [
    "movies['item_id'] = movies['item_id'] - 1"
   ],
   "metadata": {
    "collapsed": false,
    "pycharm": {
     "name": "#%%\n"
    }
   }
  },
  {
   "cell_type": "code",
   "execution_count": 7,
   "outputs": [
    {
     "data": {
      "text/plain": "   item_id        movie title\n0        0   Toy Story (1995)\n1        1   GoldenEye (1995)\n2        2  Four Rooms (1995)\n3        3  Get Shorty (1995)\n4        4     Copycat (1995)",
      "text/html": "<div>\n<style scoped>\n    .dataframe tbody tr th:only-of-type {\n        vertical-align: middle;\n    }\n\n    .dataframe tbody tr th {\n        vertical-align: top;\n    }\n\n    .dataframe thead th {\n        text-align: right;\n    }\n</style>\n<table border=\"1\" class=\"dataframe\">\n  <thead>\n    <tr style=\"text-align: right;\">\n      <th></th>\n      <th>item_id</th>\n      <th>movie title</th>\n    </tr>\n  </thead>\n  <tbody>\n    <tr>\n      <th>0</th>\n      <td>0</td>\n      <td>Toy Story (1995)</td>\n    </tr>\n    <tr>\n      <th>1</th>\n      <td>1</td>\n      <td>GoldenEye (1995)</td>\n    </tr>\n    <tr>\n      <th>2</th>\n      <td>2</td>\n      <td>Four Rooms (1995)</td>\n    </tr>\n    <tr>\n      <th>3</th>\n      <td>3</td>\n      <td>Get Shorty (1995)</td>\n    </tr>\n    <tr>\n      <th>4</th>\n      <td>4</td>\n      <td>Copycat (1995)</td>\n    </tr>\n  </tbody>\n</table>\n</div>"
     },
     "execution_count": 7,
     "metadata": {},
     "output_type": "execute_result"
    }
   ],
   "source": [
    "movies.head()"
   ],
   "metadata": {
    "collapsed": false,
    "pycharm": {
     "name": "#%%\n"
    }
   }
  },
  {
   "cell_type": "code",
   "execution_count": 12,
   "outputs": [],
   "source": [
    "user_list = ratings['user_id'].unique()"
   ],
   "metadata": {
    "collapsed": false,
    "pycharm": {
     "name": "#%%\n"
    }
   }
  },
  {
   "cell_type": "code",
   "execution_count": 13,
   "outputs": [],
   "source": [
    "user_list = np.array(sorted(user_list))"
   ],
   "metadata": {
    "collapsed": false,
    "pycharm": {
     "name": "#%%\n"
    }
   }
  },
  {
   "cell_type": "code",
   "execution_count": 14,
   "outputs": [
    {
     "data": {
      "text/plain": "array([  1,   2,   3,   4,   5,   6,   7,   8,   9,  10,  11,  12,  13,\n        14,  15,  16,  17,  18,  19,  20,  21,  22,  23,  24,  25,  26,\n        27,  28,  29,  30,  31,  32,  33,  34,  35,  36,  37,  38,  39,\n        40,  41,  42,  43,  44,  45,  46,  47,  48,  49,  50,  51,  52,\n        53,  54,  55,  56,  57,  58,  59,  60,  61,  62,  63,  64,  65,\n        66,  67,  68,  69,  70,  71,  72,  73,  74,  75,  76,  77,  78,\n        79,  80,  81,  82,  83,  84,  85,  86,  87,  88,  89,  90,  91,\n        92,  93,  94,  95,  96,  97,  98,  99, 100, 101, 102, 103, 104,\n       105, 106, 107, 108, 109, 110, 111, 112, 113, 114, 115, 116, 117,\n       118, 119, 120, 121, 122, 123, 124, 125, 126, 127, 128, 129, 130,\n       131, 132, 133, 134, 135, 136, 137, 138, 139, 140, 141, 142, 143,\n       144, 145, 146, 147, 148, 149, 150, 151, 152, 153, 154, 155, 156,\n       157, 158, 159, 160, 161, 162, 163, 164, 165, 166, 167, 168, 169,\n       170, 171, 172, 173, 174, 175, 176, 177, 178, 179, 180, 181, 182,\n       183, 184, 185, 186, 187, 188, 189, 190, 191, 192, 193, 194, 195,\n       196, 197, 198, 199, 200, 201, 202, 203, 204, 205, 206, 207, 208,\n       209, 210, 211, 212, 213, 214, 215, 216, 217, 218, 219, 220, 221,\n       222, 223, 224, 225, 226, 227, 228, 229, 230, 231, 232, 233, 234,\n       235, 236, 237, 238, 239, 240, 241, 242, 243, 244, 245, 246, 247,\n       248, 249, 250, 251, 252, 253, 254, 255, 256, 257, 258, 259, 260,\n       261, 262, 263, 264, 265, 266, 267, 268, 269, 270, 271, 272, 273,\n       274, 275, 276, 277, 278, 279, 280, 281, 282, 283, 284, 285, 286,\n       287, 288, 289, 290, 291, 292, 293, 294, 295, 296, 297, 298, 299,\n       300, 301, 302, 303, 304, 305, 306, 307, 308, 309, 310, 311, 312,\n       313, 314, 315, 316, 317, 318, 319, 320, 321, 322, 323, 324, 325,\n       326, 327, 328, 329, 330, 331, 332, 333, 334, 335, 336, 337, 338,\n       339, 340, 341, 342, 343, 344, 345, 346, 347, 348, 349, 350, 351,\n       352, 353, 354, 355, 356, 357, 358, 359, 360, 361, 362, 363, 364,\n       365, 366, 367, 368, 369, 370, 371, 372, 373, 374, 375, 376, 377,\n       378, 379, 380, 381, 382, 383, 384, 385, 386, 387, 388, 389, 390,\n       391, 392, 393, 394, 395, 396, 397, 398, 399, 400, 401, 402, 403,\n       404, 405, 406, 407, 408, 409, 410, 411, 412, 413, 414, 415, 416,\n       417, 418, 419, 420, 421, 422, 423, 424, 425, 426, 427, 428, 429,\n       430, 431, 432, 433, 434, 435, 436, 437, 438, 439, 440, 441, 442,\n       443, 444, 445, 446, 447, 448, 449, 450, 451, 452, 453, 454, 455,\n       456, 457, 458, 459, 460, 461, 462, 463, 464, 465, 466, 467, 468,\n       469, 470, 471, 472, 473, 474, 475, 476, 477, 478, 479, 480, 481,\n       482, 483, 484, 485, 486, 487, 488, 489, 490, 491, 492, 493, 494,\n       495, 496, 497, 498, 499, 500, 501, 502, 503, 504, 505, 506, 507,\n       508, 509, 510, 511, 512, 513, 514, 515, 516, 517, 518, 519, 520,\n       521, 522, 523, 524, 525, 526, 527, 528, 529, 530, 531, 532, 533,\n       534, 535, 536, 537, 538, 539, 540, 541, 542, 543, 544, 545, 546,\n       547, 548, 549, 550, 551, 552, 553, 554, 555, 556, 557, 558, 559,\n       560, 561, 562, 563, 564, 565, 566, 567, 568, 569, 570, 571, 572,\n       573, 574, 575, 576, 577, 578, 579, 580, 581, 582, 583, 584, 585,\n       586, 587, 588, 589, 590, 591, 592, 593, 594, 595, 596, 597, 598,\n       599, 600, 601, 602, 603, 604, 605, 606, 607, 608, 609, 610, 611,\n       612, 613, 614, 615, 616, 617, 618, 619, 620, 621, 622, 623, 624,\n       625, 626, 627, 628, 629, 630, 631, 632, 633, 634, 635, 636, 637,\n       638, 639, 640, 641, 642, 643, 644, 645, 646, 647, 648, 649, 650,\n       651, 652, 653, 654, 655, 656, 657, 658, 659, 660, 661, 662, 663,\n       664, 665, 666, 667, 668, 669, 670, 671, 672, 673, 674, 675, 676,\n       677, 678, 679, 680, 681, 682, 683, 684, 685, 686, 687, 688, 689,\n       690, 691, 692, 693, 694, 695, 696, 697, 698, 699, 700, 701, 702,\n       703, 704, 705, 706, 707, 708, 709, 710, 711, 712, 713, 714, 715,\n       716, 717, 718, 719, 720, 721, 722, 723, 724, 725, 726, 727, 728,\n       729, 730, 731, 732, 733, 734, 735, 736, 737, 738, 739, 740, 741,\n       742, 743, 744, 745, 746, 747, 748, 749, 750, 751, 752, 753, 754,\n       755, 756, 757, 758, 759, 760, 761, 762, 763, 764, 765, 766, 767,\n       768, 769, 770, 771, 772, 773, 774, 775, 776, 777, 778, 779, 780,\n       781, 782, 783, 784, 785, 786, 787, 788, 789, 790, 791, 792, 793,\n       794, 795, 796, 797, 798, 799, 800, 801, 802, 803, 804, 805, 806,\n       807, 808, 809, 810, 811, 812, 813, 814, 815, 816, 817, 818, 819,\n       820, 821, 822, 823, 824, 825, 826, 827, 828, 829, 830, 831, 832,\n       833, 834, 835, 836, 837, 838, 839, 840, 841, 842, 843, 844, 845,\n       846, 847, 848, 849, 850, 851, 852, 853, 854, 855, 856, 857, 858,\n       859, 860, 861, 862, 863, 864, 865, 866, 867, 868, 869, 870, 871,\n       872, 873, 874, 875, 876, 877, 878, 879, 880, 881, 882, 883, 884,\n       885, 886, 887, 888, 889, 890, 891, 892, 893, 894, 895, 896, 897,\n       898, 899, 900, 901, 902, 903, 904, 905, 906, 907, 908, 909, 910,\n       911, 912, 913, 914, 915, 916, 917, 918, 919, 920, 921, 922, 923,\n       924, 925, 926, 927, 928, 929, 930, 931, 932, 933, 934, 935, 936,\n       937, 938, 939, 940, 941, 942, 943], dtype=int64)"
     },
     "execution_count": 14,
     "metadata": {},
     "output_type": "execute_result"
    }
   ],
   "source": [
    "user_list"
   ],
   "metadata": {
    "collapsed": false,
    "pycharm": {
     "name": "#%%\n"
    }
   }
  },
  {
   "cell_type": "code",
   "execution_count": 11,
   "outputs": [],
   "source": [
    "K = 20\n",
    "lr = 1e-4\n",
    "batch_size = 128\n",
    "epochs = 100"
   ],
   "metadata": {
    "collapsed": false,
    "pycharm": {
     "name": "#%%\n"
    }
   }
  },
  {
   "cell_type": "code",
   "execution_count": 60,
   "outputs": [],
   "source": [
    "class MF(tf.keras.Model):\n",
    "    def __init__(self, n_users, n_items, K=20):\n",
    "        super(MF, self).__init__()\n",
    "\n",
    "        self.u_embedding = tf.keras.layers.Embedding(n_users, K, name=\"user_embedding\")\n",
    "        self.i_embedding = tf.keras.layers.Embedding(n_items, K, name=\"item_embedding\")\n",
    "        self.flatten = tf.keras.layers.Flatten()\n",
    "        self.dot = tf.keras.layers.Dot(axes=2)\n",
    "\n",
    "    def call(self, input, training=False):\n",
    "        u = self.u_embedding(input[0])\n",
    "        i = self.i_embedding(input[1])\n",
    "\n",
    "        x = self.dot([u, i])\n",
    "\n",
    "        return x\n",
    "\n",
    "    def train_step(self, data):\n",
    "        input, y = data\n",
    "\n",
    "        with tf.GradientTape() as tape:\n",
    "            y_pred = self(input, training=True)\n",
    "\n",
    "            self.indices = tf.sparse.from_dense(y).indices # y에서 0이 아닌부분만의 index들\n",
    "\n",
    "            loss = self.compiled_loss(tf.gather_nd(y, self.indices), tf.gather_nd(y_pred, self.indices),  regularization_losses=self.losses) # loss 값 업데이트는, 위의 indices들에 대해서만 해야함.\n",
    "\n",
    "        trainable_vars = self.trainable_variables\n",
    "        gradients = tape.gradient(loss, trainable_vars)\n",
    "        self.optimizer.apply_gradients(zip(gradients, trainable_vars))\n",
    "        self.compiled_metrics.update_state(y, y_pred)\n",
    "\n",
    "        return {m.name : m.result() for m in self.metrics}"
   ],
   "metadata": {
    "collapsed": false,
    "pycharm": {
     "name": "#%%\n"
    }
   }
  },
  {
   "cell_type": "code",
   "execution_count": 61,
   "outputs": [],
   "source": [
    "y = tf.constant([[[0, 2, 3, 0],\n",
    "                 [3, 5, 0, 0],\n",
    "                 [1, 3, 2, 4],\n",
    "                 [5, 0, 1, 2]]])\n",
    "y_pred = tf.constant([[[0, 2.1, 2.8, 0],\n",
    "                 [3, 4.7, 0, 0],\n",
    "                [0.8, 2.5, 1.9, 3.4],\n",
    "                [4.7, 0, 0.8, 1.9]]])"
   ],
   "metadata": {
    "collapsed": false,
    "pycharm": {
     "name": "#%%\n"
    }
   }
  },
  {
   "cell_type": "code",
   "execution_count": 63,
   "outputs": [],
   "source": [
    "model = MF(4, 4, K = 3)"
   ],
   "metadata": {
    "collapsed": false,
    "pycharm": {
     "name": "#%%\n"
    }
   }
  },
  {
   "cell_type": "code",
   "execution_count": 64,
   "outputs": [],
   "source": [
    "model.compile(optimizer=tf.keras.optimizers.SGD(learning_rate=2e-2, momentum=0.9),\n",
    "              loss=\"mse\",\n",
    "              metrics=[\"mse\"])"
   ],
   "metadata": {
    "collapsed": false,
    "pycharm": {
     "name": "#%%\n"
    }
   }
  },
  {
   "cell_type": "code",
   "execution_count": 65,
   "outputs": [],
   "source": [
    "user = np.expand_dims(np.arange(4), axis=0)\n",
    "movie = np.expand_dims(np.arange(4), axis=0)"
   ],
   "metadata": {
    "collapsed": false,
    "pycharm": {
     "name": "#%%\n"
    }
   }
  },
  {
   "cell_type": "code",
   "execution_count": 66,
   "outputs": [
    {
     "name": "stdout",
     "output_type": "stream",
     "text": [
      "Epoch 1/150\n",
      "1/1 [==============================] - 1s 651ms/step - loss: 9.7246 - mse: 6.6856\n",
      "Epoch 2/150\n",
      "1/1 [==============================] - 0s 10ms/step - loss: 9.7242 - mse: 6.6854\n",
      "Epoch 3/150\n",
      "1/1 [==============================] - 0s 0s/step - loss: 9.7235 - mse: 6.6849\n",
      "Epoch 4/150\n",
      "1/1 [==============================] - 0s 10ms/step - loss: 9.7224 - mse: 6.6841\n",
      "Epoch 5/150\n",
      "1/1 [==============================] - 0s 10ms/step - loss: 9.7209 - mse: 6.6831\n",
      "Epoch 6/150\n",
      "1/1 [==============================] - 0s 10ms/step - loss: 9.7191 - mse: 6.6819\n",
      "Epoch 7/150\n",
      "1/1 [==============================] - 0s 10ms/step - loss: 9.7167 - mse: 6.6803\n",
      "Epoch 8/150\n",
      "1/1 [==============================] - 0s 0s/step - loss: 9.7138 - mse: 6.6782\n",
      "Epoch 9/150\n",
      "1/1 [==============================] - 0s 0s/step - loss: 9.7102 - mse: 6.6757\n",
      "Epoch 10/150\n",
      "1/1 [==============================] - 0s 10ms/step - loss: 9.7056 - mse: 6.6726\n",
      "Epoch 11/150\n",
      "1/1 [==============================] - 0s 0s/step - loss: 9.6999 - mse: 6.6687\n",
      "Epoch 12/150\n",
      "1/1 [==============================] - 0s 0s/step - loss: 9.6927 - mse: 6.6637\n",
      "Epoch 13/150\n",
      "1/1 [==============================] - 0s 10ms/step - loss: 9.6836 - mse: 6.6575\n",
      "Epoch 14/150\n",
      "1/1 [==============================] - 0s 0s/step - loss: 9.6720 - mse: 6.6495\n",
      "Epoch 15/150\n",
      "1/1 [==============================] - 0s 10ms/step - loss: 9.6572 - mse: 6.6393\n",
      "Epoch 16/150\n",
      "1/1 [==============================] - 0s 10ms/step - loss: 9.6384 - mse: 6.6264\n",
      "Epoch 17/150\n",
      "1/1 [==============================] - 0s 0s/step - loss: 9.6143 - mse: 6.6099\n",
      "Epoch 18/150\n",
      "1/1 [==============================] - 0s 10ms/step - loss: 9.5836 - mse: 6.5887\n",
      "Epoch 19/150\n",
      "1/1 [==============================] - 0s 0s/step - loss: 9.5442 - mse: 6.5617\n",
      "Epoch 20/150\n",
      "1/1 [==============================] - 0s 0s/step - loss: 9.4938 - mse: 6.5271\n",
      "Epoch 21/150\n",
      "1/1 [==============================] - 0s 10ms/step - loss: 9.4294 - mse: 6.4830\n",
      "Epoch 22/150\n",
      "1/1 [==============================] - 0s 0s/step - loss: 9.3471 - mse: 6.4266\n",
      "Epoch 23/150\n",
      "1/1 [==============================] - 0s 0s/step - loss: 9.2421 - mse: 6.3547\n",
      "Epoch 24/150\n",
      "1/1 [==============================] - 0s 10ms/step - loss: 9.1085 - mse: 6.2633\n",
      "Epoch 25/150\n",
      "1/1 [==============================] - 0s 0s/step - loss: 8.9389 - mse: 6.1476\n",
      "Epoch 26/150\n",
      "1/1 [==============================] - 0s 10ms/step - loss: 8.7247 - mse: 6.0018\n",
      "Epoch 27/150\n",
      "1/1 [==============================] - 0s 0s/step - loss: 8.4556 - mse: 5.8194\n",
      "Epoch 28/150\n",
      "1/1 [==============================] - 0s 0s/step - loss: 8.1204 - mse: 5.5933\n",
      "Epoch 29/150\n",
      "1/1 [==============================] - 0s 10ms/step - loss: 7.7071 - mse: 5.3165\n",
      "Epoch 30/150\n",
      "1/1 [==============================] - 0s 0s/step - loss: 7.2049 - mse: 4.9834\n",
      "Epoch 31/150\n",
      "1/1 [==============================] - 0s 0s/step - loss: 6.6056 - mse: 4.5914\n",
      "Epoch 32/150\n",
      "1/1 [==============================] - 0s 10ms/step - loss: 5.9078 - mse: 4.1443\n",
      "Epoch 33/150\n",
      "1/1 [==============================] - 0s 10ms/step - loss: 5.1213 - mse: 3.6555\n",
      "Epoch 34/150\n",
      "1/1 [==============================] - 0s 0s/step - loss: 4.2723 - mse: 3.1528\n",
      "Epoch 35/150\n",
      "1/1 [==============================] - 0s 10ms/step - loss: 3.4079 - mse: 2.6813\n",
      "Epoch 36/150\n",
      "1/1 [==============================] - 0s 10ms/step - loss: 2.5967 - mse: 2.3033\n",
      "Epoch 37/150\n",
      "1/1 [==============================] - 0s 0s/step - loss: 1.9215 - mse: 2.0912\n",
      "Epoch 38/150\n",
      "1/1 [==============================] - 0s 10ms/step - loss: 1.4606 - mse: 2.1106\n",
      "Epoch 39/150\n",
      "1/1 [==============================] - 0s 10ms/step - loss: 1.2604 - mse: 2.3945\n",
      "Epoch 40/150\n",
      "1/1 [==============================] - 0s 0s/step - loss: 1.3080 - mse: 2.9180\n",
      "Epoch 41/150\n",
      "1/1 [==============================] - 0s 10ms/step - loss: 1.5205 - mse: 3.5878\n",
      "Epoch 42/150\n",
      "1/1 [==============================] - 0s 0s/step - loss: 1.7664 - mse: 4.2604\n",
      "Epoch 43/150\n",
      "1/1 [==============================] - 0s 0s/step - loss: 1.9155 - mse: 4.7881\n",
      "Epoch 44/150\n",
      "1/1 [==============================] - 0s 0s/step - loss: 1.8914 - mse: 5.0719\n",
      "Epoch 45/150\n",
      "1/1 [==============================] - 0s 10ms/step - loss: 1.6962 - mse: 5.0920\n",
      "Epoch 46/150\n",
      "1/1 [==============================] - 0s 0s/step - loss: 1.3948 - mse: 4.9003\n",
      "Epoch 47/150\n",
      "1/1 [==============================] - 0s 0s/step - loss: 1.0739 - mse: 4.5864\n",
      "Epoch 48/150\n",
      "1/1 [==============================] - 0s 0s/step - loss: 0.8040 - mse: 4.2393\n",
      "Epoch 49/150\n",
      "1/1 [==============================] - 0s 10ms/step - loss: 0.6200 - mse: 3.9227\n",
      "Epoch 50/150\n",
      "1/1 [==============================] - 0s 10ms/step - loss: 0.5231 - mse: 3.6691\n",
      "Epoch 51/150\n",
      "1/1 [==============================] - 0s 0s/step - loss: 0.4931 - mse: 3.4863\n",
      "Epoch 52/150\n",
      "1/1 [==============================] - 0s 0s/step - loss: 0.5019 - mse: 3.3674\n",
      "Epoch 53/150\n",
      "1/1 [==============================] - 0s 10ms/step - loss: 0.5232 - mse: 3.2998\n",
      "Epoch 54/150\n",
      "1/1 [==============================] - 0s 0s/step - loss: 0.5375 - mse: 3.2714\n",
      "Epoch 55/150\n",
      "1/1 [==============================] - 0s 0s/step - loss: 0.5337 - mse: 3.2735\n",
      "Epoch 56/150\n",
      "1/1 [==============================] - 0s 10ms/step - loss: 0.5079 - mse: 3.3013\n",
      "Epoch 57/150\n",
      "1/1 [==============================] - 0s 10ms/step - loss: 0.4625 - mse: 3.3535\n",
      "Epoch 58/150\n",
      "1/1 [==============================] - 0s 10ms/step - loss: 0.4043 - mse: 3.4318\n",
      "Epoch 59/150\n",
      "1/1 [==============================] - 0s 0s/step - loss: 0.3422 - mse: 3.5387\n",
      "Epoch 60/150\n",
      "1/1 [==============================] - 0s 0s/step - loss: 0.2857 - mse: 3.6763\n",
      "Epoch 61/150\n",
      "1/1 [==============================] - 0s 10ms/step - loss: 0.2426 - mse: 3.8447\n",
      "Epoch 62/150\n",
      "1/1 [==============================] - 0s 0s/step - loss: 0.2172 - mse: 4.0404\n",
      "Epoch 63/150\n",
      "1/1 [==============================] - 0s 0s/step - loss: 0.2096 - mse: 4.2556\n",
      "Epoch 64/150\n",
      "1/1 [==============================] - 0s 0s/step - loss: 0.2154 - mse: 4.4785\n",
      "Epoch 65/150\n",
      "1/1 [==============================] - 0s 0s/step - loss: 0.2271 - mse: 4.6950\n",
      "Epoch 66/150\n",
      "1/1 [==============================] - 0s 10ms/step - loss: 0.2364 - mse: 4.8908\n",
      "Epoch 67/150\n",
      "1/1 [==============================] - 0s 0s/step - loss: 0.2366 - mse: 5.0547\n",
      "Epoch 68/150\n",
      "1/1 [==============================] - 0s 10ms/step - loss: 0.2248 - mse: 5.1799\n",
      "Epoch 69/150\n",
      "1/1 [==============================] - 0s 0s/step - loss: 0.2022 - mse: 5.2656\n",
      "Epoch 70/150\n",
      "1/1 [==============================] - 0s 0s/step - loss: 0.1732 - mse: 5.3161\n",
      "Epoch 71/150\n",
      "1/1 [==============================] - 0s 0s/step - loss: 0.1439 - mse: 5.3391\n",
      "Epoch 72/150\n",
      "1/1 [==============================] - 0s 0s/step - loss: 0.1196 - mse: 5.3436\n",
      "Epoch 73/150\n",
      "1/1 [==============================] - 0s 10ms/step - loss: 0.1038 - mse: 5.3383\n",
      "Epoch 74/150\n",
      "1/1 [==============================] - 0s 10ms/step - loss: 0.0974 - mse: 5.3301\n",
      "Epoch 75/150\n",
      "1/1 [==============================] - 0s 0s/step - loss: 0.0990 - mse: 5.3240\n",
      "Epoch 76/150\n",
      "1/1 [==============================] - 0s 0s/step - loss: 0.1057 - mse: 5.3228\n",
      "Epoch 77/150\n",
      "1/1 [==============================] - 0s 10ms/step - loss: 0.1139 - mse: 5.3279\n",
      "Epoch 78/150\n",
      "1/1 [==============================] - 0s 10ms/step - loss: 0.1206 - mse: 5.3401\n",
      "Epoch 79/150\n",
      "1/1 [==============================] - 0s 0s/step - loss: 0.1238 - mse: 5.3595\n",
      "Epoch 80/150\n",
      "1/1 [==============================] - 0s 10ms/step - loss: 0.1226 - mse: 5.3861\n",
      "Epoch 81/150\n",
      "1/1 [==============================] - 0s 10ms/step - loss: 0.1173 - mse: 5.4200\n",
      "Epoch 82/150\n",
      "1/1 [==============================] - 0s 10ms/step - loss: 0.1093 - mse: 5.4610\n",
      "Epoch 83/150\n",
      "1/1 [==============================] - 0s 10ms/step - loss: 0.1000 - mse: 5.5088\n",
      "Epoch 84/150\n",
      "1/1 [==============================] - 0s 0s/step - loss: 0.0914 - mse: 5.5625\n",
      "Epoch 85/150\n",
      "1/1 [==============================] - 0s 10ms/step - loss: 0.0846 - mse: 5.6206\n",
      "Epoch 86/150\n",
      "1/1 [==============================] - 0s 10ms/step - loss: 0.0805 - mse: 5.6811\n",
      "Epoch 87/150\n",
      "1/1 [==============================] - 0s 10ms/step - loss: 0.0789 - mse: 5.7413\n",
      "Epoch 88/150\n",
      "1/1 [==============================] - 0s 10ms/step - loss: 0.0793 - mse: 5.7986\n",
      "Epoch 89/150\n",
      "1/1 [==============================] - 0s 10ms/step - loss: 0.0807 - mse: 5.8504\n",
      "Epoch 90/150\n",
      "1/1 [==============================] - 0s 0s/step - loss: 0.0822 - mse: 5.8944\n",
      "Epoch 91/150\n",
      "1/1 [==============================] - 0s 0s/step - loss: 0.0828 - mse: 5.9293\n",
      "Epoch 92/150\n",
      "1/1 [==============================] - 0s 0s/step - loss: 0.0823 - mse: 5.9548\n",
      "Epoch 93/150\n",
      "1/1 [==============================] - 0s 6ms/step - loss: 0.0805 - mse: 5.9711\n",
      "Epoch 94/150\n",
      "1/1 [==============================] - 0s 10ms/step - loss: 0.0777 - mse: 5.9795\n",
      "Epoch 95/150\n",
      "1/1 [==============================] - 0s 0s/step - loss: 0.0745 - mse: 5.9818\n",
      "Epoch 96/150\n",
      "1/1 [==============================] - 0s 0s/step - loss: 0.0714 - mse: 5.9799\n",
      "Epoch 97/150\n",
      "1/1 [==============================] - 0s 0s/step - loss: 0.0688 - mse: 5.9757\n",
      "Epoch 98/150\n",
      "1/1 [==============================] - 0s 10ms/step - loss: 0.0668 - mse: 5.9710\n",
      "Epoch 99/150\n",
      "1/1 [==============================] - 0s 10ms/step - loss: 0.0656 - mse: 5.9671\n",
      "Epoch 100/150\n",
      "1/1 [==============================] - 0s 10ms/step - loss: 0.0649 - mse: 5.9651\n",
      "Epoch 101/150\n",
      "1/1 [==============================] - 0s 10ms/step - loss: 0.0644 - mse: 5.9656\n",
      "Epoch 102/150\n",
      "1/1 [==============================] - 0s 10ms/step - loss: 0.0639 - mse: 5.9688\n",
      "Epoch 103/150\n",
      "1/1 [==============================] - 0s 10ms/step - loss: 0.0632 - mse: 5.9747\n",
      "Epoch 104/150\n",
      "1/1 [==============================] - 0s 10ms/step - loss: 0.0621 - mse: 5.9831\n",
      "Epoch 105/150\n",
      "1/1 [==============================] - 0s 0s/step - loss: 0.0608 - mse: 5.9936\n",
      "Epoch 106/150\n",
      "1/1 [==============================] - 0s 0s/step - loss: 0.0591 - mse: 6.0055\n",
      "Epoch 107/150\n",
      "1/1 [==============================] - 0s 0s/step - loss: 0.0574 - mse: 6.0182\n",
      "Epoch 108/150\n",
      "1/1 [==============================] - 0s 10ms/step - loss: 0.0556 - mse: 6.0310\n",
      "Epoch 109/150\n",
      "1/1 [==============================] - 0s 10ms/step - loss: 0.0539 - mse: 6.0431\n",
      "Epoch 110/150\n",
      "1/1 [==============================] - 0s 10ms/step - loss: 0.0524 - mse: 6.0537\n",
      "Epoch 111/150\n",
      "1/1 [==============================] - 0s 0s/step - loss: 0.0511 - mse: 6.0622\n",
      "Epoch 112/150\n",
      "1/1 [==============================] - 0s 10ms/step - loss: 0.0498 - mse: 6.0681\n",
      "Epoch 113/150\n",
      "1/1 [==============================] - 0s 10ms/step - loss: 0.0486 - mse: 6.0710\n",
      "Epoch 114/150\n",
      "1/1 [==============================] - 0s 10ms/step - loss: 0.0474 - mse: 6.0708\n",
      "Epoch 115/150\n",
      "1/1 [==============================] - 0s 10ms/step - loss: 0.0462 - mse: 6.0674\n",
      "Epoch 116/150\n",
      "1/1 [==============================] - 0s 0s/step - loss: 0.0448 - mse: 6.0612\n",
      "Epoch 117/150\n",
      "1/1 [==============================] - 0s 10ms/step - loss: 0.0434 - mse: 6.0525\n",
      "Epoch 118/150\n",
      "1/1 [==============================] - 0s 0s/step - loss: 0.0420 - mse: 6.0420\n",
      "Epoch 119/150\n",
      "1/1 [==============================] - 0s 0s/step - loss: 0.0405 - mse: 6.0301\n",
      "Epoch 120/150\n",
      "1/1 [==============================] - 0s 0s/step - loss: 0.0390 - mse: 6.0175\n",
      "Epoch 121/150\n",
      "1/1 [==============================] - 0s 10ms/step - loss: 0.0375 - mse: 6.0048\n",
      "Epoch 122/150\n",
      "1/1 [==============================] - 0s 10ms/step - loss: 0.0361 - mse: 5.9925\n",
      "Epoch 123/150\n",
      "1/1 [==============================] - 0s 10ms/step - loss: 0.0347 - mse: 5.9811\n",
      "Epoch 124/150\n",
      "1/1 [==============================] - 0s 10ms/step - loss: 0.0334 - mse: 5.9707\n",
      "Epoch 125/150\n",
      "1/1 [==============================] - 0s 0s/step - loss: 0.0320 - mse: 5.9617\n",
      "Epoch 126/150\n",
      "1/1 [==============================] - 0s 0s/step - loss: 0.0307 - mse: 5.9541\n",
      "Epoch 127/150\n",
      "1/1 [==============================] - 0s 0s/step - loss: 0.0293 - mse: 5.9478\n",
      "Epoch 128/150\n",
      "1/1 [==============================] - 0s 10ms/step - loss: 0.0280 - mse: 5.9427\n",
      "Epoch 129/150\n",
      "1/1 [==============================] - 0s 10ms/step - loss: 0.0266 - mse: 5.9386\n",
      "Epoch 130/150\n",
      "1/1 [==============================] - 0s 10ms/step - loss: 0.0252 - mse: 5.9352\n",
      "Epoch 131/150\n",
      "1/1 [==============================] - 0s 0s/step - loss: 0.0239 - mse: 5.9323\n",
      "Epoch 132/150\n",
      "1/1 [==============================] - 0s 0s/step - loss: 0.0226 - mse: 5.9295\n",
      "Epoch 133/150\n",
      "1/1 [==============================] - 0s 0s/step - loss: 0.0213 - mse: 5.9266\n",
      "Epoch 134/150\n",
      "1/1 [==============================] - 0s 0s/step - loss: 0.0201 - mse: 5.9231\n",
      "Epoch 135/150\n",
      "1/1 [==============================] - 0s 10ms/step - loss: 0.0189 - mse: 5.9191\n",
      "Epoch 136/150\n",
      "1/1 [==============================] - 0s 10ms/step - loss: 0.0178 - mse: 5.9141\n",
      "Epoch 137/150\n",
      "1/1 [==============================] - 0s 10ms/step - loss: 0.0167 - mse: 5.9082\n",
      "Epoch 138/150\n",
      "1/1 [==============================] - 0s 0s/step - loss: 0.0156 - mse: 5.9013\n",
      "Epoch 139/150\n",
      "1/1 [==============================] - 0s 0s/step - loss: 0.0145 - mse: 5.8934\n",
      "Epoch 140/150\n",
      "1/1 [==============================] - 0s 0s/step - loss: 0.0135 - mse: 5.8846\n",
      "Epoch 141/150\n",
      "1/1 [==============================] - 0s 0s/step - loss: 0.0125 - mse: 5.8750\n",
      "Epoch 142/150\n",
      "1/1 [==============================] - 0s 4ms/step - loss: 0.0116 - mse: 5.8648\n",
      "Epoch 143/150\n",
      "1/1 [==============================] - 0s 10ms/step - loss: 0.0107 - mse: 5.8541\n",
      "Epoch 144/150\n",
      "1/1 [==============================] - 0s 10ms/step - loss: 0.0098 - mse: 5.8432\n",
      "Epoch 145/150\n",
      "1/1 [==============================] - 0s 10ms/step - loss: 0.0090 - mse: 5.8322\n",
      "Epoch 146/150\n",
      "1/1 [==============================] - 0s 10ms/step - loss: 0.0082 - mse: 5.8213\n",
      "Epoch 147/150\n",
      "1/1 [==============================] - 0s 10ms/step - loss: 0.0075 - mse: 5.8106\n",
      "Epoch 148/150\n",
      "1/1 [==============================] - 0s 10ms/step - loss: 0.0068 - mse: 5.8002\n",
      "Epoch 149/150\n",
      "1/1 [==============================] - 0s 10ms/step - loss: 0.0062 - mse: 5.7901\n",
      "Epoch 150/150\n",
      "1/1 [==============================] - 0s 0s/step - loss: 0.0056 - mse: 5.7806\n"
     ]
    },
    {
     "data": {
      "text/plain": "<keras.callbacks.History at 0x1b34a806200>"
     },
     "execution_count": 66,
     "metadata": {},
     "output_type": "execute_result"
    }
   ],
   "source": [
    "model.fit([user, movie], y, epochs=150)"
   ],
   "metadata": {
    "collapsed": false,
    "pycharm": {
     "name": "#%%\n"
    }
   }
  },
  {
   "cell_type": "code",
   "execution_count": 67,
   "outputs": [
    {
     "name": "stdout",
     "output_type": "stream",
     "text": [
      "1/1 [==============================] - 0s 90ms/step\n"
     ]
    },
    {
     "data": {
      "text/plain": "array([[[-0.7090238,  2.06649  ,  2.9199297,  3.8746405],\n        [ 2.9660711,  5.0333786,  4.610376 ,  6.9422174],\n        [ 1.0552   ,  2.840984 ,  2.109292 ,  4.0154457],\n        [ 4.9955735,  2.7059636,  0.9632154,  2.0077744]]], dtype=float32)"
     },
     "execution_count": 67,
     "metadata": {},
     "output_type": "execute_result"
    }
   ],
   "source": [
    "model.predict([user, movie])"
   ],
   "metadata": {
    "collapsed": false,
    "pycharm": {
     "name": "#%%\n"
    }
   }
  },
  {
   "cell_type": "markdown",
   "source": [
    "## 여기서 부터 다시 짜라.. 22.10.08\n",
    "- <s>loss 짜야하는데, MF는 y value에서 0이 아닌값, 즉 관측된 값을 가지고 y_pred와 MSE를 계산해줘야함</s> -- 22.10.09 해결\n",
    "- Metric에서의 MSE 계산도 y value의 0이 아닌 인덱스에 대해서 해야할까... 22.10.09"
   ],
   "metadata": {
    "collapsed": false,
    "pycharm": {
     "name": "#%% md\n"
    }
   }
  },
  {
   "cell_type": "code",
   "execution_count": null,
   "outputs": [],
   "source": [],
   "metadata": {
    "collapsed": false,
    "pycharm": {
     "name": "#%%\n"
    }
   }
  }
 ],
 "metadata": {
  "kernelspec": {
   "display_name": "Python 3",
   "language": "python",
   "name": "python3"
  },
  "language_info": {
   "codemirror_mode": {
    "name": "ipython",
    "version": 2
   },
   "file_extension": ".py",
   "mimetype": "text/x-python",
   "name": "python",
   "nbconvert_exporter": "python",
   "pygments_lexer": "ipython2",
   "version": "2.7.6"
  }
 },
 "nbformat": 4,
 "nbformat_minor": 0
}