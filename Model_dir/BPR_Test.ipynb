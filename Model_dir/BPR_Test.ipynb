{
 "cells": [
  {
   "cell_type": "code",
   "execution_count": 1,
   "metadata": {
    "collapsed": true,
    "pycharm": {
     "name": "#%%\n"
    }
   },
   "outputs": [],
   "source": [
    "import keras.optimizers\n",
    "import numpy as np\n",
    "import tensorflow as tf\n",
    "import pandas as pd\n",
    "from math import ceil\n",
    "\n",
    "from scipy.sparse import csr_matrix, dok_matrix"
   ]
  },
  {
   "cell_type": "code",
   "execution_count": 4,
   "outputs": [],
   "source": [
    "columns = ['user_id', 'item_id', 'rating', 'timestamp']\n",
    "ratings = pd.read_csv('../ml-100k/u.data', sep='\\t', names=columns)\n",
    "ratings.drop('timestamp', axis=1, inplace=True)\n",
    "\n",
    "columns = ['item_id', 'movie title', 'release date', 'video release date', 'IMDb URL', 'unknown', 'Action', 'Adventure', 'Animation', 'Childrens', 'Comedy', 'Crime', 'Documentary', 'Drama', 'Fantasy', 'Film-Noir', 'Horror', 'Musical', 'Mystery', 'Romance', 'Sci-Fi', 'Thriller', 'War', 'Western']\n",
    "movies = pd.read_csv('../ml-100k/u.item', sep='|', names=columns, encoding='latin-1')\n",
    "movies = movies[['item_id', 'movie title']]\n",
    "\n",
    "n_users = len(ratings['user_id'].unique())\n",
    "n_items = len(movies['item_id'].unique())"
   ],
   "metadata": {
    "collapsed": false,
    "pycharm": {
     "name": "#%%\n"
    }
   }
  },
  {
   "cell_type": "code",
   "execution_count": 5,
   "outputs": [
    {
     "data": {
      "text/plain": "       user_id  item_id  rating\n0          196      242       3\n1          186      302       3\n2           22      377       1\n3          244       51       2\n4          166      346       1\n...        ...      ...     ...\n99995      880      476       3\n99996      716      204       5\n99997      276     1090       1\n99998       13      225       2\n99999       12      203       3\n\n[100000 rows x 3 columns]",
      "text/html": "<div>\n<style scoped>\n    .dataframe tbody tr th:only-of-type {\n        vertical-align: middle;\n    }\n\n    .dataframe tbody tr th {\n        vertical-align: top;\n    }\n\n    .dataframe thead th {\n        text-align: right;\n    }\n</style>\n<table border=\"1\" class=\"dataframe\">\n  <thead>\n    <tr style=\"text-align: right;\">\n      <th></th>\n      <th>user_id</th>\n      <th>item_id</th>\n      <th>rating</th>\n    </tr>\n  </thead>\n  <tbody>\n    <tr>\n      <th>0</th>\n      <td>196</td>\n      <td>242</td>\n      <td>3</td>\n    </tr>\n    <tr>\n      <th>1</th>\n      <td>186</td>\n      <td>302</td>\n      <td>3</td>\n    </tr>\n    <tr>\n      <th>2</th>\n      <td>22</td>\n      <td>377</td>\n      <td>1</td>\n    </tr>\n    <tr>\n      <th>3</th>\n      <td>244</td>\n      <td>51</td>\n      <td>2</td>\n    </tr>\n    <tr>\n      <th>4</th>\n      <td>166</td>\n      <td>346</td>\n      <td>1</td>\n    </tr>\n    <tr>\n      <th>...</th>\n      <td>...</td>\n      <td>...</td>\n      <td>...</td>\n    </tr>\n    <tr>\n      <th>99995</th>\n      <td>880</td>\n      <td>476</td>\n      <td>3</td>\n    </tr>\n    <tr>\n      <th>99996</th>\n      <td>716</td>\n      <td>204</td>\n      <td>5</td>\n    </tr>\n    <tr>\n      <th>99997</th>\n      <td>276</td>\n      <td>1090</td>\n      <td>1</td>\n    </tr>\n    <tr>\n      <th>99998</th>\n      <td>13</td>\n      <td>225</td>\n      <td>2</td>\n    </tr>\n    <tr>\n      <th>99999</th>\n      <td>12</td>\n      <td>203</td>\n      <td>3</td>\n    </tr>\n  </tbody>\n</table>\n<p>100000 rows × 3 columns</p>\n</div>"
     },
     "execution_count": 5,
     "metadata": {},
     "output_type": "execute_result"
    }
   ],
   "source": [
    "ratings"
   ],
   "metadata": {
    "collapsed": false,
    "pycharm": {
     "name": "#%%\n"
    }
   }
  },
  {
   "cell_type": "code",
   "execution_count": 6,
   "outputs": [],
   "source": [
    "def create_mat(data, users_col, items_col, ratings_col, threshold=None):\n",
    "    # threshold가 넘은 rating은 긍정으로 판단 => 1로 수정\n",
    "    if threshold is not None:\n",
    "        data = data[data[ratings_col] >= threshold]\n",
    "        data[ratings_col] = 1\n",
    "\n",
    "    # 해당 'user_id' 부분에 'item_id' 를 count해서 'num_items' column으로 추가한 새로운 DataFrame\n",
    "    # 결국 user_id가 평가한 갯수를 가지고 있는 DataFrame\n",
    "    data_user_num_items = (data\n",
    "                           .groupby('user_id')\n",
    "                           .agg(**{'num_items': ('item_id', 'count')})\n",
    "                           .reset_index())\n",
    "    # 원래 DataFrame에 'user_id'를 기반으로 하여, num_items를 조인해준다.\n",
    "    data = data.merge(data_user_num_items, on='user_id', how='inner')\n",
    "    # 평가한 갯수가 1개 초과, 평가하지 않은 user_id는 제거\n",
    "    data = data[data['num_items'] > 1]\n",
    "\n",
    "    for col in (items_col, users_col, ratings_col):\n",
    "        data[col] = data[col].astype('category')\n",
    "\n",
    "    #cat.codes : index를 0으로 맞춰서 바꿔주는거 같음\n",
    "    #csr_matrix(data, (row, col)) =>  rating data를 해당 (user_id, item_id) 위치에 놓은 sparse matrix를 만들어준다.\n",
    "    # user_id = 196, item_id = 242, rating=1 => (196, 242) = 1\n",
    "    ratings = csr_matrix((data[ratings_col],\n",
    "                          (data[users_col].cat.codes, data[items_col].cat.codes)))\n",
    "\n",
    "    ratings.eliminate_zeros()\n",
    "    return ratings, data"
   ],
   "metadata": {
    "collapsed": false,
    "pycharm": {
     "name": "#%%\n"
    }
   }
  },
  {
   "cell_type": "code",
   "execution_count": 7,
   "outputs": [
    {
     "name": "stderr",
     "output_type": "stream",
     "text": [
      "C:\\Users\\Yungi\\AppData\\Local\\Temp\\ipykernel_116876\\684868294.py:5: SettingWithCopyWarning: \n",
      "A value is trying to be set on a copy of a slice from a DataFrame.\n",
      "Try using .loc[row_indexer,col_indexer] = value instead\n",
      "\n",
      "See the caveats in the documentation: https://pandas.pydata.org/pandas-docs/stable/user_guide/indexing.html#returning-a-view-versus-a-copy\n",
      "  data[ratings_col] = 1\n"
     ]
    }
   ],
   "source": [
    "items_col = 'item_id'\n",
    "users_col = 'user_id'\n",
    "ratings_col = 'rating'\n",
    "threshold = 3\n",
    "X, df = create_mat(ratings, users_col, items_col, ratings_col, threshold)"
   ],
   "metadata": {
    "collapsed": false,
    "pycharm": {
     "name": "#%%\n"
    }
   }
  },
  {
   "cell_type": "code",
   "execution_count": 8,
   "outputs": [
    {
     "name": "stdout",
     "output_type": "stream",
     "text": [
      "  (0, 0)\t1\n",
      "  (0, 1)\t1\n",
      "  (0, 2)\t1\n",
      "  (0, 3)\t1\n",
      "  (0, 4)\t1\n",
      "  (0, 5)\t1\n",
      "  (0, 6)\t1\n",
      "  (0, 8)\t1\n",
      "  (0, 9)\t1\n",
      "  (0, 11)\t1\n",
      "  (0, 12)\t1\n",
      "  (0, 13)\t1\n",
      "  (0, 14)\t1\n",
      "  (0, 15)\t1\n",
      "  (0, 16)\t1\n",
      "  (0, 17)\t1\n",
      "  (0, 18)\t1\n",
      "  (0, 19)\t1\n",
      "  (0, 21)\t1\n",
      "  (0, 22)\t1\n",
      "  (0, 23)\t1\n",
      "  (0, 24)\t1\n",
      "  (0, 25)\t1\n",
      "  (0, 27)\t1\n",
      "  (0, 29)\t1\n",
      "  :\t:\n",
      "  (942, 618)\t1\n",
      "  (942, 648)\t1\n",
      "  (942, 665)\t1\n",
      "  (942, 678)\t1\n",
      "  (942, 710)\t1\n",
      "  (942, 714)\t1\n",
      "  (942, 715)\t1\n",
      "  (942, 725)\t1\n",
      "  (942, 732)\t1\n",
      "  (942, 756)\t1\n",
      "  (942, 758)\t1\n",
      "  (942, 785)\t1\n",
      "  (942, 787)\t1\n",
      "  (942, 799)\t1\n",
      "  (942, 807)\t1\n",
      "  (942, 815)\t1\n",
      "  (942, 816)\t1\n",
      "  (942, 830)\t1\n",
      "  (942, 915)\t1\n",
      "  (942, 930)\t1\n",
      "  (942, 1031)\t1\n",
      "  (942, 1061)\t1\n",
      "  (942, 1175)\t1\n",
      "  (942, 1215)\t1\n",
      "  (942, 1308)\t1\n",
      "      user_id item_id rating  num_items\n",
      "0         196     242      1         34\n",
      "1         196     393      1         34\n",
      "2         196     381      1         34\n",
      "3         196     251      1         34\n",
      "4         196     655      1         34\n",
      "...       ...     ...    ...        ...\n",
      "82515     941     919      1         20\n",
      "82516     941     273      1         20\n",
      "82517     941       1      1         20\n",
      "82518     941     294      1         20\n",
      "82519     941    1007      1         20\n",
      "\n",
      "[82520 rows x 4 columns]\n"
     ]
    }
   ],
   "source": [
    "print(X)\n",
    "print(df)"
   ],
   "metadata": {
    "collapsed": false,
    "pycharm": {
     "name": "#%%\n"
    }
   }
  },
  {
   "cell_type": "code",
   "execution_count": 9,
   "outputs": [
    {
     "name": "stdout",
     "output_type": "stream",
     "text": [
      "  (0, 0)\t1\n",
      "  (1, 0)\t1\n",
      "  (4, 0)\t1\n",
      "  (5, 0)\t1\n",
      "  (9, 0)\t1\n",
      "  (12, 0)\t1\n",
      "  (15, 0)\t1\n",
      "  (16, 0)\t1\n",
      "  (17, 0)\t1\n",
      "  (19, 0)\t1\n",
      "  (20, 0)\t1\n",
      "  (22, 0)\t1\n",
      "  (24, 0)\t1\n",
      "  (25, 0)\t1\n",
      "  (37, 0)\t1\n",
      "  (40, 0)\t1\n",
      "  (41, 0)\t1\n",
      "  (42, 0)\t1\n",
      "  (43, 0)\t1\n",
      "  (44, 0)\t1\n",
      "  (53, 0)\t1\n",
      "  (55, 0)\t1\n",
      "  (56, 0)\t1\n",
      "  (57, 0)\t1\n",
      "  (62, 0)\t1\n",
      "  :\t:\n",
      "  (827, 1552)\t1\n",
      "  (654, 1553)\t1\n",
      "  (654, 1554)\t1\n",
      "  (654, 1555)\t1\n",
      "  (654, 1556)\t1\n",
      "  (661, 1557)\t1\n",
      "  (674, 1558)\t1\n",
      "  (882, 1559)\t1\n",
      "  (726, 1560)\t1\n",
      "  (732, 1561)\t1\n",
      "  (893, 1561)\t1\n",
      "  (781, 1562)\t1\n",
      "  (781, 1563)\t1\n",
      "  (869, 1563)\t1\n",
      "  (879, 1563)\t1\n",
      "  (781, 1564)\t1\n",
      "  (781, 1565)\t1\n",
      "  (781, 1566)\t1\n",
      "  (834, 1567)\t1\n",
      "  (839, 1568)\t1\n",
      "  (850, 1569)\t1\n",
      "  (853, 1570)\t1\n",
      "  (862, 1571)\t1\n",
      "  (895, 1572)\t1\n",
      "  (915, 1573)\t1\n"
     ]
    }
   ],
   "source": [
    "print(X.todok()) # dok_sparse : dictionary 형태로 데이터에 접근할 수 있게 데이터를 sparse matrix로 바꿔준다 => data[row, col]"
   ],
   "metadata": {
    "collapsed": false,
    "pycharm": {
     "name": "#%%\n"
    }
   }
  },
  {
   "cell_type": "code",
   "execution_count": 10,
   "outputs": [
    {
     "data": {
      "text/plain": "array([  0,   1,   2,   3,   4,   5,   6,   8,   9,  11,  12,  13,  14,\n        15,  16,  17,  18,  19,  21,  22,  23,  24,  25,  27,  29,  30,\n        31,  32,  37,  38,  39,  41,  42,  43,  44,  45,  46,  47,  48,\n        49,  50,  51,  52,  53,  54,  55,  56,  57,  58,  59,  60,  61,\n        63,  64,  65,  66,  67,  68,  69,  70,  71,  72,  74,  75,  76,\n        78,  79,  80,  81,  82,  83,  84,  85,  86,  87,  88,  89,  90,\n        91,  92,  94,  95,  96,  97,  98,  99, 105, 106, 107, 108, 110,\n       112, 113, 114, 115, 116, 117, 118, 120, 121, 122, 123, 124, 126,\n       127, 128, 129, 131, 132, 133, 134, 135, 136, 138, 140, 143, 145,\n       146, 149, 150, 151, 152, 153, 155, 156, 157, 158, 159, 160, 161,\n       162, 163, 164, 165, 167, 168, 169, 170, 171, 172, 173, 174, 175,\n       176, 177, 178, 179, 180, 181, 182, 183, 184, 185, 186, 187, 188,\n       189, 190, 191, 192, 193, 194, 195, 196, 197, 198, 199, 200, 201,\n       202, 203, 204, 205, 206, 207, 208, 209, 210, 211, 213, 214, 215,\n       216, 217, 219, 220, 221, 222, 223, 225, 226, 227, 228, 229, 231,\n       233, 234, 235, 237, 238, 239, 240, 241, 245, 247, 248, 249, 250,\n       252, 255, 256, 257, 261, 264, 266, 267, 268, 269, 271])"
     },
     "execution_count": 10,
     "metadata": {},
     "output_type": "execute_result"
    }
   ],
   "source": [
    "X[0].indices"
   ],
   "metadata": {
    "collapsed": false,
    "pycharm": {
     "name": "#%%\n"
    }
   }
  },
  {
   "cell_type": "code",
   "execution_count": 11,
   "outputs": [
    {
     "data": {
      "text/plain": "array([[1, 1, 1, ..., 0, 0, 0],\n       [1, 0, 0, ..., 0, 0, 0],\n       [0, 0, 0, ..., 0, 0, 0],\n       ...,\n       [1, 0, 0, ..., 0, 0, 0],\n       [0, 0, 0, ..., 0, 0, 0],\n       [0, 1, 0, ..., 0, 0, 0]], dtype=int64)"
     },
     "execution_count": 11,
     "metadata": {},
     "output_type": "execute_result"
    }
   ],
   "source": [
    "X.toarray()"
   ],
   "metadata": {
    "collapsed": false,
    "pycharm": {
     "name": "#%%\n"
    }
   }
  },
  {
   "cell_type": "code",
   "execution_count": 12,
   "outputs": [
    {
     "name": "stderr",
     "output_type": "stream",
     "text": [
      "C:\\Users\\Yungi\\AppData\\Local\\Temp\\ipykernel_116876\\1765902787.py:1: UserWarning: Boolean Series key will be reindexed to match DataFrame index.\n",
      "  ratings.loc[ratings.user_id==1][ratings.rating >= 3]\n"
     ]
    },
    {
     "data": {
      "text/plain": "       user_id  item_id  rating\n202          1       61       4\n305          1      189       3\n333          1       33       4\n334          1      160       4\n478          1       20       4\n...        ...      ...     ...\n89876        1       13       5\n92049        1       28       4\n92487        1      172       5\n94019        1      122       3\n96699        1      152       5\n\n[219 rows x 3 columns]",
      "text/html": "<div>\n<style scoped>\n    .dataframe tbody tr th:only-of-type {\n        vertical-align: middle;\n    }\n\n    .dataframe tbody tr th {\n        vertical-align: top;\n    }\n\n    .dataframe thead th {\n        text-align: right;\n    }\n</style>\n<table border=\"1\" class=\"dataframe\">\n  <thead>\n    <tr style=\"text-align: right;\">\n      <th></th>\n      <th>user_id</th>\n      <th>item_id</th>\n      <th>rating</th>\n    </tr>\n  </thead>\n  <tbody>\n    <tr>\n      <th>202</th>\n      <td>1</td>\n      <td>61</td>\n      <td>4</td>\n    </tr>\n    <tr>\n      <th>305</th>\n      <td>1</td>\n      <td>189</td>\n      <td>3</td>\n    </tr>\n    <tr>\n      <th>333</th>\n      <td>1</td>\n      <td>33</td>\n      <td>4</td>\n    </tr>\n    <tr>\n      <th>334</th>\n      <td>1</td>\n      <td>160</td>\n      <td>4</td>\n    </tr>\n    <tr>\n      <th>478</th>\n      <td>1</td>\n      <td>20</td>\n      <td>4</td>\n    </tr>\n    <tr>\n      <th>...</th>\n      <td>...</td>\n      <td>...</td>\n      <td>...</td>\n    </tr>\n    <tr>\n      <th>89876</th>\n      <td>1</td>\n      <td>13</td>\n      <td>5</td>\n    </tr>\n    <tr>\n      <th>92049</th>\n      <td>1</td>\n      <td>28</td>\n      <td>4</td>\n    </tr>\n    <tr>\n      <th>92487</th>\n      <td>1</td>\n      <td>172</td>\n      <td>5</td>\n    </tr>\n    <tr>\n      <th>94019</th>\n      <td>1</td>\n      <td>122</td>\n      <td>3</td>\n    </tr>\n    <tr>\n      <th>96699</th>\n      <td>1</td>\n      <td>152</td>\n      <td>5</td>\n    </tr>\n  </tbody>\n</table>\n<p>219 rows × 3 columns</p>\n</div>"
     },
     "execution_count": 12,
     "metadata": {},
     "output_type": "execute_result"
    }
   ],
   "source": [
    "ratings.loc[ratings.user_id==1][ratings.rating >= 3]"
   ],
   "metadata": {
    "collapsed": false,
    "pycharm": {
     "name": "#%%\n"
    }
   }
  },
  {
   "cell_type": "code",
   "execution_count": 13,
   "outputs": [],
   "source": [
    "def create_train_test(ratings, test_size=0.2, seed=1234):\n",
    "    # test_size의 비율은 0 <  < 1\n",
    "    assert test_size < 1.0 and test_size > 0.0\n",
    "\n",
    "    # train DataFrame을 dok_sparse matrix(dictionary형으로 접근하는) 로 바꿔준다. => 더 효율적이래요\n",
    "    train = ratings.copy().todok()\n",
    "    # test DataFrame도 train과 shape이 맞게 만들어준다.(아무 데이터도 들어가 있지 않음)\n",
    "    test = dok_matrix(train.shape)\n",
    "\n",
    "    # random seed 지정\n",
    "    rstate = np.random.RandomState(seed)\n",
    "\n",
    "    # user_id 의 갯수만큼 반복\n",
    "    for u in range(ratings.shape[0]):\n",
    "        # 해당 'user_id'가 평가한 작품의 index를 가져온다.\n",
    "        split_index = ratings[u].indices\n",
    "        # 해당 'user_id'가 평가한 작품의 갯수(split_index.shape[0]) 에 test_size 비율을 곱해서 올림을 해준다. => 그걸 test의 갯수(n_splits)만큼으로 사용\n",
    "        n_splits = ceil(test_size * split_index.shape[0])\n",
    "        # 테스트의 개수(n_splits)만큼 평가한 작품들 인덱스(split_index) 에서 랜덤으로 선택한다. 중복 선택 안된다.(replace=False)\n",
    "        test_index = rstate.choice(split_index, size=n_splits, replace=False)\n",
    "        # 만들어 놓은 빈 test Matrix의 해당 user(u) 해당 index(test_index) 자리에 rating 정보를 대입해준다.\n",
    "        test[u, test_index] = ratings[u, test_index]\n",
    "        # train에서는 그 자리의 정보는 지운다.\n",
    "        train[u, test_index] = 0\n",
    "\n",
    "    # csr matrix로 변환해서 넘겨준다.\n",
    "    train, test = train.tocsr(), test.tocsr()\n",
    "    return train, test"
   ],
   "metadata": {
    "collapsed": false,
    "pycharm": {
     "name": "#%%\n"
    }
   }
  },
  {
   "cell_type": "code",
   "execution_count": 14,
   "outputs": [],
   "source": [
    "X_train, X_test = create_train_test(X, test_size=0.2, seed=1234)"
   ],
   "metadata": {
    "collapsed": false,
    "pycharm": {
     "name": "#%%\n"
    }
   }
  },
  {
   "cell_type": "code",
   "execution_count": 15,
   "outputs": [
    {
     "data": {
      "text/plain": "array([  0,  12,  13,  18,  24,  49, 110, 126, 236, 241, 250, 254, 256,\n       257, 268, 271, 272, 273, 274, 275, 278, 279, 282, 283, 284, 285,\n       286, 287, 288, 290, 295, 296, 297, 298, 299, 300, 301, 302, 303,\n       304, 305, 306, 307, 310, 312], dtype=int32)"
     },
     "execution_count": 15,
     "metadata": {},
     "output_type": "execute_result"
    }
   ],
   "source": [
    "# indices를 이용하면, 0이 아닌 index들을 모두 반환한다. 그럼 user_id에 해당하는 것은 어떻게 얻어와야하나?\n",
    "# indptr을 이용 => indptr[user_id] : indptr[user_id+1] => 그럼 user_id에 해당하는 indices 정보들의 대한 index 범위가 나온다.\n",
    "X_train.indices[X_train.indptr[1] : X_train.indptr[2]]"
   ],
   "metadata": {
    "collapsed": false,
    "pycharm": {
     "name": "#%%\n"
    }
   }
  },
  {
   "cell_type": "code",
   "execution_count": 16,
   "outputs": [
    {
     "data": {
      "text/plain": "array([289, 314, 311, 309, 277, 280,  99, 291, 292, 294, 276, 281],\n      dtype=int32)"
     },
     "execution_count": 16,
     "metadata": {},
     "output_type": "execute_result"
    }
   ],
   "source": [
    "X_test.indices[X_test.indptr[1] : X_test.indptr[2]]"
   ],
   "metadata": {
    "collapsed": false,
    "pycharm": {
     "name": "#%%\n"
    }
   }
  },
  {
   "cell_type": "code",
   "execution_count": 17,
   "outputs": [
    {
     "data": {
      "text/plain": "array([  5, 129,   6, 200,  70,  65, 188,  90, 225,  11,  61, 164,   8,\n       261, 205, 256,  38,  87, 177, 162,  75, 157, 124, 112,  41,  84,\n       135, 158, 179, 215, 266, 193,  53,  69, 231,  58, 240, 181, 211,\n        50, 107,  79, 182, 134], dtype=int32)"
     },
     "execution_count": 17,
     "metadata": {},
     "output_type": "execute_result"
    }
   ],
   "source": [
    "X_test.indices[X_test.indptr[0] : X_test.indptr[1]]"
   ],
   "metadata": {
    "collapsed": false,
    "pycharm": {
     "name": "#%%\n"
    }
   }
  },
  {
   "cell_type": "code",
   "execution_count": 34,
   "outputs": [],
   "source": [
    "def get_train_set(X_train, batch_size=100):\n",
    "    n_users, n_items = X_train.shape\n",
    "    sample_pos_items = np.zeros(batch_size, dtype=np.int32)\n",
    "    sample_neg_items = np.zeros(batch_size, dtype=np.int32)\n",
    "    sampled_users = np.random.choice(n_users, size=batch_size, replace=False)\n",
    "\n",
    "    for idx, user in enumerate(sampled_users):\n",
    "        pos_items = X_train.indices[X_train.indptr[user] : X_train.indptr[user+1]]\n",
    "        pos_item = np.random.choice(pos_items)\n",
    "        neg_item = np.random.choice(n_items)\n",
    "        while neg_item in pos_items:\n",
    "            neg_item = np.random.choice(n_items)\n",
    "        sample_pos_items[idx] = pos_item\n",
    "        sample_neg_items[idx] = neg_item\n",
    "\n",
    "    return sampled_users, sample_pos_items, sample_neg_items"
   ],
   "metadata": {
    "collapsed": false,
    "pycharm": {
     "name": "#%%\n"
    }
   }
  },
  {
   "cell_type": "code",
   "execution_count": 35,
   "outputs": [],
   "source": [
    "user, pos_item, neg_item = get_train_set(X_train)"
   ],
   "metadata": {
    "collapsed": false,
    "pycharm": {
     "name": "#%%\n"
    }
   }
  },
  {
   "cell_type": "code",
   "execution_count": 36,
   "outputs": [
    {
     "data": {
      "text/plain": "    user  pos_item  neg_item\n0    220       264      1348\n1    897       317       113\n2    432       468       748\n3    936       274       892\n4    268       809       940\n..   ...       ...       ...\n95   818       343      1103\n96   745         0        57\n97   675       474      1444\n98   625       287      1508\n99   756       725        91\n\n[100 rows x 3 columns]",
      "text/html": "<div>\n<style scoped>\n    .dataframe tbody tr th:only-of-type {\n        vertical-align: middle;\n    }\n\n    .dataframe tbody tr th {\n        vertical-align: top;\n    }\n\n    .dataframe thead th {\n        text-align: right;\n    }\n</style>\n<table border=\"1\" class=\"dataframe\">\n  <thead>\n    <tr style=\"text-align: right;\">\n      <th></th>\n      <th>user</th>\n      <th>pos_item</th>\n      <th>neg_item</th>\n    </tr>\n  </thead>\n  <tbody>\n    <tr>\n      <th>0</th>\n      <td>220</td>\n      <td>264</td>\n      <td>1348</td>\n    </tr>\n    <tr>\n      <th>1</th>\n      <td>897</td>\n      <td>317</td>\n      <td>113</td>\n    </tr>\n    <tr>\n      <th>2</th>\n      <td>432</td>\n      <td>468</td>\n      <td>748</td>\n    </tr>\n    <tr>\n      <th>3</th>\n      <td>936</td>\n      <td>274</td>\n      <td>892</td>\n    </tr>\n    <tr>\n      <th>4</th>\n      <td>268</td>\n      <td>809</td>\n      <td>940</td>\n    </tr>\n    <tr>\n      <th>...</th>\n      <td>...</td>\n      <td>...</td>\n      <td>...</td>\n    </tr>\n    <tr>\n      <th>95</th>\n      <td>818</td>\n      <td>343</td>\n      <td>1103</td>\n    </tr>\n    <tr>\n      <th>96</th>\n      <td>745</td>\n      <td>0</td>\n      <td>57</td>\n    </tr>\n    <tr>\n      <th>97</th>\n      <td>675</td>\n      <td>474</td>\n      <td>1444</td>\n    </tr>\n    <tr>\n      <th>98</th>\n      <td>625</td>\n      <td>287</td>\n      <td>1508</td>\n    </tr>\n    <tr>\n      <th>99</th>\n      <td>756</td>\n      <td>725</td>\n      <td>91</td>\n    </tr>\n  </tbody>\n</table>\n<p>100 rows × 3 columns</p>\n</div>"
     },
     "execution_count": 36,
     "metadata": {},
     "output_type": "execute_result"
    }
   ],
   "source": [
    "pd.DataFrame({\"user\" : user, \"pos_item\": pos_item, \"neg_item\" : neg_item})"
   ],
   "metadata": {
    "collapsed": false,
    "pycharm": {
     "name": "#%%\n"
    }
   }
  },
  {
   "cell_type": "code",
   "execution_count": null,
   "outputs": [],
   "source": [
    "class BPR_Loss(tf.keras.losses.Loss):\n"
   ],
   "metadata": {
    "collapsed": false,
    "pycharm": {
     "name": "#%%\n"
    }
   }
  },
  {
   "cell_type": "code",
   "execution_count": null,
   "outputs": [],
   "source": [
    "class MyOptimizer(tf.keras.optimizers.Optimizer):\n",
    "    def __init__(self, learning_rate=0.001, name=\"BPR_OPT\", **kwargs):\n",
    "        super().__init__(name, **kwargs)\n",
    "        self._set_hyper(\"learning_rate\", kwargs.get(\"lr\", learning_rate))\n",
    "\n",
    "    def _create_slots(self, var_list):\n",
    "        super()._create_slots(var_list)\n",
    "\n",
    "    def _resource_apply_dense(self, grad, handle, apply_state):\n",
    "        pass\n",
    "\n",
    "    def _resource_apply_sparse(self, grad, handle, indices, apply_state):\n",
    "        pass\n",
    "\n",
    "    def get_config(self):\n",
    "        pass\n"
   ],
   "metadata": {
    "collapsed": false,
    "pycharm": {
     "name": "#%%\n"
    }
   }
  },
  {
   "cell_type": "code",
   "execution_count": 134,
   "outputs": [],
   "source": [
    "class MatrixLayer(tf.keras.Model):\n",
    "    def __init__(self, n_users, n_items, seed1=1234, seed2=5678, K=20, embedding_depth=50):\n",
    "        super(MatrixLayer, self).__init__()\n",
    "        self.u_embedding = tf.keras.layers.Embedding(embedding_depth, K, embeddings_initializer=tf.keras.initializers.RandomNormal(seed=seed1))\n",
    "        self.i_embedding = tf.keras.layers.Embedding(embedding_depth, K, embeddings_initializer=tf.keras.initializers.RandomNormal(seed=seed2))\n",
    "        self.reg = tf.Variable(np.random.random(1))\n",
    "\n",
    "    def call(self, inputs):\n",
    "        self.user_f = self.u_embedding(np.zeros(n_users))\n",
    "        self.item_f = self.i_embedding(np.zeros(n_items))\n",
    "\n",
    "\n",
    "        return self.user_f @ tf.transpose(self.item_f)\n",
    "\n",
    "    def train_step(self, data):\n",
    "        x, y = data\n",
    "        u, i, j = self._get_train_set(x)\n",
    "\n",
    "        for (a, b, c) in zip(u, i, j):\n",
    "            user_u = self.user_f[a]\n",
    "            item_i = self.item_f[b]\n",
    "            item_j = self.item_f[c]\n",
    "\n",
    "            with tf.GradientTape() as tape:\n",
    "                loss = tf.reduce_sum(tf.math.log(user_u * (item_i - item_j)), axis=1)\n",
    "\n",
    "            y_pred = user_u @ tf.transpose(self.item_f)\n",
    "\n",
    "            trainable_vars = self.trainable_variables\n",
    "            gradients = tape.gradient(loss, trainable_vars)\n",
    "            self.optimizer.apply_gradients(zip(gradients, trainable_vars))\n",
    "            self.compiled_metrics.update_state(y, y_pred)\n",
    "        # grad_u = sigmoid_loss * (item_j - item_i) + self.reg * user_u\n",
    "        # grad_i = sigmoid_loss * (-user_u) + self.reg * item_i\n",
    "        # grad_j = sigmoid_loss * user_u + self.reg * item_j\n",
    "\n",
    "        return {m.name : m.result() for m in self.metrics}\n",
    "\n",
    "    def _get_train_set(X_train, batch_size=100):\n",
    "        n_users, n_items = X_train.shape\n",
    "        sample_pos_items = np.zeros(batch_size, dtype=np.int32)\n",
    "        sample_neg_items = np.zeros(batch_size, dtype=np.int32)\n",
    "        sampled_users = np.random.choice(n_users, size=batch_size, replace=False)\n",
    "\n",
    "        for idx, user in enumerate(sampled_users):\n",
    "            pos_items = X_train.indices[X_train.indptr[user] : X_train.indptr[user+1]]\n",
    "            pos_item = np.random.choice(pos_items)\n",
    "            neg_item = np.random.choice(n_items)\n",
    "            while neg_item in pos_items:\n",
    "                neg_item = np.random.choice(n_items)\n",
    "            sample_pos_items[idx] = pos_item\n",
    "            sample_neg_items[idx] = neg_item\n",
    "\n",
    "        return sampled_users, sample_pos_items, sample_neg_items\n",
    "\n"
   ],
   "metadata": {
    "collapsed": false,
    "pycharm": {
     "name": "#%%\n"
    }
   }
  },
  {
   "cell_type": "code",
   "execution_count": 135,
   "outputs": [],
   "source": [
    "md = MatrixLayer(X_train.shape[0], X_train.shape[1])"
   ],
   "metadata": {
    "collapsed": false,
    "pycharm": {
     "name": "#%%\n"
    }
   }
  },
  {
   "cell_type": "code",
   "execution_count": 136,
   "outputs": [
    {
     "name": "stdout",
     "output_type": "stream",
     "text": [
      "tf.Tensor(\n",
      "[[0.00652106 0.00652106 0.00652106 ... 0.00652106 0.00652106 0.00652106]\n",
      " [0.00652106 0.00652106 0.00652106 ... 0.00652106 0.00652106 0.00652106]\n",
      " [0.00652106 0.00652106 0.00652106 ... 0.00652106 0.00652106 0.00652106]\n",
      " ...\n",
      " [0.00652106 0.00652106 0.00652106 ... 0.00652106 0.00652106 0.00652106]\n",
      " [0.00652106 0.00652106 0.00652106 ... 0.00652106 0.00652106 0.00652106]\n",
      " [0.00652106 0.00652106 0.00652106 ... 0.00652106 0.00652106 0.00652106]], shape=(943, 1682), dtype=float32)\n"
     ]
    }
   ],
   "source": [
    "print(md(X_train))"
   ],
   "metadata": {
    "collapsed": false,
    "pycharm": {
     "name": "#%%\n"
    }
   }
  },
  {
   "cell_type": "code",
   "execution_count": 146,
   "outputs": [
    {
     "data": {
      "text/plain": "[<tf.Variable 'matrix_layer_9/embedding_29/embeddings:0' shape=(50, 20) dtype=float32, numpy=\n array([[-0.00682165,  0.03804878, -0.08698365,  0.02000416,  0.06398633,\n          0.01565262, -0.0046783 ,  0.06139007,  0.0101874 ,  0.0021352 ,\n         -0.02615482, -0.0548641 , -0.07185643,  0.02863084,  0.06557573,\n         -0.00845705,  0.01562701, -0.04647553, -0.03054772,  0.00185169],\n        [-0.01845822,  0.00500589,  0.04147984, -0.01473373, -0.01301052,\n         -0.01276167,  0.04798264,  0.01492919,  0.00763836, -0.0407983 ,\n         -0.00606241,  0.02299438, -0.01212481,  0.0666387 ,  0.04677532,\n         -0.03029574, -0.09772898, -0.00122785,  0.00619325, -0.07178642],\n        [ 0.06504812, -0.09849685, -0.00164992, -0.00582678,  0.02359527,\n          0.05080794, -0.0268607 ,  0.05285976, -0.02864602, -0.05365189,\n          0.02990671, -0.00687724, -0.01487051, -0.01029079, -0.05977713,\n          0.05105176, -0.01462513, -0.00306088,  0.03193115, -0.00671104],\n        [ 0.05762236, -0.0208871 ,  0.06988438,  0.0055771 ,  0.08865254,\n         -0.0112154 , -0.01423246,  0.09236303,  0.02929321,  0.10369422,\n          0.05473099,  0.06740184, -0.00916351, -0.01571377,  0.02451545,\n         -0.03882329, -0.06362901,  0.05900082, -0.06242894, -0.04508828],\n        [-0.06039345,  0.08652638,  0.01581951,  0.04416844, -0.08514654,\n          0.01004779, -0.00906336, -0.0189755 , -0.01900036,  0.07688129,\n         -0.01843866, -0.01294293,  0.05076373, -0.05208487, -0.04154569,\n          0.05283872, -0.06142784, -0.04532051, -0.11139774, -0.09829358],\n        [-0.02531232, -0.09372856, -0.04258523,  0.00238494,  0.06336349,\n         -0.02223585,  0.07447241, -0.00441923,  0.0245386 , -0.05674462,\n         -0.04902106,  0.01210758,  0.05516113,  0.01003116,  0.08913766,\n         -0.03830421, -0.00164539,  0.00624094,  0.07159953, -0.04628622],\n        [ 0.0832693 ,  0.11086682, -0.00459578, -0.02965871,  0.00202315,\n         -0.0367846 ,  0.06945529,  0.00311436, -0.01359826, -0.07284237,\n          0.01261505, -0.11612885,  0.03279273,  0.03931827, -0.00878188,\n         -0.01968218, -0.01414033, -0.01010016, -0.0510053 ,  0.02965554],\n        [-0.11634207,  0.06419585, -0.02111019,  0.00483312,  0.07906771,\n          0.03097823, -0.00491224,  0.05992739, -0.02569575, -0.07052627,\n         -0.0051297 , -0.0978037 , -0.04227008,  0.03211245,  0.03540515,\n         -0.01578056, -0.02034077, -0.03544377, -0.0396605 ,  0.02855587],\n        [-0.05435548,  0.0179238 , -0.09521256, -0.01783554,  0.0445472 ,\n          0.06940405, -0.04728593, -0.06583128, -0.02189543, -0.0307627 ,\n         -0.02612447,  0.08208093,  0.03291821, -0.0448347 ,  0.03202153,\n         -0.06034724,  0.10559036,  0.00381477, -0.09516915,  0.02937302],\n        [ 0.06408806,  0.01694681,  0.00187344,  0.00667937, -0.03475842,\n          0.04441301, -0.09935673,  0.00107029, -0.03005322, -0.03905021,\n         -0.02474482,  0.09946816, -0.0172924 , -0.07047866,  0.05020294,\n          0.06802761, -0.035153  , -0.04933043, -0.03078239,  0.04874859],\n        [ 0.01711591, -0.02734937, -0.07860112,  0.08377778, -0.05739155,\n         -0.03053751,  0.01325517,  0.08402718, -0.04949549,  0.03655887,\n         -0.06950911, -0.17580399, -0.0508806 , -0.00180685, -0.00056091,\n         -0.0357171 ,  0.0290129 , -0.02806634,  0.01985126,  0.02611177],\n        [-0.05945154,  0.04181563,  0.00658905,  0.02883826,  0.04507331,\n         -0.0767773 ,  0.05211249, -0.03663674, -0.01425083, -0.07218902,\n          0.0158001 , -0.03325397, -0.01708492, -0.06117794,  0.05625965,\n          0.01768443,  0.00915003,  0.0173715 ,  0.05723119,  0.02956783],\n        [ 0.03196217,  0.05107615, -0.07697269,  0.0117263 ,  0.04701655,\n         -0.02631012,  0.01141364, -0.05728112, -0.01218535, -0.04028471,\n         -0.00144452, -0.00508481, -0.0245089 , -0.01551055, -0.03464203,\n          0.00145416,  0.02570625, -0.0442191 ,  0.02155166,  0.02123486],\n        [ 0.03135301,  0.09517634,  0.08689201, -0.0394939 ,  0.04021142,\n          0.00426921, -0.08492245,  0.10656325, -0.06222078,  0.00516261,\n          0.05121546, -0.05297314, -0.0224961 , -0.00043258,  0.03445031,\n          0.04373279, -0.00475866,  0.05268716, -0.07380117, -0.1357936 ],\n        [ 0.00885249,  0.07306474,  0.04493203,  0.04297934, -0.00171655,\n         -0.02895359,  0.05168265,  0.036371  ,  0.03034871, -0.0135554 ,\n          0.09981736,  0.01766141,  0.08010616, -0.0789775 , -0.01121023,\n          0.01896485, -0.05052514, -0.00536546, -0.04539511, -0.05174864],\n        [-0.00853635, -0.00562594, -0.07082131, -0.0743691 ,  0.03908705,\n         -0.01913337,  0.0910029 , -0.03033632, -0.03754318, -0.02775422,\n          0.02674169,  0.04295778, -0.09339169, -0.06055455,  0.01766815,\n         -0.04666584, -0.05102697, -0.01562998,  0.00290512, -0.0180781 ],\n        [-0.0401499 ,  0.03666838,  0.06573278,  0.03668001,  0.02891502,\n         -0.0244705 ,  0.03656362, -0.10558257, -0.08035966,  0.02264429,\n         -0.06138637, -0.04014916,  0.08258545,  0.0474719 , -0.00865226,\n          0.02410638, -0.00633948,  0.0074234 ,  0.03714429, -0.01731239],\n        [-0.05308178,  0.03120304,  0.05427362, -0.05524017, -0.01814237,\n         -0.04180881, -0.00525114, -0.00185284,  0.05590172, -0.02008593,\n          0.088287  ,  0.04719728, -0.01691591,  0.05781201,  0.0780585 ,\n          0.04762657, -0.03750734,  0.00055755,  0.02250414, -0.00850623],\n        [-0.00188195,  0.03114991, -0.00226668, -0.0675954 ,  0.01962574,\n         -0.02220997, -0.05801669, -0.00517413,  0.07193919, -0.06086034,\n          0.04181595,  0.02472106,  0.0723325 , -0.00265191,  0.03031391,\n          0.0587141 ,  0.0383109 , -0.02569797,  0.07371768, -0.02014493],\n        [-0.05937837,  0.04017336,  0.03734283,  0.07422595, -0.03988881,\n         -0.02577217, -0.02680407, -0.07453057,  0.00437396,  0.07189701,\n         -0.02259846, -0.00082464,  0.08182108, -0.06419012, -0.0452146 ,\n         -0.01472679,  0.03538307, -0.04676163,  0.0086381 ,  0.05569658],\n        [-0.04388523,  0.02891333, -0.04212919,  0.00581752,  0.01323162,\n         -0.02536162, -0.016212  ,  0.02886544,  0.03579528,  0.00361816,\n         -0.02872895,  0.10735988,  0.0466496 , -0.04684724,  0.04230157,\n          0.06295925,  0.03334705,  0.00182149, -0.042937  , -0.02092514],\n        [-0.06201638, -0.04612033,  0.02005999,  0.08373954,  0.02856522,\n         -0.00654522,  0.04289797, -0.06918567,  0.01454792, -0.06791671,\n         -0.06894476,  0.01171663, -0.01803506,  0.00632573,  0.07516278,\n          0.08408053, -0.01576409, -0.05318428,  0.08677777, -0.0368883 ],\n        [ 0.00554563,  0.01043136, -0.06368233,  0.02976556, -0.0016136 ,\n         -0.00227232, -0.09206744,  0.03109245, -0.05061517,  0.00963861,\n         -0.11414087, -0.02850061, -0.01914234, -0.00241334,  0.03818168,\n          0.07276587, -0.00208932,  0.00439339,  0.01016442,  0.0062792 ],\n        [-0.05755861,  0.02313164,  0.00962484,  0.02450427, -0.09826287,\n          0.00200949, -0.04987482,  0.04859788, -0.02159093, -0.01456939,\n         -0.05607807,  0.01364242,  0.10254798,  0.04355371,  0.01129259,\n         -0.0278298 , -0.02664439, -0.00181904, -0.01093775, -0.12183537],\n        [ 0.10276511, -0.00303622,  0.04960379, -0.0979619 , -0.01704363,\n          0.12291588, -0.02722809, -0.01360332,  0.00910949, -0.00810214,\n         -0.05167415,  0.08082341,  0.04359736, -0.01292635,  0.02642899,\n          0.01270568, -0.03968189, -0.01400441, -0.03147708, -0.02490521],\n        [ 0.02231346,  0.03195747,  0.00029949,  0.03049183,  0.03617203,\n         -0.0061301 , -0.0152046 ,  0.03592343, -0.0559252 ,  0.05140381,\n         -0.00855803, -0.06905454, -0.06890634, -0.07786145,  0.00278876,\n         -0.01266394,  0.04113326, -0.06832088,  0.07086986,  0.00996089],\n        [ 0.05415154, -0.08421341, -0.03638712,  0.05366902, -0.05651079,\n         -0.01887859, -0.00701061,  0.03170442, -0.07943954,  0.04568223,\n         -0.00393118,  0.02035793,  0.01300806,  0.02671957, -0.11896089,\n          0.00445227, -0.03054289, -0.02438621,  0.03169301, -0.06642722],\n        [ 0.00237119, -0.06680387, -0.02469747, -0.08687792,  0.00485379,\n          0.04091006, -0.03177148, -0.07731945,  0.03531217, -0.07856759,\n          0.03696496,  0.01674351,  0.02089809, -0.01200095,  0.09163564,\n         -0.10674693,  0.04433278, -0.01109268,  0.0280134 ,  0.08090635],\n        [ 0.03060231, -0.06528506, -0.08670508,  0.01530447, -0.02583603,\n          0.00233884,  0.01911754,  0.05702956,  0.00743989, -0.00226339,\n         -0.02240488, -0.04202002,  0.04882826, -0.04870611,  0.08582988,\n         -0.03257627,  0.03867036,  0.10527354, -0.01881689, -0.01149733],\n        [ 0.05080817,  0.01817559,  0.00573914,  0.00476387,  0.01052052,\n          0.04037733,  0.02047385,  0.06072386, -0.02165257, -0.13487504,\n         -0.01104113, -0.10338197, -0.05956779,  0.03259099, -0.01585866,\n         -0.04189423, -0.08261538, -0.07446065,  0.06316236,  0.03757791],\n        [-0.10321589,  0.07727937,  0.02155146,  0.00084678, -0.034603  ,\n         -0.01051261, -0.00826597, -0.00829459,  0.02779421, -0.04380258,\n          0.05810079, -0.00124007,  0.03356003, -0.03810548,  0.00558758,\n          0.03912146, -0.00421823, -0.00199014,  0.06197086, -0.06595998],\n        [-0.02099317, -0.00329821,  0.01555162,  0.04075565,  0.06517368,\n         -0.04054158,  0.09958488, -0.05804418, -0.13549069,  0.09159731,\n          0.0611224 ,  0.04463696,  0.01617095, -0.00854862,  0.0097224 ,\n         -0.00359793,  0.00845641, -0.06560917,  0.01836745, -0.05098669],\n        [ 0.00123176, -0.0930513 ,  0.09172761,  0.07504475, -0.03727731,\n          0.06425425, -0.04911675,  0.0281508 , -0.01418661, -0.03481236,\n          0.00922588,  0.07666495,  0.02530067, -0.12322222, -0.14082171,\n         -0.01283673, -0.00907712,  0.00402437, -0.05230312, -0.03731177],\n        [ 0.00692825, -0.05610634,  0.02122203, -0.07512283,  0.04107411,\n          0.01107511,  0.05476343,  0.00124398, -0.15040717, -0.02312511,\n         -0.03173216, -0.02504845, -0.00655169, -0.02881643,  0.02102953,\n         -0.02352811, -0.02496726,  0.07102548,  0.0088217 ,  0.03442992],\n        [ 0.0030578 ,  0.06547365, -0.0914529 ,  0.02518817, -0.04357859,\n          0.05642479,  0.04652594, -0.00201513, -0.01830794, -0.01640492,\n          0.00330239,  0.02104666,  0.00211158, -0.07261898, -0.09423061,\n         -0.00061756, -0.0530217 ,  0.07478457,  0.09875288,  0.03892267],\n        [-0.09445131,  0.02062301, -0.04498148, -0.03878708,  0.04844938,\n          0.05093073,  0.02590333, -0.16429603, -0.02060023,  0.06564849,\n          0.0607517 ,  0.06953949,  0.01900288,  0.04339137,  0.01399357,\n          0.04280704,  0.03831893, -0.02534341,  0.00020692, -0.02730229],\n        [-0.11409038, -0.0199899 ,  0.01001152, -0.0046359 , -0.02627246,\n          0.12769696, -0.01022959, -0.00664561,  0.00980427, -0.05487731,\n         -0.02383671,  0.05427008, -0.05392538,  0.03983649,  0.10843537,\n         -0.00679656, -0.03501613,  0.02302663, -0.03474899, -0.01194321],\n        [ 0.02231954, -0.04050739,  0.07984396, -0.00170899, -0.05251604,\n          0.04828247,  0.0547571 , -0.08408543, -0.02705198,  0.04518706,\n         -0.01529267, -0.03055143, -0.0385078 ,  0.02957222, -0.03525176,\n          0.02764131, -0.06203966, -0.03575225,  0.04747855, -0.03147031],\n        [ 0.05054168, -0.0088669 , -0.05184337,  0.03181155, -0.01100735,\n         -0.02794571, -0.05705638,  0.01593704, -0.00712198, -0.02039709,\n         -0.08635818, -0.03242455,  0.0289968 ,  0.05867571,  0.01510451,\n          0.00282087,  0.00031681,  0.05753836,  0.05188228,  0.00800686],\n        [ 0.02284375, -0.03944217, -0.01756893, -0.04456885, -0.03434706,\n         -0.00223828,  0.07547677,  0.09003425, -0.11825784,  0.03454546,\n         -0.09125544,  0.01400479, -0.01386959,  0.03997458,  0.04670173,\n         -0.06112746, -0.03983416, -0.03326901, -0.01464656, -0.00810623],\n        [ 0.11773638,  0.13492732, -0.01465362,  0.04820006, -0.09694817,\n          0.04034403,  0.07242636,  0.01636694,  0.01057412,  0.0420609 ,\n          0.04682792,  0.0126673 ,  0.01730233, -0.02678779,  0.02932591,\n         -0.00296622,  0.02362843,  0.04852272,  0.00099804, -0.03628722],\n        [-0.03467837, -0.00401411, -0.07299668, -0.00145233,  0.0690277 ,\n         -0.01340477,  0.0073802 ,  0.07232088,  0.0079363 ,  0.08516923,\n         -0.16130291, -0.02385132, -0.04451126, -0.07177847,  0.01172394,\n         -0.04966564, -0.02071782, -0.02178422,  0.05784454, -0.02796392],\n        [ 0.02108223,  0.04593133, -0.00146684, -0.02180263, -0.08596518,\n          0.05323201,  0.0184611 ,  0.02838554,  0.02963409,  0.00644308,\n         -0.00316052,  0.07982772, -0.11178328,  0.06877021, -0.06672438,\n         -0.0046578 , -0.01647769,  0.00961774,  0.04515024,  0.02013909],\n        [-0.01941998, -0.01445991, -0.04655199,  0.00222519, -0.00971506,\n          0.01632649, -0.02564736,  0.02460755,  0.00435641,  0.0259975 ,\n          0.03066358,  0.05213297, -0.05073559, -0.0302018 , -0.04390925,\n         -0.00055986,  0.01338377, -0.03350472,  0.06826963, -0.04802073],\n        [-0.03923212, -0.08317877, -0.05555078, -0.01508819, -0.007728  ,\n         -0.04794105, -0.03702962, -0.04860954, -0.04520608,  0.01288542,\n         -0.0028038 , -0.04030348, -0.07925011,  0.01079882, -0.05585219,\n          0.04890732,  0.01116697,  0.02644518,  0.02600656, -0.00332137],\n        [ 0.08801915, -0.06539778, -0.07386966,  0.04006058, -0.02364749,\n          0.0149232 ,  0.06116699, -0.01744855, -0.04857839,  0.04087532,\n         -0.02025701,  0.07418393,  0.00948235,  0.05225952, -0.04531488,\n         -0.02511695,  0.01964253,  0.0039106 ,  0.02202379, -0.07953691],\n        [-0.11220299, -0.126356  , -0.00664916,  0.05366113, -0.09633308,\n         -0.13595858,  0.02447532, -0.0052281 , -0.06982534, -0.04986964,\n          0.06819778, -0.01281961, -0.01932986, -0.00076493, -0.02476489,\n         -0.02428081, -0.01716877, -0.07730416,  0.13038298, -0.08922433],\n        [ 0.00817249,  0.00495766,  0.04809362, -0.03169297,  0.00804606,\n         -0.00841233, -0.00874524,  0.08053213, -0.05228433,  0.00496705,\n          0.01581175, -0.02205477,  0.0050172 , -0.09512048,  0.02187671,\n          0.06447187, -0.03691071,  0.00039754, -0.04840602,  0.03453693],\n        [ 0.0640228 , -0.02129345, -0.040147  , -0.15561993, -0.0376262 ,\n         -0.01104125,  0.03426902, -0.02619921,  0.05499202,  0.0201873 ,\n          0.01457507, -0.00306481,  0.01810648,  0.03006811,  0.00232284,\n          0.01568512,  0.05156546,  0.01001551,  0.0387699 ,  0.00503301],\n        [-0.0729045 ,  0.12192819, -0.08552364, -0.08765126,  0.03698058,\n         -0.11411846, -0.00459634, -0.03139187,  0.03814743,  0.01175026,\n          0.06492617,  0.00204701, -0.06429435, -0.02437778,  0.01227173,\n         -0.03624235, -0.00099056, -0.05475125,  0.04979527,  0.02504184]],\n       dtype=float32)>,\n <tf.Variable 'matrix_layer_9/embedding_30/embeddings:0' shape=(50, 20) dtype=float32, numpy=\n array([[ 0.00712558, -0.01744292, -0.0031307 ,  0.05093463,  0.06354679,\n         -0.03826246,  0.03663186,  0.06585289, -0.01593651,  0.06634411,\n          0.07654544, -0.00892017,  0.01130003,  0.01471323,  0.03892263,\n          0.03530466, -0.05319793, -0.00465531,  0.03885147,  0.04083128],\n        [ 0.02182811,  0.06239597, -0.05652601, -0.03770037,  0.04053723,\n         -0.06521677,  0.08811076, -0.05935809,  0.01087114, -0.02275409,\n         -0.03121843,  0.03437638,  0.001349  ,  0.01574331,  0.08757977,\n         -0.01287259, -0.06917495, -0.06336278,  0.11260915, -0.00514319],\n        [-0.0212495 , -0.00891044, -0.00246008, -0.01143745, -0.01529136,\n         -0.09038043,  0.02779069, -0.07742599, -0.01416178,  0.03574562,\n         -0.0667074 ,  0.01949584,  0.01689903,  0.00984221,  0.01069521,\n         -0.00022648,  0.00437694, -0.08665481,  0.02580106, -0.05501322],\n        [ 0.04365503, -0.04663789,  0.01567572, -0.00622009,  0.01677173,\n         -0.01615398, -0.06563019, -0.03549163, -0.06076918, -0.0302574 ,\n         -0.00589563, -0.01577856,  0.1039411 , -0.03837338, -0.03829248,\n          0.0908899 , -0.00388611,  0.09371581, -0.0104271 ,  0.03700792],\n        [-0.03643125,  0.05916107, -0.00343525, -0.0119034 ,  0.06491181,\n          0.0282472 ,  0.1255856 , -0.01770972, -0.03964664,  0.01297424,\n          0.04582638, -0.02567499,  0.00437412,  0.02351448,  0.06120246,\n          0.04600214, -0.03240736,  0.08074606,  0.00207557, -0.03674662],\n        [ 0.03176137,  0.04999556, -0.07768128, -0.00398306,  0.00410704,\n          0.08934596,  0.04148652,  0.01106526,  0.00222628, -0.02354119,\n         -0.00205318, -0.05267899,  0.02867572, -0.005993  , -0.02419351,\n         -0.00421263,  0.02045156,  0.0443508 ,  0.03568527,  0.07404152],\n        [-0.05702694,  0.01814193, -0.02568227, -0.07559349, -0.02523751,\n          0.02455511,  0.00713977, -0.02367372, -0.09091055, -0.01528617,\n         -0.02082218,  0.03176824, -0.0655783 , -0.00764194, -0.04864062,\n         -0.06350409, -0.04199867,  0.0167696 ,  0.01302488, -0.00747596],\n        [-0.02740793,  0.05483121,  0.06716277, -0.08116465,  0.02271638,\n         -0.02173926, -0.04614852, -0.01870897,  0.01442309, -0.06108132,\n         -0.02385866,  0.01476524, -0.00633194, -0.11441989, -0.05512313,\n         -0.05154802, -0.00939345, -0.00253579,  0.07993883,  0.08525535],\n        [-0.06369314,  0.00272822, -0.02910979,  0.04844801, -0.05454922,\n         -0.08148255,  0.01422729, -0.00345241, -0.00724034, -0.02528052,\n          0.03377919,  0.04249102,  0.03786465, -0.03499829,  0.08711984,\n          0.0460681 , -0.06982493,  0.09042742, -0.07047527, -0.01878881],\n        [ 0.00336416,  0.00018244, -0.02286275, -0.1106269 ,  0.0107325 ,\n          0.07202999,  0.02918623, -0.08403318,  0.06216854, -0.0507279 ,\n         -0.0512045 ,  0.00583502, -0.0319407 ,  0.07210792, -0.01646255,\n         -0.00254115,  0.05104496, -0.04232148, -0.05474182,  0.0137954 ],\n        [ 0.00450111,  0.04974978, -0.0167719 ,  0.01497991,  0.02258892,\n         -0.01510472,  0.02447776,  0.0295999 ,  0.1220871 ,  0.0094142 ,\n         -0.05175072,  0.00783855,  0.08352163, -0.00170446, -0.05280242,\n         -0.05800558, -0.06480355, -0.0365616 , -0.056467  , -0.00162778],\n        [ 0.04039248, -0.0861453 ,  0.06886362,  0.07047258,  0.04535808,\n          0.01684585, -0.02889023,  0.09185868,  0.02847934,  0.06057944,\n         -0.00411229, -0.00058496, -0.01868205,  0.05403658, -0.03753083,\n         -0.01103176,  0.01695434, -0.04439696,  0.01997591, -0.07649152],\n        [-0.04100311,  0.02521685,  0.06191763, -0.03084421, -0.03182353,\n          0.04685641,  0.01655974, -0.01043509,  0.03820073,  0.05852608,\n          0.0099311 , -0.03584917, -0.07513361,  0.05686108,  0.09003341,\n         -0.0378055 , -0.02467875, -0.02295088, -0.08484378,  0.05130231],\n        [ 0.04856772,  0.09806164, -0.03138207, -0.00166992, -0.04639784,\n         -0.00301967,  0.01350539, -0.06058101, -0.0546153 , -0.0276519 ,\n          0.09126139,  0.01856076, -0.08251202, -0.01413893,  0.00677739,\n         -0.02736678,  0.10392745, -0.08044137,  0.04098574, -0.07875497],\n        [-0.05652304, -0.0338093 ,  0.07582702, -0.02115994,  0.03125471,\n         -0.00267079, -0.04969559,  0.01927154, -0.01597008,  0.01810708,\n          0.04178559,  0.00071886, -0.04652607, -0.14587258,  0.03761573,\n         -0.09120226,  0.02895195,  0.04065087, -0.01615175,  0.03078865],\n        [ 0.02372846,  0.01765844, -0.0947034 , -0.00080492,  0.02698954,\n          0.05111715, -0.0705828 ,  0.03793317, -0.00522895, -0.02199573,\n          0.04145574,  0.02187634, -0.04580015, -0.02482415, -0.03819615,\n          0.02981314, -0.03462688, -0.02551871,  0.00695179,  0.02975833],\n        [ 0.02886722, -0.02943978,  0.04260227, -0.0402489 , -0.03156739,\n          0.0021131 , -0.06518574, -0.04727168,  0.095524  ,  0.04540207,\n         -0.04330345, -0.07066923,  0.03513515,  0.04550693, -0.01305399,\n         -0.09737535,  0.02154952, -0.04346596, -0.00622643,  0.00942175],\n        [-0.01511108, -0.06530665, -0.06296488, -0.04246209,  0.04041423,\n         -0.04843472, -0.0137823 , -0.02176961, -0.10729273, -0.07210123,\n         -0.03684525,  0.01266798,  0.02473426,  0.08943936,  0.06497039,\n          0.0237951 , -0.04869138, -0.00527152,  0.03460547, -0.04615458],\n        [-0.03357917,  0.07801006,  0.03561096, -0.01734763,  0.0025947 ,\n          0.06466395,  0.05580805, -0.12187163,  0.05884204, -0.05920951,\n          0.03401145,  0.0670714 ,  0.03268179, -0.00972194,  0.01885528,\n          0.07644781, -0.00895858,  0.05348711,  0.02238612,  0.10003053],\n        [-0.00020072,  0.03601229,  0.05100827,  0.01210128, -0.04207386,\n          0.09368783, -0.01131542, -0.04726493, -0.01646804, -0.03542732,\n         -0.05771435,  0.01561764,  0.0401552 , -0.02415244, -0.00443583,\n          0.13354248, -0.03796587, -0.00462044,  0.00426416,  0.00018823],\n        [ 0.01393886, -0.07634801, -0.00599427, -0.052519  ,  0.01119568,\n          0.00423522, -0.05330678, -0.02183799, -0.03871702,  0.04972574,\n          0.02593674,  0.01314838,  0.08685426, -0.00404877, -0.02188827,\n         -0.00814215,  0.01397512,  0.05083361, -0.00224986,  0.06153012],\n        [ 0.01366912,  0.09949999, -0.00658662, -0.05269555,  0.00349948,\n          0.02066581, -0.05450169, -0.03397935, -0.04316608,  0.00389687,\n          0.11036694,  0.02972435, -0.04046765,  0.12197386,  0.0280582 ,\n          0.0155391 ,  0.02472032,  0.00382391, -0.01521808,  0.0723635 ],\n        [-0.07072069, -0.03098799, -0.05158915, -0.04818151, -0.0831342 ,\n         -0.04612568,  0.01343123,  0.03322441,  0.00283424,  0.01847425,\n         -0.01227119,  0.02753684, -0.06207072, -0.05198589,  0.04821469,\n         -0.01337185, -0.09335165,  0.0213724 ,  0.05237972, -0.03438109],\n        [-0.05555037,  0.04736762,  0.12070677, -0.00312821, -0.03515408,\n         -0.0535294 ,  0.02213792,  0.03637512,  0.03091569,  0.09616466,\n          0.04771442,  0.02341091, -0.05367109,  0.02396298,  0.00771824,\n          0.07928932,  0.02029168,  0.11482225, -0.0115786 , -0.04544985],\n        [-0.02158967, -0.00242567, -0.01850772, -0.03320883,  0.0629442 ,\n         -0.05114241, -0.01457481,  0.01873701,  0.0295489 , -0.12865135,\n          0.09504545,  0.01793336, -0.04736465, -0.03282028, -0.02327563,\n         -0.04449972,  0.04297744, -0.02597504, -0.01573037,  0.04540353],\n        [-0.00585385,  0.04178339, -0.09558769,  0.04420274, -0.00634477,\n          0.07195215,  0.10915083, -0.02332873,  0.0470896 , -0.06867227,\n         -0.0328481 , -0.00980874,  0.0240624 , -0.04910892,  0.02611695,\n          0.07697493, -0.00524406, -0.01993368, -0.01957325, -0.04603523],\n        [-0.00225956,  0.00150346,  0.03619115, -0.02458574, -0.04279155,\n         -0.08294996, -0.06947464,  0.00539555,  0.0626099 , -0.07871953,\n          0.02044965, -0.07845119,  0.06220955, -0.05400793, -0.05324041,\n          0.04161511, -0.00892357, -0.00209486,  0.08274932,  0.07617111],\n        [-0.0078791 ,  0.02808207, -0.00549868,  0.04565042,  0.01457709,\n          0.04607823, -0.07122325, -0.0204566 , -0.13798513, -0.07008749,\n         -0.0410884 ,  0.07123823, -0.05982704,  0.04902503,  0.02267074,\n         -0.07529562, -0.01283882, -0.05887604, -0.07353235,  0.0419504 ],\n        [ 0.07113116,  0.05208337, -0.04611278,  0.05680902, -0.08122167,\n          0.0055984 , -0.02344459,  0.06293443,  0.01754276,  0.03300825,\n          0.00410639,  0.04813207,  0.02301267, -0.06383261, -0.00849258,\n         -0.03006289,  0.01247318,  0.0151814 ,  0.04442482,  0.02395582],\n        [-0.06342665, -0.06017091, -0.02525622, -0.0029269 , -0.05618659,\n         -0.01260731, -0.10397186, -0.05116636, -0.09206813, -0.06921019,\n         -0.01311249, -0.03668791, -0.06457037, -0.06792637,  0.05209306,\n          0.03713431, -0.05969613,  0.01722188, -0.12821662, -0.07275832],\n        [ 0.07035717, -0.06190972, -0.01441915, -0.03522879, -0.00797136,\n          0.00772503,  0.05734887, -0.02586485, -0.05857331,  0.00812708,\n          0.04281676,  0.00198131,  0.03202235, -0.00815322, -0.0106433 ,\n          0.05325729,  0.04365552, -0.02564172,  0.03048563,  0.00518035],\n        [ 0.02146558, -0.00920651,  0.10644533,  0.00297818,  0.03178163,\n          0.13108248,  0.04063297, -0.02962551, -0.00570381, -0.00767899,\n         -0.07945137, -0.0342786 ,  0.03640362,  0.03005375,  0.02648467,\n          0.00985118,  0.02605618, -0.10984073, -0.00070834, -0.09315163],\n        [ 0.03437194, -0.05666775, -0.03414311,  0.01424875,  0.02689349,\n          0.02457174,  0.08867168,  0.05231569, -0.0947433 ,  0.02067517,\n          0.02212573, -0.01353255,  0.02723551,  0.00822199, -0.01052441,\n         -0.00192163, -0.01710075,  0.01159134,  0.00270396,  0.00827128],\n        [ 0.02081366, -0.01136912,  0.07360875,  0.07090857,  0.01181477,\n          0.00958002, -0.04648231,  0.04555555, -0.09586166, -0.05259563,\n          0.0115936 ,  0.01485027,  0.04691963,  0.03195309,  0.10255968,\n         -0.01627258,  0.0766952 ,  0.06481908,  0.03467875, -0.01305713],\n        [ 0.03017857, -0.01632915,  0.092066  ,  0.11259574, -0.00716738,\n         -0.08249523, -0.10392597, -0.02590224,  0.0454793 ,  0.03974986,\n          0.03630767,  0.00618062, -0.01020835,  0.03619437,  0.04265903,\n          0.02850201, -0.05507013,  0.11054373,  0.04864426,  0.01210908],\n        [ 0.00134058, -0.11180748, -0.00044081, -0.05667495, -0.0011948 ,\n         -0.10577527, -0.09103867, -0.02550386,  0.02091694,  0.02901632,\n         -0.00877861, -0.00805161,  0.00933047,  0.03833541,  0.03637055,\n          0.09297191, -0.01188003,  0.0163849 , -0.04740272,  0.00521499],\n        [-0.04343047,  0.03219264,  0.15080892, -0.01622876,  0.05565077,\n         -0.02668495, -0.03732535, -0.00666643,  0.01303223, -0.03051601,\n         -0.05926145, -0.07450873, -0.00702803, -0.00284105, -0.07899798,\n         -0.02549213, -0.00252088, -0.0009519 , -0.01767108, -0.01075536],\n        [-0.15489773,  0.04017632,  0.06223552, -0.07685467,  0.03755521,\n         -0.0244611 , -0.04396213, -0.00188397, -0.00335614, -0.08735868,\n         -0.01892278, -0.00720956, -0.06029725, -0.0277816 , -0.03771432,\n          0.12509637,  0.10597645,  0.12179919,  0.00876633,  0.08556079],\n        [ 0.0362909 ,  0.00312831,  0.09377956, -0.08656772, -0.01936849,\n          0.05541147, -0.00721315,  0.03413796, -0.00282343,  0.01354063,\n          0.06856482, -0.02706571, -0.01845215, -0.05406391,  0.02619415,\n         -0.0203915 , -0.01320653, -0.01079451,  0.0323973 ,  0.02683492],\n        [-0.03162109,  0.01936958, -0.00662929,  0.0541862 , -0.09264536,\n         -0.03684822,  0.01579431, -0.04038158,  0.01487664,  0.01520801,\n          0.03975117,  0.01782489, -0.03866343,  0.01548473, -0.06956556,\n         -0.03509958,  0.0134844 ,  0.03615915,  0.16141759,  0.1249974 ],\n        [-0.05524255, -0.09907766,  0.02014426, -0.00399918,  0.10340484,\n         -0.06979778,  0.00855365, -0.0178745 ,  0.0194373 , -0.01219717,\n         -0.000599  , -0.05385081, -0.05836855, -0.07827757, -0.09053504,\n         -0.04266164,  0.04676501,  0.00137074, -0.01941798,  0.01407971],\n        [-0.0318628 ,  0.0339967 , -0.0810686 , -0.09669712, -0.04173577,\n          0.03319108, -0.01250199,  0.0106052 ,  0.07755475,  0.06052188,\n         -0.03968434, -0.06274951, -0.11691811, -0.07411355, -0.04029016,\n          0.03887977, -0.00050155,  0.06218994,  0.11975498,  0.03728789],\n        [ 0.0071362 , -0.00034527,  0.02980498, -0.02498468,  0.04530897,\n         -0.02331728, -0.00133816,  0.00069509, -0.00653008,  0.00109381,\n          0.06475433,  0.05473139,  0.02678933,  0.0032537 , -0.06965414,\n         -0.0274638 , -0.0475548 , -0.01681587, -0.04742897, -0.0132179 ],\n        [-0.07618206, -0.02489809, -0.00255568, -0.0250449 ,  0.15181379,\n         -0.04557889,  0.13382685,  0.01385671,  0.05112688, -0.09090296,\n          0.13227299,  0.01341149,  0.00282197,  0.07877939,  0.02951276,\n          0.01658789, -0.04129867,  0.05591547, -0.07533484,  0.00498907],\n        [ 0.02311606, -0.00966125, -0.0719296 ,  0.01488389,  0.09389124,\n         -0.03665909,  0.02275873,  0.02785599,  0.03656962, -0.07515718,\n          0.03167095,  0.04656432,  0.00411861,  0.06530356,  0.04695462,\n         -0.03114247, -0.03062868, -0.04726936, -0.0467314 ,  0.0188173 ],\n        [-0.11498874, -0.03974849,  0.03278447,  0.06839954,  0.0117527 ,\n          0.0416794 , -0.0163963 , -0.00087415,  0.04806582,  0.10354835,\n          0.07236522, -0.05188461, -0.00270373,  0.00966722,  0.04235531,\n          0.03056225, -0.01941077,  0.00098074, -0.00479872, -0.00182981],\n        [-0.14858884, -0.05010215,  0.00861692, -0.07854054, -0.01312905,\n         -0.06742568,  0.0307766 , -0.04517413,  0.01655906,  0.00449939,\n         -0.04066465,  0.01601112, -0.1128986 ,  0.0206154 ,  0.03013355,\n         -0.06468743, -0.10132644,  0.02686964, -0.05526426,  0.01632   ],\n        [-0.01465395, -0.0378086 , -0.03095584, -0.01466875,  0.03036112,\n         -0.01390484, -0.0648457 , -0.05285836, -0.0888255 ,  0.01481131,\n          0.0438499 ,  0.0462423 , -0.01880572,  0.0584622 , -0.00975776,\n         -0.05323849,  0.0269441 , -0.08233667, -0.09799583,  0.0041818 ],\n        [ 0.06593713,  0.05408891, -0.04191981, -0.05718741, -0.01990318,\n          0.0286466 , -0.06992304, -0.04737681,  0.12215232, -0.02674321,\n          0.04647408,  0.02357632,  0.00212555,  0.03448793, -0.02456772,\n         -0.03829383,  0.02317584,  0.03008282,  0.03964986,  0.00789756],\n        [ 0.03664953, -0.0295058 ,  0.03745725,  0.0127648 ,  0.00279917,\n          0.03406067,  0.04428637,  0.01446123, -0.02505443,  0.01214606,\n         -0.02435216, -0.0525229 ,  0.00659778,  0.00423275,  0.08225109,\n         -0.01742789, -0.00943849, -0.0113049 ,  0.02463059, -0.06560122]],\n       dtype=float32)>,\n <tf.Variable 'Variable:0' shape=(1,) dtype=float64, numpy=array([0.23269242])>]"
     },
     "execution_count": 146,
     "metadata": {},
     "output_type": "execute_result"
    }
   ],
   "source": [
    "md.trainable_variables"
   ],
   "metadata": {
    "collapsed": false,
    "pycharm": {
     "name": "#%%\n"
    }
   }
  },
  {
   "cell_type": "code",
   "execution_count": 140,
   "outputs": [],
   "source": [
    "md.compile(optimizer=tf.keras.optimizers.SGD(learning_rate=0.01),\n",
    "           metrics=[tf.keras.metrics.AUC()])"
   ],
   "metadata": {
    "collapsed": false,
    "pycharm": {
     "name": "#%%\n"
    }
   }
  },
  {
   "cell_type": "code",
   "execution_count": 143,
   "outputs": [
    {
     "ename": "ValueError",
     "evalue": "Dimensions 943 and 100 are not compatible",
     "output_type": "error",
     "traceback": [
      "\u001B[1;31m---------------------------------------------------------------------------\u001B[0m",
      "\u001B[1;31mValueError\u001B[0m                                Traceback (most recent call last)",
      "Input \u001B[1;32mIn [143]\u001B[0m, in \u001B[0;36m<module>\u001B[1;34m\u001B[0m\n\u001B[1;32m----> 1\u001B[0m \u001B[43mmd\u001B[49m\u001B[38;5;241;43m.\u001B[39;49m\u001B[43mfit\u001B[49m\u001B[43m(\u001B[49m\u001B[43mX_train\u001B[49m\u001B[43m,\u001B[49m\u001B[43m \u001B[49m\u001B[43m_\u001B[49m\u001B[43m,\u001B[49m\u001B[43m  \u001B[49m\u001B[43mepochs\u001B[49m\u001B[38;5;241;43m=\u001B[39;49m\u001B[38;5;241;43m50\u001B[39;49m\u001B[43m)\u001B[49m\n",
      "File \u001B[1;32m~\\AppData\\Roaming\\Python\\Python310\\site-packages\\keras\\utils\\traceback_utils.py:70\u001B[0m, in \u001B[0;36mfilter_traceback.<locals>.error_handler\u001B[1;34m(*args, **kwargs)\u001B[0m\n\u001B[0;32m     67\u001B[0m     filtered_tb \u001B[38;5;241m=\u001B[39m _process_traceback_frames(e\u001B[38;5;241m.\u001B[39m__traceback__)\n\u001B[0;32m     68\u001B[0m     \u001B[38;5;66;03m# To get the full stack trace, call:\u001B[39;00m\n\u001B[0;32m     69\u001B[0m     \u001B[38;5;66;03m# `tf.debugging.disable_traceback_filtering()`\u001B[39;00m\n\u001B[1;32m---> 70\u001B[0m     \u001B[38;5;28;01mraise\u001B[39;00m e\u001B[38;5;241m.\u001B[39mwith_traceback(filtered_tb) \u001B[38;5;28;01mfrom\u001B[39;00m \u001B[38;5;28mNone\u001B[39m\n\u001B[0;32m     71\u001B[0m \u001B[38;5;28;01mfinally\u001B[39;00m:\n\u001B[0;32m     72\u001B[0m     \u001B[38;5;28;01mdel\u001B[39;00m filtered_tb\n",
      "File \u001B[1;32m~\\AppData\\Roaming\\Python\\Python310\\site-packages\\tensorflow\\python\\framework\\tensor_shape.py:299\u001B[0m, in \u001B[0;36mDimension.assert_is_compatible_with\u001B[1;34m(self, other)\u001B[0m\n\u001B[0;32m    289\u001B[0m \u001B[38;5;124;03m\"\"\"Raises an exception if `other` is not compatible with this Dimension.\u001B[39;00m\n\u001B[0;32m    290\u001B[0m \n\u001B[0;32m    291\u001B[0m \u001B[38;5;124;03mArgs:\u001B[39;00m\n\u001B[1;32m   (...)\u001B[0m\n\u001B[0;32m    296\u001B[0m \u001B[38;5;124;03m    is_compatible_with).\u001B[39;00m\n\u001B[0;32m    297\u001B[0m \u001B[38;5;124;03m\"\"\"\u001B[39;00m\n\u001B[0;32m    298\u001B[0m \u001B[38;5;28;01mif\u001B[39;00m \u001B[38;5;129;01mnot\u001B[39;00m \u001B[38;5;28mself\u001B[39m\u001B[38;5;241m.\u001B[39mis_compatible_with(other):\n\u001B[1;32m--> 299\u001B[0m   \u001B[38;5;28;01mraise\u001B[39;00m \u001B[38;5;167;01mValueError\u001B[39;00m(\u001B[38;5;124m\"\u001B[39m\u001B[38;5;124mDimensions \u001B[39m\u001B[38;5;132;01m%s\u001B[39;00m\u001B[38;5;124m and \u001B[39m\u001B[38;5;132;01m%s\u001B[39;00m\u001B[38;5;124m are not compatible\u001B[39m\u001B[38;5;124m\"\u001B[39m \u001B[38;5;241m%\u001B[39m\n\u001B[0;32m    300\u001B[0m                    (\u001B[38;5;28mself\u001B[39m, other))\n",
      "\u001B[1;31mValueError\u001B[0m: Dimensions 943 and 100 are not compatible"
     ]
    }
   ],
   "source": [
    "md.fit(X_train, _,  epochs=50)"
   ],
   "metadata": {
    "collapsed": false,
    "pycharm": {
     "name": "#%%\n"
    }
   }
  },
  {
   "cell_type": "code",
   "execution_count": 125,
   "outputs": [],
   "source": [
    "u = tf.keras.layers.Embedding(100, 20, embeddings_initializer=tf.keras.initializers.RandomNormal(seed=1234))(tf.zeros((X.shape[0], )))\n",
    "i = tf.keras.layers.Embedding(100, 20, embeddings_initializer=tf.keras.initializers.RandomNormal(seed=5678))(tf.zeros((X.shape[1], )))"
   ],
   "metadata": {
    "collapsed": false,
    "pycharm": {
     "name": "#%%\n"
    }
   }
  },
  {
   "cell_type": "code",
   "execution_count": 127,
   "outputs": [],
   "source": [
    "a, b, c = get_train_set(X_train)"
   ],
   "metadata": {
    "collapsed": false,
    "pycharm": {
     "name": "#%%\n"
    }
   }
  },
  {
   "cell_type": "code",
   "execution_count": 128,
   "outputs": [
    {
     "ename": "TypeError",
     "evalue": "Only integers, slices (`:`), ellipsis (`...`), tf.newaxis (`None`) and scalar tf.int32/tf.int64 tensors are valid indices, got array([210,  12, 152, 548,   4, 850, 753, 523, 410, 381, 109, 419, 185,\n        14, 606, 176, 449, 916, 220, 154,  42, 783, 831, 586, 724, 806,\n       810, 166,   2, 661, 180, 541, 671, 621,  90, 167, 312, 401, 350,\n       921, 583, 584,  28, 254, 390, 687, 219,  80, 400, 739, 638,  57,\n       926, 161,  66, 560, 620, 477,  38, 446, 382, 680, 120, 789, 745,\n       885, 130, 677, 918, 171, 193, 456, 845, 255, 486, 413, 311, 816,\n       372,  26, 191, 591,  39, 865, 735,  20, 195,  25, 475, 882,  68,\n       796,  10, 421, 670, 559, 835, 158, 521,  43])",
     "output_type": "error",
     "traceback": [
      "\u001B[1;31m---------------------------------------------------------------------------\u001B[0m",
      "\u001B[1;31mTypeError\u001B[0m                                 Traceback (most recent call last)",
      "Input \u001B[1;32mIn [128]\u001B[0m, in \u001B[0;36m<module>\u001B[1;34m\u001B[0m\n\u001B[1;32m----> 1\u001B[0m \u001B[43mu\u001B[49m\u001B[43m[\u001B[49m\u001B[43ma\u001B[49m\u001B[43m]\u001B[49m\n",
      "File \u001B[1;32m~\\AppData\\Roaming\\Python\\Python310\\site-packages\\tensorflow\\python\\util\\traceback_utils.py:153\u001B[0m, in \u001B[0;36mfilter_traceback.<locals>.error_handler\u001B[1;34m(*args, **kwargs)\u001B[0m\n\u001B[0;32m    151\u001B[0m \u001B[38;5;28;01mexcept\u001B[39;00m \u001B[38;5;167;01mException\u001B[39;00m \u001B[38;5;28;01mas\u001B[39;00m e:\n\u001B[0;32m    152\u001B[0m   filtered_tb \u001B[38;5;241m=\u001B[39m _process_traceback_frames(e\u001B[38;5;241m.\u001B[39m__traceback__)\n\u001B[1;32m--> 153\u001B[0m   \u001B[38;5;28;01mraise\u001B[39;00m e\u001B[38;5;241m.\u001B[39mwith_traceback(filtered_tb) \u001B[38;5;28;01mfrom\u001B[39;00m \u001B[38;5;28mNone\u001B[39m\n\u001B[0;32m    154\u001B[0m \u001B[38;5;28;01mfinally\u001B[39;00m:\n\u001B[0;32m    155\u001B[0m   \u001B[38;5;28;01mdel\u001B[39;00m filtered_tb\n",
      "File \u001B[1;32m~\\AppData\\Roaming\\Python\\Python310\\site-packages\\tensorflow\\python\\ops\\array_ops.py:906\u001B[0m, in \u001B[0;36m_check_index\u001B[1;34m(idx)\u001B[0m\n\u001B[0;32m    901\u001B[0m dtype \u001B[38;5;241m=\u001B[39m \u001B[38;5;28mgetattr\u001B[39m(idx, \u001B[38;5;124m\"\u001B[39m\u001B[38;5;124mdtype\u001B[39m\u001B[38;5;124m\"\u001B[39m, \u001B[38;5;28;01mNone\u001B[39;00m)\n\u001B[0;32m    902\u001B[0m \u001B[38;5;28;01mif\u001B[39;00m (dtype \u001B[38;5;129;01mis\u001B[39;00m \u001B[38;5;28;01mNone\u001B[39;00m \u001B[38;5;129;01mor\u001B[39;00m dtypes\u001B[38;5;241m.\u001B[39mas_dtype(dtype) \u001B[38;5;129;01mnot\u001B[39;00m \u001B[38;5;129;01min\u001B[39;00m _SUPPORTED_SLICE_DTYPES \u001B[38;5;129;01mor\u001B[39;00m\n\u001B[0;32m    903\u001B[0m     idx\u001B[38;5;241m.\u001B[39mshape \u001B[38;5;129;01mand\u001B[39;00m \u001B[38;5;28mlen\u001B[39m(idx\u001B[38;5;241m.\u001B[39mshape) \u001B[38;5;241m==\u001B[39m \u001B[38;5;241m1\u001B[39m):\n\u001B[0;32m    904\u001B[0m   \u001B[38;5;66;03m# TODO(slebedev): IndexError seems more appropriate here, but it\u001B[39;00m\n\u001B[0;32m    905\u001B[0m   \u001B[38;5;66;03m# will break `_slice_helper` contract.\u001B[39;00m\n\u001B[1;32m--> 906\u001B[0m   \u001B[38;5;28;01mraise\u001B[39;00m \u001B[38;5;167;01mTypeError\u001B[39;00m(_SLICE_TYPE_ERROR \u001B[38;5;241m+\u001B[39m \u001B[38;5;124m\"\u001B[39m\u001B[38;5;124m, got \u001B[39m\u001B[38;5;132;01m{!r}\u001B[39;00m\u001B[38;5;124m\"\u001B[39m\u001B[38;5;241m.\u001B[39mformat(idx))\n",
      "\u001B[1;31mTypeError\u001B[0m: Only integers, slices (`:`), ellipsis (`...`), tf.newaxis (`None`) and scalar tf.int32/tf.int64 tensors are valid indices, got array([210,  12, 152, 548,   4, 850, 753, 523, 410, 381, 109, 419, 185,\n        14, 606, 176, 449, 916, 220, 154,  42, 783, 831, 586, 724, 806,\n       810, 166,   2, 661, 180, 541, 671, 621,  90, 167, 312, 401, 350,\n       921, 583, 584,  28, 254, 390, 687, 219,  80, 400, 739, 638,  57,\n       926, 161,  66, 560, 620, 477,  38, 446, 382, 680, 120, 789, 745,\n       885, 130, 677, 918, 171, 193, 456, 845, 255, 486, 413, 311, 816,\n       372,  26, 191, 591,  39, 865, 735,  20, 195,  25, 475, 882,  68,\n       796,  10, 421, 670, 559, 835, 158, 521,  43])"
     ]
    }
   ],
   "source": [
    "u[a]"
   ],
   "metadata": {
    "collapsed": false,
    "pycharm": {
     "name": "#%%\n"
    }
   }
  },
  {
   "cell_type": "code",
   "execution_count": 124,
   "outputs": [
    {
     "ename": "IndexError",
     "evalue": "index 182 is out of bounds for axis 0 with size 100",
     "output_type": "error",
     "traceback": [
      "\u001B[1;31m---------------------------------------------------------------------------\u001B[0m",
      "\u001B[1;31mIndexError\u001B[0m                                Traceback (most recent call last)",
      "Input \u001B[1;32mIn [124]\u001B[0m, in \u001B[0;36m<module>\u001B[1;34m\u001B[0m\n\u001B[1;32m----> 1\u001B[0m \u001B[38;5;28mprint\u001B[39m(\u001B[43mu\u001B[49m\u001B[43m[\u001B[49m\u001B[43mu\u001B[49m\u001B[43m]\u001B[49m)\n\u001B[0;32m      2\u001B[0m \u001B[38;5;28mprint\u001B[39m(i)\n\u001B[0;32m      3\u001B[0m \u001B[38;5;28mprint\u001B[39m(u \u001B[38;5;241m@\u001B[39m tf\u001B[38;5;241m.\u001B[39mtranspose(i))\n",
      "\u001B[1;31mIndexError\u001B[0m: index 182 is out of bounds for axis 0 with size 100"
     ]
    }
   ],
   "source": [
    "print(u[u])\n",
    "print(i)\n",
    "print(u @ tf.transpose(i))"
   ],
   "metadata": {
    "collapsed": false,
    "pycharm": {
     "name": "#%%\n"
    }
   }
  },
  {
   "cell_type": "code",
   "execution_count": 68,
   "outputs": [],
   "source": [
    "p = MatrixLayer(X_train.shape[0], X_train.shape[1], seed=1234, K=20)"
   ],
   "metadata": {
    "collapsed": false,
    "pycharm": {
     "name": "#%%\n"
    }
   }
  },
  {
   "cell_type": "code",
   "execution_count": 69,
   "outputs": [
    {
     "ename": "TypeError",
     "evalue": "Exception encountered when calling layer \"matrix_layer_7\" \"                 f\"(type MatrixLayer).\n\n'KerasTensor' object is not callable\n\nCall arguments received by layer \"matrix_layer_7\" \"                 f\"(type MatrixLayer):\n  • inputs=('tf.Tensor(shape=(100,), dtype=int32)', 'tf.Tensor(shape=(100,), dtype=int32)', 'tf.Tensor(shape=(100,), dtype=int32)')",
     "output_type": "error",
     "traceback": [
      "\u001B[1;31m---------------------------------------------------------------------------\u001B[0m",
      "\u001B[1;31mTypeError\u001B[0m                                 Traceback (most recent call last)",
      "Input \u001B[1;32mIn [69]\u001B[0m, in \u001B[0;36m<module>\u001B[1;34m\u001B[0m\n\u001B[1;32m----> 1\u001B[0m \u001B[43mp\u001B[49m\u001B[43m(\u001B[49m\u001B[43mget_train_set\u001B[49m\u001B[43m(\u001B[49m\u001B[43mX_train\u001B[49m\u001B[43m)\u001B[49m\u001B[43m)\u001B[49m\n",
      "File \u001B[1;32m~\\AppData\\Roaming\\Python\\Python310\\site-packages\\keras\\utils\\traceback_utils.py:70\u001B[0m, in \u001B[0;36mfilter_traceback.<locals>.error_handler\u001B[1;34m(*args, **kwargs)\u001B[0m\n\u001B[0;32m     67\u001B[0m     filtered_tb \u001B[38;5;241m=\u001B[39m _process_traceback_frames(e\u001B[38;5;241m.\u001B[39m__traceback__)\n\u001B[0;32m     68\u001B[0m     \u001B[38;5;66;03m# To get the full stack trace, call:\u001B[39;00m\n\u001B[0;32m     69\u001B[0m     \u001B[38;5;66;03m# `tf.debugging.disable_traceback_filtering()`\u001B[39;00m\n\u001B[1;32m---> 70\u001B[0m     \u001B[38;5;28;01mraise\u001B[39;00m e\u001B[38;5;241m.\u001B[39mwith_traceback(filtered_tb) \u001B[38;5;28;01mfrom\u001B[39;00m \u001B[38;5;28mNone\u001B[39m\n\u001B[0;32m     71\u001B[0m \u001B[38;5;28;01mfinally\u001B[39;00m:\n\u001B[0;32m     72\u001B[0m     \u001B[38;5;28;01mdel\u001B[39;00m filtered_tb\n",
      "Input \u001B[1;32mIn [67]\u001B[0m, in \u001B[0;36mMatrixLayer.call\u001B[1;34m(self, inputs)\u001B[0m\n\u001B[0;32m      8\u001B[0m \u001B[38;5;28;01mdef\u001B[39;00m \u001B[38;5;21mcall\u001B[39m(\u001B[38;5;28mself\u001B[39m, inputs):\n\u001B[1;32m----> 9\u001B[0m     x \u001B[38;5;241m=\u001B[39m\u001B[38;5;28;43mself\u001B[39;49m\u001B[38;5;241;43m.\u001B[39;49m\u001B[43mdatasetInput\u001B[49m\u001B[43m(\u001B[49m\u001B[43minputs\u001B[49m\u001B[43m)\u001B[49m\n\u001B[0;32m     10\u001B[0m     \u001B[38;5;28;01mreturn\u001B[39;00m x\n",
      "\u001B[1;31mTypeError\u001B[0m: Exception encountered when calling layer \"matrix_layer_7\" \"                 f\"(type MatrixLayer).\n\n'KerasTensor' object is not callable\n\nCall arguments received by layer \"matrix_layer_7\" \"                 f\"(type MatrixLayer):\n  • inputs=('tf.Tensor(shape=(100,), dtype=int32)', 'tf.Tensor(shape=(100,), dtype=int32)', 'tf.Tensor(shape=(100,), dtype=int32)')"
     ]
    }
   ],
   "source": [
    "p(get_train_set(X_train))"
   ],
   "metadata": {
    "collapsed": false,
    "pycharm": {
     "name": "#%%\n"
    }
   }
  },
  {
   "cell_type": "code",
   "execution_count": 66,
   "outputs": [
    {
     "name": "stdout",
     "output_type": "stream",
     "text": [
      "Model: \"matrix_layer_6\"\n",
      "_________________________________________________________________\n",
      " Layer (type)                Output Shape              Param #   \n",
      "=================================================================\n",
      " embedding_10 (Embedding)    multiple                  0 (unused)\n",
      "                                                                 \n",
      " embedding_11 (Embedding)    multiple                  0 (unused)\n",
      "                                                                 \n",
      "=================================================================\n",
      "Total params: 0\n",
      "Trainable params: 0\n",
      "Non-trainable params: 0\n",
      "_________________________________________________________________\n"
     ]
    }
   ],
   "source": [
    "p.summary()"
   ],
   "metadata": {
    "collapsed": false,
    "pycharm": {
     "name": "#%%\n"
    }
   }
  },
  {
   "cell_type": "code",
   "execution_count": 47,
   "outputs": [
    {
     "name": "stdout",
     "output_type": "stream",
     "text": [
      "tf.Tensor(\n",
      "[[[0.02988671 0.02988671 0.02988671 ... 0.02988671 0.02988671 0.02988671]\n",
      "  [0.02988671 0.02988671 0.02988671 ... 0.02988671 0.02988671 0.02988671]\n",
      "  [0.02988671 0.02988671 0.02988671 ... 0.02988671 0.02988671 0.02988671]\n",
      "  ...\n",
      "  [0.02988671 0.02988671 0.02988671 ... 0.02988671 0.02988671 0.02988671]\n",
      "  [0.02988671 0.02988671 0.02988671 ... 0.02988671 0.02988671 0.02988671]\n",
      "  [0.02988671 0.02988671 0.02988671 ... 0.02988671 0.02988671 0.02988671]]], shape=(1, 943, 1574), dtype=float32)\n"
     ]
    }
   ],
   "source": [
    "print(tf.keras.layers.Dot(axes=2)((u, i)))"
   ],
   "metadata": {
    "collapsed": false,
    "pycharm": {
     "name": "#%%\n"
    }
   }
  },
  {
   "cell_type": "code",
   "execution_count": 103,
   "outputs": [],
   "source": [
    "class BPR(tf.keras.Model):\n",
    "    def __init__(self, n_users, n_items, K = 20):\n",
    "        super(BPR, self).__init__()\n",
    "\n",
    "    def build(self, input_shape):\n",
    "\n",
    "    def call(self, inputs, training=None, mask=None):\n"
   ],
   "metadata": {
    "collapsed": false,
    "pycharm": {
     "name": "#%%\n"
    }
   }
  },
  {
   "cell_type": "code",
   "execution_count": 60,
   "outputs": [
    {
     "data": {
      "text/plain": "943"
     },
     "execution_count": 60,
     "metadata": {},
     "output_type": "execute_result"
    }
   ],
   "source": [
    "n_users"
   ],
   "metadata": {
    "collapsed": false,
    "pycharm": {
     "name": "#%%\n"
    }
   }
  },
  {
   "cell_type": "code",
   "execution_count": 61,
   "outputs": [
    {
     "data": {
      "text/plain": "<943x1574 sparse matrix of type '<class 'numpy.int64'>'\n\twith 65641 stored elements in Compressed Sparse Row format>"
     },
     "execution_count": 61,
     "metadata": {},
     "output_type": "execute_result"
    }
   ],
   "source": [],
   "metadata": {
    "collapsed": false,
    "pycharm": {
     "name": "#%%\n"
    }
   }
  },
  {
   "cell_type": "code",
   "execution_count": 71,
   "outputs": [],
   "source": [
    "batch_size = 100\n",
    "sample_pos_items = np.zeros(shape=(batch_size, ), dtype=np.int32)\n",
    "sample_neg_items = np.zeros(shape=(batch_size, ), dtype=np.int32)\n",
    "sampled_users = np.random.choice(n_users, size=batch_size, replace=False)"
   ],
   "metadata": {
    "collapsed": false,
    "pycharm": {
     "name": "#%%\n"
    }
   }
  },
  {
   "cell_type": "code",
   "execution_count": 72,
   "outputs": [],
   "source": [
    "for idx, user in enumerate(sampled_users):\n",
    "    pos_items = X_train.indices[X_train.indptr[user] : X_train.indptr[user+1]]\n",
    "    pos_item = np.random.choice(pos_items)\n",
    "    neg_item = np.random.choice(n_items)\n",
    "    while neg_item in pos_items:\n",
    "        neg_item = np.random.choice(n_items)\n",
    "    sample_pos_items[idx] = pos_item\n",
    "    sample_neg_items[idx] = neg_item"
   ],
   "metadata": {
    "collapsed": false,
    "pycharm": {
     "name": "#%%\n"
    }
   }
  },
  {
   "cell_type": "code",
   "execution_count": 73,
   "outputs": [
    {
     "data": {
      "text/plain": "array([ 432,  466,  135,  322,  741,  299,   99,  723,  522,  194,  168,\n         22,  406,  505,  883,  529,   82,  474,  193, 1019,   49,  235,\n        122,   63,  167,  844,  126,  331,   99,  524,  867,  203,  698,\n        214,  939,  400,  120,  281,  245,    0,  126,  320,  200,   49,\n        221,  341, 1162,  325,  671,  176,  310,  596,   27,  671,  502,\n        189,  472,  344,  268,  309,  254,  507,  566,  743, 1184,  212,\n        492,  221,  303,  345, 1022,  282,  330,  123,  324,  254,   95,\n        773,  242,    6,   13,  267,  182,    8,  275,  391,  259,  110,\n        222,  741,  355,  478,   99,  217,  470,  474,  910,  303,  409,\n        698])"
     },
     "execution_count": 73,
     "metadata": {},
     "output_type": "execute_result"
    }
   ],
   "source": [
    "sample_pos_items"
   ],
   "metadata": {
    "collapsed": false,
    "pycharm": {
     "name": "#%%\n"
    }
   }
  },
  {
   "cell_type": "code",
   "execution_count": 74,
   "outputs": [
    {
     "data": {
      "text/plain": "array([ 376, 1365,   15,  860, 1184, 1390,  485,  976,  358,   37,  573,\n        466, 1460, 1163, 1091,  654,  419,   85, 1005,  952, 1293, 1120,\n       1049,   20,  757,  356, 1374,  470,  704,  394,  275,  998, 1108,\n        399,  422, 1563,  277,  413,  526, 1330,  338,  658, 1106,  267,\n       1668,  413,  101,  578,  774, 1037, 1545,  281, 1427, 1075,   77,\n       1187, 1102,  284, 1260, 1548,  186, 1196, 1081, 1635, 1442,  774,\n       1418, 1510,  759, 1214, 1458,  616, 1326, 1070, 1087,  524, 1652,\n        375,  417, 1653,  149,  682,  356,  286,   87, 1132, 1254,  190,\n       1478,   98, 1064, 1213, 1403, 1631,  851, 1333,  342, 1370,  905,\n       1024])"
     },
     "execution_count": 74,
     "metadata": {},
     "output_type": "execute_result"
    }
   ],
   "source": [
    "sample_neg_items"
   ],
   "metadata": {
    "collapsed": false,
    "pycharm": {
     "name": "#%%\n"
    }
   }
  },
  {
   "cell_type": "code",
   "execution_count": 137,
   "outputs": [
    {
     "data": {
      "text/plain": "<tf.Tensor: shape=(1, 1574, 20), dtype=float32, numpy=\narray([[[ 0.0065667 ,  0.0373587 , -0.0126505 , ...,  0.00081793,\n          0.00276158,  0.02203126],\n        [ 0.0065667 ,  0.0373587 , -0.0126505 , ...,  0.00081793,\n          0.00276158,  0.02203126],\n        [ 0.0065667 ,  0.0373587 , -0.0126505 , ...,  0.00081793,\n          0.00276158,  0.02203126],\n        ...,\n        [-0.01280067, -0.01815722, -0.01978045, ..., -0.00129392,\n          0.03975532, -0.02808129],\n        [-0.01280067, -0.01815722, -0.01978045, ..., -0.00129392,\n          0.03975532, -0.02808129],\n        [-0.01280067, -0.01815722, -0.01978045, ..., -0.00129392,\n          0.03975532, -0.02808129]]], dtype=float32)>"
     },
     "execution_count": 137,
     "metadata": {},
     "output_type": "execute_result"
    }
   ],
   "source": [
    "tf.keras.layers.Embedding(X.shape[0], 20)(X[0].toarray())"
   ],
   "metadata": {
    "collapsed": false,
    "pycharm": {
     "name": "#%%\n"
    }
   }
  },
  {
   "cell_type": "code",
   "execution_count": 110,
   "outputs": [
    {
     "data": {
      "text/plain": "1"
     },
     "execution_count": 110,
     "metadata": {},
     "output_type": "execute_result"
    }
   ],
   "source": [
    "np.random.choice([1, 2, 3, 4, 5, 6, 7, 8, 9])"
   ],
   "metadata": {
    "collapsed": false,
    "pycharm": {
     "name": "#%%\n"
    }
   }
  },
  {
   "cell_type": "code",
   "execution_count": 112,
   "outputs": [
    {
     "data": {
      "text/plain": "array([  0,   1,   2,   3,   4,   9,  12,  13,  14,  15,  16,  17,  18,\n        19,  21,  22,  23,  24,  25,  27,  29,  30,  31,  32,  37,  39,\n        42,  43,  44,  45,  46,  47,  48,  49,  51,  52,  54,  55,  56,\n        57,  59,  60,  63,  64,  66,  67,  68,  71,  72,  74,  76,  78,\n        80,  81,  82,  83,  85,  86,  88,  89,  91,  92,  94,  95,  96,\n        97,  98,  99, 105, 106, 108, 110, 113, 114, 115, 116, 117, 118,\n       120, 121, 122, 123, 126, 127, 128, 131, 132, 133, 136, 138, 140,\n       143, 145, 146, 149, 150, 151, 152, 153, 155, 156, 159, 160, 161,\n       163, 165, 167, 168, 169, 170, 171, 172, 173, 174, 175, 176, 178,\n       180, 183, 184, 185, 186, 187, 189, 190, 191, 192, 194, 195, 196,\n       197, 198, 199, 201, 202, 203, 204, 206, 207, 208, 209, 210, 213,\n       214, 216, 217, 219, 220, 221, 222, 223, 226, 227, 228, 229, 233,\n       234, 235, 237, 238, 239, 241, 245, 247, 248, 249, 250, 252, 255,\n       257, 264, 267, 268, 269, 271], dtype=int32)"
     },
     "execution_count": 112,
     "metadata": {},
     "output_type": "execute_result"
    }
   ],
   "source": [
    "X_train.indices[X_train.indptr[0] : X_train.indptr[1]]"
   ],
   "metadata": {
    "collapsed": false,
    "pycharm": {
     "name": "#%%\n"
    }
   }
  },
  {
   "cell_type": "code",
   "execution_count": 115,
   "outputs": [
    {
     "data": {
      "text/plain": "array([[ 0.47143516, -1.19097569,  1.43270697, ..., -0.6365235 ,\n         0.01569637, -2.24268495],\n       [ 1.15003572,  0.99194602,  0.95332413, ...,  0.28909194,\n         1.32115819, -1.54690555],\n       [-0.20264632, -0.65596934,  0.19342138, ..., -1.81702723,\n        -0.18310854,  1.05896919],\n       ...,\n       [-1.08122588, -0.71054264,  0.22577435, ..., -1.32841842,\n        -0.10509024, -0.30474092],\n       [-1.32883294, -0.21492897,  1.02977576, ..., -1.44969975,\n        -0.47642839,  0.28240043],\n       [-0.10858796,  0.88954734,  0.5372482 , ...,  0.00656127,\n         0.48912706, -0.87496395]])"
     },
     "execution_count": 115,
     "metadata": {},
     "output_type": "execute_result"
    }
   ],
   "source": [
    "rstate = np.random.RandomState(1234)\n",
    "rstate.normal(size=(X.shape[0], 10))"
   ],
   "metadata": {
    "collapsed": false,
    "pycharm": {
     "name": "#%%\n"
    }
   }
  },
  {
   "cell_type": "code",
   "execution_count": 88,
   "outputs": [],
   "source": [
    "tf.random.set_seed(1234)\n",
    "user_f = tf.random.uniform(shape=[1, 3])\n",
    "item_f = tf.random.uniform(shape=[1, 3])"
   ],
   "metadata": {
    "collapsed": false,
    "pycharm": {
     "name": "#%%\n"
    }
   }
  },
  {
   "cell_type": "code",
   "execution_count": 91,
   "outputs": [
    {
     "name": "stdout",
     "output_type": "stream",
     "text": [
      "tf.Tensor([[0.5380393  0.36461866 0.5816301 ]], shape=(1, 3), dtype=float32)\n",
      "tf.Tensor([[0.3253647  0.1387006  0.64804935]], shape=(1, 3), dtype=float32)\n",
      "tf.Tensor([[ 0.21267462  0.22591805 -0.06641924]], shape=(1, 3), dtype=float32)\n",
      "tf.Tensor([[2.6380239 2.6777542 1.8007423]], shape=(1, 3), dtype=float32)\n"
     ]
    }
   ],
   "source": [
    "print(user_f)\n",
    "print(item_f)\n",
    "print(user_f - item_f)\n",
    "print(3*(user_f - item_f) + 2)"
   ],
   "metadata": {
    "collapsed": false,
    "pycharm": {
     "name": "#%%\n"
    }
   }
  },
  {
   "cell_type": "code",
   "execution_count": 78,
   "outputs": [
    {
     "data": {
      "text/plain": "<tf.Variable 'Variable:0' shape=(1,) dtype=float64, numpy=array([0.03575459])>"
     },
     "execution_count": 78,
     "metadata": {},
     "output_type": "execute_result"
    }
   ],
   "source": [
    "tf.Variable(np.random.random(1))"
   ],
   "metadata": {
    "collapsed": false,
    "pycharm": {
     "name": "#%%\n"
    }
   }
  },
  {
   "cell_type": "code",
   "execution_count": 80,
   "outputs": [],
   "source": [
    "a = tf.constant(1)"
   ],
   "metadata": {
    "collapsed": false,
    "pycharm": {
     "name": "#%%\n"
    }
   }
  },
  {
   "cell_type": "code",
   "execution_count": 81,
   "outputs": [],
   "source": [
    "b=  tf.Variable([[1, 2, 3, 4, 5],\n",
    "                 [6, 7, 8, 9, 10]])"
   ],
   "metadata": {
    "collapsed": false,
    "pycharm": {
     "name": "#%%\n"
    }
   }
  },
  {
   "cell_type": "code",
   "execution_count": 82,
   "outputs": [
    {
     "data": {
      "text/plain": "<tf.Tensor: shape=(2, 5), dtype=int32, numpy=\narray([[ 2,  3,  4,  5,  6],\n       [ 7,  8,  9, 10, 11]])>"
     },
     "execution_count": 82,
     "metadata": {},
     "output_type": "execute_result"
    }
   ],
   "source": [
    "a + b"
   ],
   "metadata": {
    "collapsed": false,
    "pycharm": {
     "name": "#%%\n"
    }
   }
  },
  {
   "cell_type": "code",
   "execution_count": 102,
   "outputs": [
    {
     "data": {
      "text/plain": "<tf.Variable 'Variable:0' shape=(943, 20) dtype=float32, numpy=\narray([[0.9099175 , 0.6676756 , 0.19938636, ..., 0.00350428, 0.72572005,\n        0.07293105],\n       [0.5367712 , 0.58806586, 0.95469594, ..., 0.4465859 , 0.17873228,\n        0.09406638],\n       [0.6127943 , 0.6706804 , 0.96378195, ..., 0.73364496, 0.61318934,\n        0.85675085],\n       ...,\n       [0.16013873, 0.80373204, 0.8493011 , ..., 0.40641093, 0.6207274 ,\n        0.40679705],\n       [0.4282552 , 0.23951876, 0.4762038 , ..., 0.18497705, 0.04024673,\n        0.47545183],\n       [0.26014614, 0.74357116, 0.95878863, ..., 0.15979683, 0.17786896,\n        0.31191266]], dtype=float32)>"
     },
     "execution_count": 102,
     "metadata": {},
     "output_type": "execute_result"
    }
   ],
   "source": [
    "tf.Variable(tf.random.uniform(shape=[X_train.shape[0], 20]))"
   ],
   "metadata": {
    "collapsed": false,
    "pycharm": {
     "name": "#%%\n"
    }
   }
  },
  {
   "cell_type": "code",
   "execution_count": null,
   "outputs": [],
   "source": [
    "class BPR:\n",
    "\n",
    "    def __init__(self, X_train, embedding_depth=10, K=20):\n",
    "        super().__init__()\n",
    "        self.K = K\n",
    "        self.n_users, self.n_items = X_train.shape\n",
    "        self.embedding_depth = embedding_depth\n",
    "\n",
    "        self.build()\n",
    "    def build(self):\n",
    "        self.userInputLayer = tf.keras.Input(shape=(1, ), dtype=\"int32\")\n",
    "        self.itemPosInputLayer = tf.keras.Input(shape=(1, ), dtype=\"int32\")\n",
    "        self.itemNegInputLayer = tf.keras.Input(shape=(1, ), dtype=\"int32\")\n",
    "\n",
    "        self.u_embedding = tf.keras.layers.Embedding(self.embedding_depth, self.K, embeddings_initializer=tf.keras.initializers.RandomNormal(seed=1234))(self.userInputLayer)\n",
    "        self.u_embedding = tf.keras.layers.Flatten()(self.u_embedding)\n",
    "\n",
    "        self.i_embedding = tf.keras.layers.Embedding(self.embedding_depth, self.K, embeddings_initializer=tf.keras.initializers.RandomNormal(seed=5678))\n",
    "        self.i_embedding = tf.keras.layers.Flatten(self.i_embedding)\n",
    "\n",
    "\n",
    "\n",
    "    def get_BPR_Loss(self, matrixList):\n",
    "        userEmbeddingMatrix, itemPosMatrix, itemNegMatrix = matrixList\n",
    "\n"
   ],
   "metadata": {
    "collapsed": false,
    "pycharm": {
     "name": "#%%\n"
    }
   }
  },
  {
   "cell_type": "code",
   "execution_count": 104,
   "outputs": [],
   "source": [
    "u, i, j = get_train_set(X_train)"
   ],
   "metadata": {
    "collapsed": false,
    "pycharm": {
     "name": "#%%\n"
    }
   }
  },
  {
   "cell_type": "code",
   "execution_count": 107,
   "outputs": [
    {
     "data": {
      "text/plain": "<KerasTensor: shape=(None, 1) dtype=int32 (created by layer 'input_3')>"
     },
     "execution_count": 107,
     "metadata": {},
     "output_type": "execute_result"
    }
   ],
   "source": [
    "tf.keras.Input(shape=(1, ), dtype=\"int32\")"
   ],
   "metadata": {
    "collapsed": false,
    "pycharm": {
     "name": "#%%\n"
    }
   }
  },
  {
   "cell_type": "code",
   "execution_count": 112,
   "outputs": [],
   "source": [
    "userInput = tf.keras.Input(shape=(1, ), dtype=\"int32\")\n",
    "\n",
    "p = tf.keras.layers.Embedding(50, 20, embeddings_initializer=tf.keras.initializers.RandomNormal(seed=1234))(userInput)"
   ],
   "metadata": {
    "collapsed": false,
    "pycharm": {
     "name": "#%%\n"
    }
   }
  },
  {
   "cell_type": "code",
   "execution_count": 116,
   "outputs": [],
   "source": [
    "y = tf.keras.Model(inputs=userInput, outputs=p)"
   ],
   "metadata": {
    "collapsed": false,
    "pycharm": {
     "name": "#%%\n"
    }
   }
  },
  {
   "cell_type": "code",
   "execution_count": 121,
   "outputs": [
    {
     "name": "stdout",
     "output_type": "stream",
     "text": [
      "Model: \"model\"\n",
      "_________________________________________________________________\n",
      " Layer (type)                Output Shape              Param #   \n",
      "=================================================================\n",
      " input_5 (InputLayer)        [(None, 1)]               0         \n",
      "                                                                 \n",
      " embedding_26 (Embedding)    (None, 1, 20)             1000      \n",
      "                                                                 \n",
      "=================================================================\n",
      "Total params: 1,000\n",
      "Trainable params: 1,000\n",
      "Non-trainable params: 0\n",
      "_________________________________________________________________\n"
     ]
    }
   ],
   "source": [
    "y.summary()"
   ],
   "metadata": {
    "collapsed": false,
    "pycharm": {
     "name": "#%%\n"
    }
   }
  },
  {
   "cell_type": "code",
   "execution_count": 120,
   "outputs": [
    {
     "ename": "InvalidArgumentError",
     "evalue": "Graph execution error:\n\nDetected at node 'mean_squared_error/SquaredDifference' defined at (most recent call last):\n    File \"C:\\Users\\Yungi\\AppData\\Local\\Programs\\Python\\Python310\\lib\\runpy.py\", line 196, in _run_module_as_main\n      return _run_code(code, main_globals, None,\n    File \"C:\\Users\\Yungi\\AppData\\Local\\Programs\\Python\\Python310\\lib\\runpy.py\", line 86, in _run_code\n      exec(code, run_globals)\n    File \"C:\\Users\\Yungi\\AppData\\Local\\Programs\\Python\\Python310\\lib\\site-packages\\ipykernel_launcher.py\", line 16, in <module>\n      app.launch_new_instance()\n    File \"C:\\Users\\Yungi\\AppData\\Local\\Programs\\Python\\Python310\\lib\\site-packages\\traitlets\\config\\application.py\", line 978, in launch_instance\n      app.start()\n    File \"C:\\Users\\Yungi\\AppData\\Local\\Programs\\Python\\Python310\\lib\\site-packages\\ipykernel\\kernelapp.py\", line 677, in start\n      self.io_loop.start()\n    File \"C:\\Users\\Yungi\\AppData\\Local\\Programs\\Python\\Python310\\lib\\site-packages\\tornado\\platform\\asyncio.py\", line 199, in start\n      self.asyncio_loop.run_forever()\n    File \"C:\\Users\\Yungi\\AppData\\Local\\Programs\\Python\\Python310\\lib\\asyncio\\base_events.py\", line 595, in run_forever\n      self._run_once()\n    File \"C:\\Users\\Yungi\\AppData\\Local\\Programs\\Python\\Python310\\lib\\asyncio\\base_events.py\", line 1881, in _run_once\n      handle._run()\n    File \"C:\\Users\\Yungi\\AppData\\Local\\Programs\\Python\\Python310\\lib\\asyncio\\events.py\", line 80, in _run\n      self._context.run(self._callback, *self._args)\n    File \"C:\\Users\\Yungi\\AppData\\Local\\Programs\\Python\\Python310\\lib\\site-packages\\ipykernel\\kernelbase.py\", line 461, in dispatch_queue\n      await self.process_one()\n    File \"C:\\Users\\Yungi\\AppData\\Local\\Programs\\Python\\Python310\\lib\\site-packages\\ipykernel\\kernelbase.py\", line 450, in process_one\n      await dispatch(*args)\n    File \"C:\\Users\\Yungi\\AppData\\Local\\Programs\\Python\\Python310\\lib\\site-packages\\ipykernel\\kernelbase.py\", line 357, in dispatch_shell\n      await result\n    File \"C:\\Users\\Yungi\\AppData\\Local\\Programs\\Python\\Python310\\lib\\site-packages\\ipykernel\\kernelbase.py\", line 652, in execute_request\n      reply_content = await reply_content\n    File \"C:\\Users\\Yungi\\AppData\\Local\\Programs\\Python\\Python310\\lib\\site-packages\\ipykernel\\ipkernel.py\", line 359, in do_execute\n      res = shell.run_cell(code, store_history=store_history, silent=silent)\n    File \"C:\\Users\\Yungi\\AppData\\Local\\Programs\\Python\\Python310\\lib\\site-packages\\ipykernel\\zmqshell.py\", line 532, in run_cell\n      return super().run_cell(*args, **kwargs)\n    File \"C:\\Users\\Yungi\\AppData\\Local\\Programs\\Python\\Python310\\lib\\site-packages\\IPython\\core\\interactiveshell.py\", line 2768, in run_cell\n      result = self._run_cell(\n    File \"C:\\Users\\Yungi\\AppData\\Local\\Programs\\Python\\Python310\\lib\\site-packages\\IPython\\core\\interactiveshell.py\", line 2814, in _run_cell\n      return runner(coro)\n    File \"C:\\Users\\Yungi\\AppData\\Local\\Programs\\Python\\Python310\\lib\\site-packages\\IPython\\core\\async_helpers.py\", line 129, in _pseudo_sync_runner\n      coro.send(None)\n    File \"C:\\Users\\Yungi\\AppData\\Local\\Programs\\Python\\Python310\\lib\\site-packages\\IPython\\core\\interactiveshell.py\", line 3012, in run_cell_async\n      has_raised = await self.run_ast_nodes(code_ast.body, cell_name,\n    File \"C:\\Users\\Yungi\\AppData\\Local\\Programs\\Python\\Python310\\lib\\site-packages\\IPython\\core\\interactiveshell.py\", line 3191, in run_ast_nodes\n      if await self.run_code(code, result, async_=asy):\n    File \"C:\\Users\\Yungi\\AppData\\Local\\Programs\\Python\\Python310\\lib\\site-packages\\IPython\\core\\interactiveshell.py\", line 3251, in run_code\n      exec(code_obj, self.user_global_ns, self.user_ns)\n    File \"C:\\Users\\Yungi\\AppData\\Local\\Temp\\ipykernel_116876\\2375609823.py\", line 1, in <module>\n      y.fit(u, tf.ones(100))\n    File \"C:\\Users\\Yungi\\AppData\\Roaming\\Python\\Python310\\site-packages\\keras\\utils\\traceback_utils.py\", line 65, in error_handler\n      return fn(*args, **kwargs)\n    File \"C:\\Users\\Yungi\\AppData\\Roaming\\Python\\Python310\\site-packages\\keras\\engine\\training.py\", line 1564, in fit\n      tmp_logs = self.train_function(iterator)\n    File \"C:\\Users\\Yungi\\AppData\\Roaming\\Python\\Python310\\site-packages\\keras\\engine\\training.py\", line 1160, in train_function\n      return step_function(self, iterator)\n    File \"C:\\Users\\Yungi\\AppData\\Roaming\\Python\\Python310\\site-packages\\keras\\engine\\training.py\", line 1146, in step_function\n      outputs = model.distribute_strategy.run(run_step, args=(data,))\n    File \"C:\\Users\\Yungi\\AppData\\Roaming\\Python\\Python310\\site-packages\\keras\\engine\\training.py\", line 1135, in run_step\n      outputs = model.train_step(data)\n    File \"C:\\Users\\Yungi\\AppData\\Roaming\\Python\\Python310\\site-packages\\keras\\engine\\training.py\", line 994, in train_step\n      loss = self.compute_loss(x, y, y_pred, sample_weight)\n    File \"C:\\Users\\Yungi\\AppData\\Roaming\\Python\\Python310\\site-packages\\keras\\engine\\training.py\", line 1052, in compute_loss\n      return self.compiled_loss(\n    File \"C:\\Users\\Yungi\\AppData\\Roaming\\Python\\Python310\\site-packages\\keras\\engine\\compile_utils.py\", line 265, in __call__\n      loss_value = loss_obj(y_t, y_p, sample_weight=sw)\n    File \"C:\\Users\\Yungi\\AppData\\Roaming\\Python\\Python310\\site-packages\\keras\\losses.py\", line 152, in __call__\n      losses = call_fn(y_true, y_pred)\n    File \"C:\\Users\\Yungi\\AppData\\Roaming\\Python\\Python310\\site-packages\\keras\\losses.py\", line 272, in call\n      return ag_fn(y_true, y_pred, **self._fn_kwargs)\n    File \"C:\\Users\\Yungi\\AppData\\Roaming\\Python\\Python310\\site-packages\\keras\\losses.py\", line 1486, in mean_squared_error\n      return backend.mean(tf.math.squared_difference(y_pred, y_true), axis=-1)\nNode: 'mean_squared_error/SquaredDifference'\nrequired broadcastable shapes\n\t [[{{node mean_squared_error/SquaredDifference}}]] [Op:__inference_train_function_2285]",
     "output_type": "error",
     "traceback": [
      "\u001B[1;31m---------------------------------------------------------------------------\u001B[0m",
      "\u001B[1;31mInvalidArgumentError\u001B[0m                      Traceback (most recent call last)",
      "Input \u001B[1;32mIn [120]\u001B[0m, in \u001B[0;36m<module>\u001B[1;34m\u001B[0m\n\u001B[1;32m----> 1\u001B[0m \u001B[43my\u001B[49m\u001B[38;5;241;43m.\u001B[39;49m\u001B[43mfit\u001B[49m\u001B[43m(\u001B[49m\u001B[43mu\u001B[49m\u001B[43m,\u001B[49m\u001B[43m \u001B[49m\u001B[43mtf\u001B[49m\u001B[38;5;241;43m.\u001B[39;49m\u001B[43mones\u001B[49m\u001B[43m(\u001B[49m\u001B[38;5;241;43m100\u001B[39;49m\u001B[43m)\u001B[49m\u001B[43m)\u001B[49m\n",
      "File \u001B[1;32m~\\AppData\\Roaming\\Python\\Python310\\site-packages\\keras\\utils\\traceback_utils.py:70\u001B[0m, in \u001B[0;36mfilter_traceback.<locals>.error_handler\u001B[1;34m(*args, **kwargs)\u001B[0m\n\u001B[0;32m     67\u001B[0m     filtered_tb \u001B[38;5;241m=\u001B[39m _process_traceback_frames(e\u001B[38;5;241m.\u001B[39m__traceback__)\n\u001B[0;32m     68\u001B[0m     \u001B[38;5;66;03m# To get the full stack trace, call:\u001B[39;00m\n\u001B[0;32m     69\u001B[0m     \u001B[38;5;66;03m# `tf.debugging.disable_traceback_filtering()`\u001B[39;00m\n\u001B[1;32m---> 70\u001B[0m     \u001B[38;5;28;01mraise\u001B[39;00m e\u001B[38;5;241m.\u001B[39mwith_traceback(filtered_tb) \u001B[38;5;28;01mfrom\u001B[39;00m \u001B[38;5;28mNone\u001B[39m\n\u001B[0;32m     71\u001B[0m \u001B[38;5;28;01mfinally\u001B[39;00m:\n\u001B[0;32m     72\u001B[0m     \u001B[38;5;28;01mdel\u001B[39;00m filtered_tb\n",
      "File \u001B[1;32m~\\AppData\\Roaming\\Python\\Python310\\site-packages\\tensorflow\\python\\eager\\execute.py:54\u001B[0m, in \u001B[0;36mquick_execute\u001B[1;34m(op_name, num_outputs, inputs, attrs, ctx, name)\u001B[0m\n\u001B[0;32m     52\u001B[0m \u001B[38;5;28;01mtry\u001B[39;00m:\n\u001B[0;32m     53\u001B[0m   ctx\u001B[38;5;241m.\u001B[39mensure_initialized()\n\u001B[1;32m---> 54\u001B[0m   tensors \u001B[38;5;241m=\u001B[39m pywrap_tfe\u001B[38;5;241m.\u001B[39mTFE_Py_Execute(ctx\u001B[38;5;241m.\u001B[39m_handle, device_name, op_name,\n\u001B[0;32m     55\u001B[0m                                       inputs, attrs, num_outputs)\n\u001B[0;32m     56\u001B[0m \u001B[38;5;28;01mexcept\u001B[39;00m core\u001B[38;5;241m.\u001B[39m_NotOkStatusException \u001B[38;5;28;01mas\u001B[39;00m e:\n\u001B[0;32m     57\u001B[0m   \u001B[38;5;28;01mif\u001B[39;00m name \u001B[38;5;129;01mis\u001B[39;00m \u001B[38;5;129;01mnot\u001B[39;00m \u001B[38;5;28;01mNone\u001B[39;00m:\n",
      "\u001B[1;31mInvalidArgumentError\u001B[0m: Graph execution error:\n\nDetected at node 'mean_squared_error/SquaredDifference' defined at (most recent call last):\n    File \"C:\\Users\\Yungi\\AppData\\Local\\Programs\\Python\\Python310\\lib\\runpy.py\", line 196, in _run_module_as_main\n      return _run_code(code, main_globals, None,\n    File \"C:\\Users\\Yungi\\AppData\\Local\\Programs\\Python\\Python310\\lib\\runpy.py\", line 86, in _run_code\n      exec(code, run_globals)\n    File \"C:\\Users\\Yungi\\AppData\\Local\\Programs\\Python\\Python310\\lib\\site-packages\\ipykernel_launcher.py\", line 16, in <module>\n      app.launch_new_instance()\n    File \"C:\\Users\\Yungi\\AppData\\Local\\Programs\\Python\\Python310\\lib\\site-packages\\traitlets\\config\\application.py\", line 978, in launch_instance\n      app.start()\n    File \"C:\\Users\\Yungi\\AppData\\Local\\Programs\\Python\\Python310\\lib\\site-packages\\ipykernel\\kernelapp.py\", line 677, in start\n      self.io_loop.start()\n    File \"C:\\Users\\Yungi\\AppData\\Local\\Programs\\Python\\Python310\\lib\\site-packages\\tornado\\platform\\asyncio.py\", line 199, in start\n      self.asyncio_loop.run_forever()\n    File \"C:\\Users\\Yungi\\AppData\\Local\\Programs\\Python\\Python310\\lib\\asyncio\\base_events.py\", line 595, in run_forever\n      self._run_once()\n    File \"C:\\Users\\Yungi\\AppData\\Local\\Programs\\Python\\Python310\\lib\\asyncio\\base_events.py\", line 1881, in _run_once\n      handle._run()\n    File \"C:\\Users\\Yungi\\AppData\\Local\\Programs\\Python\\Python310\\lib\\asyncio\\events.py\", line 80, in _run\n      self._context.run(self._callback, *self._args)\n    File \"C:\\Users\\Yungi\\AppData\\Local\\Programs\\Python\\Python310\\lib\\site-packages\\ipykernel\\kernelbase.py\", line 461, in dispatch_queue\n      await self.process_one()\n    File \"C:\\Users\\Yungi\\AppData\\Local\\Programs\\Python\\Python310\\lib\\site-packages\\ipykernel\\kernelbase.py\", line 450, in process_one\n      await dispatch(*args)\n    File \"C:\\Users\\Yungi\\AppData\\Local\\Programs\\Python\\Python310\\lib\\site-packages\\ipykernel\\kernelbase.py\", line 357, in dispatch_shell\n      await result\n    File \"C:\\Users\\Yungi\\AppData\\Local\\Programs\\Python\\Python310\\lib\\site-packages\\ipykernel\\kernelbase.py\", line 652, in execute_request\n      reply_content = await reply_content\n    File \"C:\\Users\\Yungi\\AppData\\Local\\Programs\\Python\\Python310\\lib\\site-packages\\ipykernel\\ipkernel.py\", line 359, in do_execute\n      res = shell.run_cell(code, store_history=store_history, silent=silent)\n    File \"C:\\Users\\Yungi\\AppData\\Local\\Programs\\Python\\Python310\\lib\\site-packages\\ipykernel\\zmqshell.py\", line 532, in run_cell\n      return super().run_cell(*args, **kwargs)\n    File \"C:\\Users\\Yungi\\AppData\\Local\\Programs\\Python\\Python310\\lib\\site-packages\\IPython\\core\\interactiveshell.py\", line 2768, in run_cell\n      result = self._run_cell(\n    File \"C:\\Users\\Yungi\\AppData\\Local\\Programs\\Python\\Python310\\lib\\site-packages\\IPython\\core\\interactiveshell.py\", line 2814, in _run_cell\n      return runner(coro)\n    File \"C:\\Users\\Yungi\\AppData\\Local\\Programs\\Python\\Python310\\lib\\site-packages\\IPython\\core\\async_helpers.py\", line 129, in _pseudo_sync_runner\n      coro.send(None)\n    File \"C:\\Users\\Yungi\\AppData\\Local\\Programs\\Python\\Python310\\lib\\site-packages\\IPython\\core\\interactiveshell.py\", line 3012, in run_cell_async\n      has_raised = await self.run_ast_nodes(code_ast.body, cell_name,\n    File \"C:\\Users\\Yungi\\AppData\\Local\\Programs\\Python\\Python310\\lib\\site-packages\\IPython\\core\\interactiveshell.py\", line 3191, in run_ast_nodes\n      if await self.run_code(code, result, async_=asy):\n    File \"C:\\Users\\Yungi\\AppData\\Local\\Programs\\Python\\Python310\\lib\\site-packages\\IPython\\core\\interactiveshell.py\", line 3251, in run_code\n      exec(code_obj, self.user_global_ns, self.user_ns)\n    File \"C:\\Users\\Yungi\\AppData\\Local\\Temp\\ipykernel_116876\\2375609823.py\", line 1, in <module>\n      y.fit(u, tf.ones(100))\n    File \"C:\\Users\\Yungi\\AppData\\Roaming\\Python\\Python310\\site-packages\\keras\\utils\\traceback_utils.py\", line 65, in error_handler\n      return fn(*args, **kwargs)\n    File \"C:\\Users\\Yungi\\AppData\\Roaming\\Python\\Python310\\site-packages\\keras\\engine\\training.py\", line 1564, in fit\n      tmp_logs = self.train_function(iterator)\n    File \"C:\\Users\\Yungi\\AppData\\Roaming\\Python\\Python310\\site-packages\\keras\\engine\\training.py\", line 1160, in train_function\n      return step_function(self, iterator)\n    File \"C:\\Users\\Yungi\\AppData\\Roaming\\Python\\Python310\\site-packages\\keras\\engine\\training.py\", line 1146, in step_function\n      outputs = model.distribute_strategy.run(run_step, args=(data,))\n    File \"C:\\Users\\Yungi\\AppData\\Roaming\\Python\\Python310\\site-packages\\keras\\engine\\training.py\", line 1135, in run_step\n      outputs = model.train_step(data)\n    File \"C:\\Users\\Yungi\\AppData\\Roaming\\Python\\Python310\\site-packages\\keras\\engine\\training.py\", line 994, in train_step\n      loss = self.compute_loss(x, y, y_pred, sample_weight)\n    File \"C:\\Users\\Yungi\\AppData\\Roaming\\Python\\Python310\\site-packages\\keras\\engine\\training.py\", line 1052, in compute_loss\n      return self.compiled_loss(\n    File \"C:\\Users\\Yungi\\AppData\\Roaming\\Python\\Python310\\site-packages\\keras\\engine\\compile_utils.py\", line 265, in __call__\n      loss_value = loss_obj(y_t, y_p, sample_weight=sw)\n    File \"C:\\Users\\Yungi\\AppData\\Roaming\\Python\\Python310\\site-packages\\keras\\losses.py\", line 152, in __call__\n      losses = call_fn(y_true, y_pred)\n    File \"C:\\Users\\Yungi\\AppData\\Roaming\\Python\\Python310\\site-packages\\keras\\losses.py\", line 272, in call\n      return ag_fn(y_true, y_pred, **self._fn_kwargs)\n    File \"C:\\Users\\Yungi\\AppData\\Roaming\\Python\\Python310\\site-packages\\keras\\losses.py\", line 1486, in mean_squared_error\n      return backend.mean(tf.math.squared_difference(y_pred, y_true), axis=-1)\nNode: 'mean_squared_error/SquaredDifference'\nrequired broadcastable shapes\n\t [[{{node mean_squared_error/SquaredDifference}}]] [Op:__inference_train_function_2285]"
     ]
    }
   ],
   "source": [],
   "metadata": {
    "collapsed": false,
    "pycharm": {
     "name": "#%%\n"
    }
   }
  },
  {
   "cell_type": "code",
   "execution_count": 131,
   "outputs": [
    {
     "name": "stdout",
     "output_type": "stream",
     "text": [
      "210 116 1224\n",
      "12 305 1344\n",
      "152 320 112\n",
      "548 287 57\n",
      "4 427 626\n",
      "850 11 1144\n",
      "753 272 1510\n",
      "523 477 1520\n",
      "410 264 232\n",
      "381 176 869\n",
      "109 421 821\n",
      "419 746 395\n",
      "185 290 684\n",
      "14 49 526\n",
      "606 99 697\n",
      "176 647 1190\n",
      "449 258 1014\n",
      "916 585 1164\n",
      "220 49 1255\n",
      "154 285 683\n",
      "42 533 423\n",
      "783 291 769\n",
      "831 180 1026\n",
      "586 313 696\n",
      "724 741 1210\n",
      "806 1261 828\n",
      "810 671 489\n",
      "166 480 611\n",
      "2 342 1271\n",
      "661 92 281\n",
      "180 810 866\n",
      "541 89 993\n",
      "671 862 10\n",
      "621 515 441\n",
      "90 203 110\n",
      "167 859 378\n",
      "312 131 1352\n",
      "401 18 94\n",
      "350 743 1113\n",
      "921 236 1210\n",
      "583 39 816\n",
      "584 29 505\n",
      "28 305 246\n",
      "254 218 1540\n",
      "390 485 965\n",
      "687 347 157\n",
      "219 293 1339\n",
      "80 1046 542\n",
      "400 493 947\n",
      "739 320 1498\n",
      "638 700 462\n",
      "57 133 101\n",
      "926 203 739\n",
      "161 146 1267\n",
      "66 23 1216\n",
      "560 1090 799\n",
      "620 679 395\n",
      "477 70 1327\n",
      "38 312 1318\n",
      "446 16 609\n",
      "382 8 540\n",
      "680 683 1115\n",
      "120 191 771\n",
      "789 152 58\n",
      "745 207 1510\n",
      "885 417 1266\n",
      "130 123 448\n",
      "677 99 990\n",
      "918 743 1090\n",
      "171 635 1030\n",
      "193 319 595\n",
      "456 442 538\n",
      "845 785 964\n",
      "255 209 442\n",
      "486 793 629\n",
      "413 299 218\n",
      "311 120 204\n",
      "816 403 1203\n",
      "372 378 780\n",
      "26 245 10\n",
      "191 6 529\n",
      "591 148 363\n",
      "39 241 753\n",
      "865 887 7\n",
      "735 293 1241\n",
      "20 735 1549\n",
      "195 115 173\n",
      "25 125 1437\n",
      "475 428 298\n",
      "882 906 1457\n",
      "68 1130 1212\n",
      "796 180 114\n",
      "10 732 107\n",
      "421 180 85\n",
      "670 547 753\n",
      "559 287 571\n",
      "835 173 3\n",
      "158 273 1207\n",
      "521 99 1086\n",
      "43 749 954\n"
     ]
    }
   ],
   "source": [
    "for (u, i, j) in zip(a, b, c):\n",
    "    print(u, i, j)"
   ],
   "metadata": {
    "collapsed": false,
    "pycharm": {
     "name": "#%%\n"
    }
   }
  },
  {
   "cell_type": "code",
   "execution_count": 133,
   "outputs": [
    {
     "data": {
      "text/plain": "array([ 116,  305,  320,  287,  427,   11,  272,  477,  264,  176,  421,\n        746,  290,   49,   99,  647,  258,  585,   49,  285,  533,  291,\n        180,  313,  741, 1261,  671,  480,  342,   92,  810,   89,  862,\n        515,  203,  859,  131,   18,  743,  236,   39,   29,  305,  218,\n        485,  347,  293, 1046,  493,  320,  700,  133,  203,  146,   23,\n       1090,  679,   70,  312,   16,    8,  683,  191,  152,  207,  417,\n        123,   99,  743,  635,  319,  442,  785,  209,  793,  299,  120,\n        403,  378,  245,    6,  148,  241,  887,  293,  735,  115,  125,\n        428,  906, 1130,  180,  732,  180,  547,  287,  173,  273,   99,\n        749])"
     },
     "execution_count": 133,
     "metadata": {},
     "output_type": "execute_result"
    }
   ],
   "source": [
    "b"
   ],
   "metadata": {
    "collapsed": false,
    "pycharm": {
     "name": "#%%\n"
    }
   }
  },
  {
   "cell_type": "code",
   "execution_count": null,
   "outputs": [],
   "source": [],
   "metadata": {
    "collapsed": false,
    "pycharm": {
     "name": "#%%\n"
    }
   }
  }
 ],
 "metadata": {
  "kernelspec": {
   "display_name": "Python 3",
   "language": "python",
   "name": "python3"
  },
  "language_info": {
   "codemirror_mode": {
    "name": "ipython",
    "version": 2
   },
   "file_extension": ".py",
   "mimetype": "text/x-python",
   "name": "python",
   "nbconvert_exporter": "python",
   "pygments_lexer": "ipython2",
   "version": "2.7.6"
  }
 },
 "nbformat": 4,
 "nbformat_minor": 0
}