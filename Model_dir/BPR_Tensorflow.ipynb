{
 "cells": [
  {
   "cell_type": "code",
   "execution_count": null,
   "outputs": [],
   "source": [
    "import numpy as np\n",
    "import pandas as pd\n",
    "from os import path\n",
    "from collections import OrderedDict\n",
    "from tqdm import tqdm\n",
    "from typing import Dict\n",
    "\n",
    "import tensorflow as tf\n",
    "from tensorflow.keras.models import Model, load_model\n",
    "from tensorflow.keras.layers import Embedding, Flatten, Input, Lambda\n",
    "from tensorflow.keras.optimizers import Adam, SGD\n",
    "import tensorflow.keras.backend as K\n",
    "from tensorflow.keras.utils import plot_model\n",
    "\n",
    "from sklearn.metrics import roc_auc_score\n",
    "\n",
    "from itertools import islice"
   ],
   "metadata": {
    "collapsed": false,
    "pycharm": {
     "name": "#%%\n"
    }
   }
  },
  {
   "cell_type": "code",
   "execution_count": null,
   "outputs": [],
   "source": [
    "SEED = 42\n",
    "np.random.seed(SEED)\n",
    "tf.random.set_seed(SEED)"
   ],
   "metadata": {
    "collapsed": false,
    "pycharm": {
     "name": "#%%\n"
    }
   }
  },
  {
   "cell_type": "code",
   "execution_count": null,
   "outputs": [],
   "source": [
    "# columns = ['user_id', 'item_id', 'rating', 'timestamp']\n",
    "# ratings = pd.read_csv('../ml-100k/u.data', sep='\\t', names=columns)\n",
    "# ratings.drop('timestamp', axis=1, inplace=True)\n",
    "#\n",
    "# columns = ['item_id', 'movie title', 'release date', 'video release date', 'IMDb URL', 'unknown', 'Action', 'Adventure', 'Animation', 'Childrens', 'Comedy', 'Crime', 'Documentary', 'Drama', 'Fantasy', 'Film-Noir', 'Horror', 'Musical', 'Mystery', 'Romance', 'Sci-Fi', 'Thriller', 'War', 'Western']\n",
    "# movies = pd.read_csv('../ml-100k/u.item', sep='|', names=columns, encoding='latin-1')\n",
    "# movies = movies[['item_id', 'movie title']]"
   ],
   "metadata": {
    "collapsed": false,
    "pycharm": {
     "name": "#%%\n"
    }
   }
  },
  {
   "cell_type": "code",
   "execution_count": null,
   "outputs": [],
   "source": [
    "ratings = pd.read_csv(\"test_rating.csv\")\n",
    "ratings['user_id'] = ratings['user_id']\n",
    "ratings['artwork_id'] = ratings['artwork_id']\n",
    "ratings = ratings.drop(columns=['id'])\n",
    "ratings = ratings.rename(columns= {\"artwork_id\" : \"item_id\"})\n",
    "ratings"
   ],
   "metadata": {
    "collapsed": false,
    "pycharm": {
     "name": "#%%\n"
    }
   }
  },
  {
   "cell_type": "code",
   "execution_count": null,
   "outputs": [],
   "source": [
    "sorted(ratings.item_id.unique())[-10:]"
   ],
   "metadata": {
    "collapsed": false,
    "pycharm": {
     "name": "#%%\n"
    }
   }
  },
  {
   "cell_type": "code",
   "execution_count": null,
   "outputs": [],
   "source": [
    "sorted(ratings.user_id.unique())[:10]"
   ],
   "metadata": {
    "collapsed": false,
    "pycharm": {
     "name": "#%%\n"
    }
   }
  },
  {
   "cell_type": "code",
   "execution_count": null,
   "outputs": [],
   "source": [
    "unique_users = ratings.user_id.unique()\n",
    "user_ids = dict(zip(unique_users, np.arange(unique_users.shape[0], dtype=np.int32)))\n",
    "\n",
    "unique_items = ratings.item_id.unique()\n",
    "item_ids = dict(zip(unique_items, np.arange(unique_items.shape[0], dtype=np.int32)))"
   ],
   "metadata": {
    "collapsed": false,
    "pycharm": {
     "name": "#%%\n"
    }
   }
  },
  {
   "cell_type": "code",
   "execution_count": null,
   "outputs": [],
   "source": [
    "tmp_test = ratings[ratings.rating > 4]\n",
    "tmp_test = tmp_test.groupby('user_id').item_id.count().reset_index()"
   ],
   "metadata": {
    "collapsed": false,
    "pycharm": {
     "name": "#%%\n"
    }
   }
  },
  {
   "cell_type": "code",
   "execution_count": null,
   "outputs": [],
   "source": [
    "conditions = (ratings.user_id.isin(tmp_test[tmp_test.item_id > 20].user_id)) & (ratings.rating > 4)\n",
    "df_test = ratings[conditions].groupby('user_id').head(2).reset_index()\n",
    "del df_test['index']\n",
    "df_test.shape"
   ],
   "metadata": {
    "collapsed": false,
    "pycharm": {
     "name": "#%%\n"
    }
   }
  },
  {
   "cell_type": "code",
   "execution_count": null,
   "outputs": [],
   "source": [
    "ground_truth_test = df_test.groupby('user_id').item_id.agg(list).reset_index()\n",
    "ground_truth_test.head()"
   ],
   "metadata": {
    "collapsed": false,
    "pycharm": {
     "name": "#%%\n"
    }
   }
  },
  {
   "cell_type": "code",
   "execution_count": null,
   "outputs": [],
   "source": [
    "df_train = pd.concat([ratings, df_test]).drop_duplicates(keep=False)\n",
    "df_train.shape"
   ],
   "metadata": {
    "collapsed": false,
    "pycharm": {
     "name": "#%%\n"
    }
   }
  },
  {
   "cell_type": "code",
   "execution_count": null,
   "outputs": [],
   "source": [
    "ground_truth_train = df_train[df_train.rating > 3].groupby('user_id').item_id.agg(list).reset_index()\n",
    "\n",
    "ground_truth_train.head()"
   ],
   "metadata": {
    "collapsed": false,
    "pycharm": {
     "name": "#%%\n"
    }
   }
  },
  {
   "cell_type": "code",
   "execution_count": null,
   "outputs": [],
   "source": [
    "df_triples = pd.DataFrame(columns=['user_id', 'positive_id', 'negative_id'], dtype=np.int32)\n",
    "df_triples"
   ],
   "metadata": {
    "collapsed": false,
    "pycharm": {
     "name": "#%%\n"
    }
   }
  },
  {
   "cell_type": "code",
   "execution_count": null,
   "outputs": [],
   "source": [
    "data = []\n",
    "users_without_data = []\n",
    "\n",
    "for user_id in tqdm(df_train.user_id.unique()):\n",
    "    positive_items = df_train[(df_train.user_id == user_id) & (df_train.rating > 3)].item_id.values\n",
    "    negative_items = df_train[(df_train.user_id == user_id) & (df_train.rating <= 3)].item_id.values\n",
    "\n",
    "    if negative_items.shape[0] == 0 or positive_items.shape[0] == 0:\n",
    "        users_without_data.append(user_id)\n",
    "        continue\n",
    "\n",
    "    for positive_item in positive_items:\n",
    "        for negative_item in negative_items:\n",
    "            data.append({'user_id' : user_id , \"positive_id\" : positive_item, \"negative_id\": negative_item})\n",
    "\n",
    "df_triples = df_triples.append(data, ignore_index=True)"
   ],
   "metadata": {
    "collapsed": false,
    "pycharm": {
     "name": "#%%\n"
    }
   }
  },
  {
   "cell_type": "code",
   "execution_count": null,
   "outputs": [],
   "source": [
    "df_triples.shape"
   ],
   "metadata": {
    "collapsed": false,
    "pycharm": {
     "name": "#%%\n"
    }
   }
  },
  {
   "cell_type": "code",
   "execution_count": null,
   "outputs": [],
   "source": [
    "df_train.shape"
   ],
   "metadata": {
    "collapsed": false,
    "pycharm": {
     "name": "#%%\n"
    }
   }
  },
  {
   "cell_type": "code",
   "execution_count": null,
   "outputs": [],
   "source": [
    "n_users = max(unique_users) + 1\n",
    "n_items = max(unique_items) + 1\n",
    "\n",
    "n_users, n_items"
   ],
   "metadata": {
    "collapsed": false,
    "pycharm": {
     "name": "#%%\n"
    }
   }
  },
  {
   "cell_type": "code",
   "execution_count": null,
   "outputs": [],
   "source": [
    "unique_item_ids = list(ratings.item_id.unique())"
   ],
   "metadata": {
    "collapsed": false,
    "pycharm": {
     "name": "#%%\n"
    }
   }
  },
  {
   "cell_type": "code",
   "execution_count": null,
   "outputs": [],
   "source": [
    "def bpr_predict(model: Model, user_id: int, item_ids: list, user_layer=\"user_embedding\", item_layer=\"item_embedding\"):\n",
    "    user_vector = model.get_layer(user_layer).get_weights()[0][user_id]\n",
    "    item_matrix = model.get_layer(item_layer).get_weights()[0][item_ids]\n",
    "\n",
    "    scores = (np.dot(user_vector, item_matrix.T))\n",
    "\n",
    "    return scores"
   ],
   "metadata": {
    "collapsed": false,
    "pycharm": {
     "name": "#%%\n"
    }
   }
  },
  {
   "cell_type": "code",
   "execution_count": null,
   "outputs": [],
   "source": [
    "@tf.function\n",
    "def identity_loss(_, y_pred):\n",
    "    return tf.math.reduce_mean(y_pred)"
   ],
   "metadata": {
    "collapsed": false,
    "pycharm": {
     "name": "#%%\n"
    }
   }
  },
  {
   "cell_type": "code",
   "execution_count": null,
   "outputs": [],
   "source": [
    "@tf.function\n",
    "def bpr_triples_loss(X: dict):\n",
    "    positive_item_latent, negative_item_latent, user_latent = X\n",
    "\n",
    "    positive_interactions = tf.math.reduce_sum(tf.math.multiply(user_latent, positive_item_latent), axis=-1, keepdims=True)\n",
    "    negative_interactions = tf.math.reduce_sum(tf.math.multiply(user_latent, negative_item_latent), axis=-1, keepdims=True)\n",
    "\n",
    "    return tf.math.subtract(tf.constant(1.0), tf.sigmoid(tf.math.subtract(positive_interactions, negative_interactions)))"
   ],
   "metadata": {
    "collapsed": false,
    "pycharm": {
     "name": "#%%\n"
    }
   }
  },
  {
   "cell_type": "code",
   "execution_count": null,
   "outputs": [],
   "source": [
    "def out_shape(shapes):\n",
    "    return shapes[0]"
   ],
   "metadata": {
    "collapsed": false,
    "pycharm": {
     "name": "#%%\n"
    }
   }
  },
  {
   "cell_type": "code",
   "execution_count": null,
   "outputs": [],
   "source": [
    "def build_model(num_users: int, num_items: int, latent_dim: int) -> Model:\n",
    "    user_input = Input(shape=(1, ), name='user_input')\n",
    "\n",
    "    positive_item_input = Input(shape=(1, ), name='positive_item_input')\n",
    "    negative_item_input = Input(shape=(1, ), name='negative_item_input')\n",
    "\n",
    "    item_embedding_layer = Embedding(num_items, latent_dim, name=\"item_embedding\", input_length=1)\n",
    "\n",
    "    positive_embedding = Flatten()(item_embedding_layer(positive_item_input))\n",
    "    negative_embedding = Flatten()(item_embedding_layer(negative_item_input))\n",
    "\n",
    "    user_embedding = Embedding(num_users, latent_dim, name=\"user_embedding\", input_length=1)(user_input)\n",
    "    user_embedding = Flatten()(user_embedding)\n",
    "\n",
    "    triplet_loss = Lambda(bpr_triples_loss, output_shape=out_shape)([positive_embedding, negative_embedding, user_embedding])\n",
    "\n",
    "    model = Model(inputs=[positive_item_input, negative_item_input, user_input], outputs=triplet_loss)\n",
    "\n",
    "    return model"
   ],
   "metadata": {
    "collapsed": false,
    "pycharm": {
     "name": "#%%\n"
    }
   }
  },
  {
   "cell_type": "code",
   "execution_count": null,
   "outputs": [],
   "source": [
    "latent_dim = 20\n",
    "batch_size = 256\n",
    "num_epochs = 50\n",
    "lr = 0.001\n",
    "\n",
    "model = build_model(n_users, n_items, latent_dim)\n",
    "model.compile(loss=identity_loss, optimizer=Adam(learning_rate=lr))"
   ],
   "metadata": {
    "collapsed": false,
    "pycharm": {
     "name": "#%%\n"
    }
   }
  },
  {
   "cell_type": "code",
   "execution_count": null,
   "outputs": [],
   "source": [
    "trainable_count = np.sum([K.count_params(w) for w in model.trainable_weights])\n",
    "non_trainable_count = np.sum([K.count_params(w) for w in model.non_trainable_weights])\n",
    "\n",
    "print('Total number of parameters: {:,}'.format(trainable_count + non_trainable_count))\n",
    "print('Trainable number of parameters: {:,}'.format(trainable_count))\n",
    "print('Non-trainable number of parameters: {:,}'.format(non_trainable_count))\n",
    "\n",
    "print('Training data length: {:,}'.format(df_triples.shape[0]))"
   ],
   "metadata": {
    "collapsed": false,
    "pycharm": {
     "name": "#%%\n"
    }
   }
  },
  {
   "cell_type": "code",
   "execution_count": null,
   "outputs": [],
   "source": [
    "X = {\n",
    "    'user_input': tf.convert_to_tensor(df_triples.user_id),\n",
    "    'positive_item_input': tf.convert_to_tensor(df_triples.positive_id),\n",
    "    'negative_item_input' : tf.convert_to_tensor(df_triples.negative_id)\n",
    "}"
   ],
   "metadata": {
    "collapsed": false,
    "pycharm": {
     "name": "#%%\n"
    }
   }
  },
  {
   "cell_type": "code",
   "execution_count": null,
   "outputs": [],
   "source": [
    "model.fit(X,\n",
    "          tf.ones(df_triples.shape[0]),\n",
    "          batch_size=batch_size,\n",
    "          epochs=num_epochs,\n",
    "          verbose=0)"
   ],
   "metadata": {
    "collapsed": false,
    "pycharm": {
     "name": "#%%\n"
    }
   }
  },
  {
   "cell_type": "code",
   "execution_count": null,
   "outputs": [],
   "source": [
    "model.save(path.join('./', \"model.h5\"))"
   ],
   "metadata": {
    "collapsed": false,
    "pycharm": {
     "name": "#%%\n"
    }
   }
  },
  {
   "cell_type": "code",
   "execution_count": null,
   "outputs": [],
   "source": [
    "def full_auc(model: Model, ground_truth: Dict[int, list], items: list) -> float:\n",
    "    \"\"\"\n",
    "    Measure AUC for model and ground truth for all items\n",
    "\n",
    "    :param model:\n",
    "    :param ground_truth: dictionary of the users and the high ranked movies for the specific user\n",
    "    :param items: a list of the all available movies\n",
    "    :return: AUC\n",
    "    \"\"\"\n",
    "\n",
    "    number_of_items = len(items)\n",
    "    scores = []\n",
    "\n",
    "    for user_id, true_item_ids in ground_truth:\n",
    "        predictions = bpr_predict(model, user_id, items)\n",
    "        grnd = np.zeros(number_of_items, dtype=np.int32)\n",
    "\n",
    "        for p in true_item_ids:\n",
    "            index = items.index(p)\n",
    "            grnd[index] = 1\n",
    "\n",
    "        if true_item_ids:\n",
    "            scores.append(roc_auc_score(grnd, predictions))\n",
    "\n",
    "    return sum(scores) / len(scores)"
   ],
   "metadata": {
    "collapsed": false,
    "pycharm": {
     "name": "#%%\n"
    }
   }
  },
  {
   "cell_type": "code",
   "execution_count": null,
   "outputs": [],
   "source": [
    "def mean_average_precision_k(model: Model,\n",
    "                           ground_truth: Dict[int, list],\n",
    "                           items: list,\n",
    "                           k=100) -> float:\n",
    "    \"\"\"\n",
    "    Calculate mean eavarage precission per user\n",
    "\n",
    "    :param model:\n",
    "    :param ground_truth: dictionary of the users and the high ranked movies for the specific user\n",
    "    :param items: a list of the all available movies\n",
    "    :param k: top N recommendations per user\n",
    "    :return: mean eavarage precission\n",
    "    \"\"\"\n",
    "    scores = []\n",
    "\n",
    "    for user, actual in ground_truth:\n",
    "        predictions = bpr_predict(model, user, items)\n",
    "        predictions = dict(zip(items, predictions))\n",
    "        predictions = sorted(predictions.items(), key=lambda kv: kv[1], reverse=True)[:k]\n",
    "        predictions = list(OrderedDict(predictions).keys())\n",
    "\n",
    "        score = 0.0\n",
    "        num_hits = 0.0\n",
    "\n",
    "        for i, p in enumerate(predictions):\n",
    "            if p in actual:\n",
    "                num_hits += 1.0\n",
    "                score += num_hits / (i + 1.0)\n",
    "\n",
    "        score = score / min(len(actual), k)\n",
    "        scores.append(score)\n",
    "\n",
    "    return np.mean(scores)"
   ],
   "metadata": {
    "collapsed": false,
    "pycharm": {
     "name": "#%%\n"
    }
   }
  },
  {
   "cell_type": "code",
   "execution_count": null,
   "outputs": [],
   "source": [
    "print(f'AUC Train : {full_auc(model, ground_truth_train.values, unique_item_ids)}')"
   ],
   "metadata": {
    "collapsed": false,
    "pycharm": {
     "name": "#%%\n"
    }
   }
  },
  {
   "cell_type": "code",
   "execution_count": null,
   "outputs": [],
   "source": [
    "print(f'AUC Test : {full_auc(model, ground_truth_test.values, unique_item_ids)}')"
   ],
   "metadata": {
    "collapsed": false,
    "pycharm": {
     "name": "#%%\n"
    }
   }
  },
  {
   "cell_type": "code",
   "execution_count": null,
   "outputs": [],
   "source": [
    "print(f'Mean Average precision test : {mean_average_precision_k(model, ground_truth_test.values, unique_item_ids)}')"
   ],
   "metadata": {
    "collapsed": false,
    "pycharm": {
     "name": "#%%\n"
    }
   }
  },
  {
   "cell_type": "code",
   "execution_count": null,
   "outputs": [],
   "source": [
    "def _recommend_user( model, ratings, n_items, user, N):\n",
    "    scores = bpr_predict(model, user, np.arange(0, n_items))\n",
    "    positive_items = df_train[(ratings.user_id == user) & (ratings.rating > 3)].item_id.values\n",
    "    liked = set(positive_items)\n",
    "    count = N + len(positive_items)\n",
    "    if count < scores.shape[0]:\n",
    "        ids = np.argpartition(scores, -count)[-count:]\n",
    "        best_ids = np.argsort(scores[ids])[::-1]\n",
    "        best = ids[best_ids]\n",
    "    else:\n",
    "        best = np.argsort(scores)[::-1]\n",
    "    top_n = list(islice((rec for rec in best if rec if rec not in liked), N))\n",
    "    return top_n\n",
    "\n",
    "def recommand(n_users, n_items, ratings, model, N=10):\n",
    "    recommendation = np.zeros((n_users, N), dtype=np.uint32)\n",
    "    for user in range(n_users):\n",
    "        top_n = _recommend_user(model, ratings,n_items, user, N)\n",
    "        recommendation[user] = top_n\n",
    "    return recommendation"
   ],
   "metadata": {
    "collapsed": false,
    "pycharm": {
     "name": "#%%\n"
    }
   }
  },
  {
   "cell_type": "code",
   "execution_count": null,
   "outputs": [],
   "source": [
    "pd.DataFrame(recommand(n_users, n_items, ratings, model, N=10)).to_json(\"prediction_score.json\", orient=\"values\", indent=4)"
   ],
   "metadata": {
    "collapsed": false,
    "pycharm": {
     "name": "#%%\n"
    }
   }
  },
  {
   "cell_type": "code",
   "execution_count": null,
   "outputs": [],
   "source": [
    "model.summary()"
   ],
   "metadata": {
    "collapsed": false,
    "pycharm": {
     "name": "#%%\n"
    }
   }
  },
  {
   "cell_type": "code",
   "execution_count": null,
   "outputs": [],
   "source": [
    "plot_model(model, to_file=\"model.png\", show_shapes=True)"
   ],
   "metadata": {
    "collapsed": false,
    "pycharm": {
     "name": "#%%\n"
    }
   }
  }
 ],
 "metadata": {
  "kernelspec": {
   "display_name": "Python 3",
   "language": "python",
   "name": "python3"
  },
  "language_info": {
   "codemirror_mode": {
    "name": "ipython",
    "version": 2
   },
   "file_extension": ".py",
   "mimetype": "text/x-python",
   "name": "python",
   "nbconvert_exporter": "python",
   "pygments_lexer": "ipython2",
   "version": "2.7.6"
  }
 },
 "nbformat": 4,
 "nbformat_minor": 0
}