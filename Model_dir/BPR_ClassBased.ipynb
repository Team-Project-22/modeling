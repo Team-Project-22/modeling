{
 "cells": [
  {
   "cell_type": "code",
   "execution_count": 1,
   "outputs": [],
   "source": [
    "import numpy as np\n",
    "import pandas as pd\n",
    "from scipy.sparse import csr_matrix, dok_matrix\n",
    "from math import ceil\n",
    "import sys\n",
    "from tqdm import trange\n",
    "from itertools import islice\n",
    "from sklearn.preprocessing import normalize\n",
    "from sklearn.neighbors import NearestNeighbors\n",
    "from sklearn.metrics import roc_auc_score"
   ],
   "metadata": {
    "collapsed": false,
    "pycharm": {
     "name": "#%%\n"
    }
   }
  },
  {
   "cell_type": "code",
   "execution_count": 2,
   "outputs": [],
   "source": [
    "columns = ['user_id', 'item_id', 'rating', 'timestamp']\n",
    "ratings = pd.read_csv('../ml-100k/u.data', sep='\\t', names=columns)\n",
    "ratings.drop('timestamp', axis=1, inplace=True)\n",
    "\n",
    "columns = ['item_id', 'movie title', 'release date', 'video release date', 'IMDb URL', 'unknown', 'Action', 'Adventure', 'Animation', 'Childrens', 'Comedy', 'Crime', 'Documentary', 'Drama', 'Fantasy', 'Film-Noir', 'Horror', 'Musical', 'Mystery', 'Romance', 'Sci-Fi', 'Thriller', 'War', 'Western']\n",
    "movies = pd.read_csv('../ml-100k/u.item', sep='|', names=columns, encoding='latin-1')\n",
    "movies = movies[['item_id', 'movie title']]\n",
    "\n",
    "n_users = len(ratings['user_id'].unique())\n",
    "n_items = len(movies['item_id'].unique())\n",
    "rating_mat = np.zeros(shape= (n_users, n_items))"
   ],
   "metadata": {
    "collapsed": false,
    "pycharm": {
     "name": "#%%\n"
    }
   }
  },
  {
   "cell_type": "code",
   "execution_count": 3,
   "outputs": [
    {
     "data": {
      "text/plain": "   user_id  item_id  rating\n0      196      242       3\n1      186      302       3\n2       22      377       1\n3      244       51       2\n4      166      346       1",
      "text/html": "<div>\n<style scoped>\n    .dataframe tbody tr th:only-of-type {\n        vertical-align: middle;\n    }\n\n    .dataframe tbody tr th {\n        vertical-align: top;\n    }\n\n    .dataframe thead th {\n        text-align: right;\n    }\n</style>\n<table border=\"1\" class=\"dataframe\">\n  <thead>\n    <tr style=\"text-align: right;\">\n      <th></th>\n      <th>user_id</th>\n      <th>item_id</th>\n      <th>rating</th>\n    </tr>\n  </thead>\n  <tbody>\n    <tr>\n      <th>0</th>\n      <td>196</td>\n      <td>242</td>\n      <td>3</td>\n    </tr>\n    <tr>\n      <th>1</th>\n      <td>186</td>\n      <td>302</td>\n      <td>3</td>\n    </tr>\n    <tr>\n      <th>2</th>\n      <td>22</td>\n      <td>377</td>\n      <td>1</td>\n    </tr>\n    <tr>\n      <th>3</th>\n      <td>244</td>\n      <td>51</td>\n      <td>2</td>\n    </tr>\n    <tr>\n      <th>4</th>\n      <td>166</td>\n      <td>346</td>\n      <td>1</td>\n    </tr>\n  </tbody>\n</table>\n</div>"
     },
     "execution_count": 3,
     "metadata": {},
     "output_type": "execute_result"
    }
   ],
   "source": [
    "ratings.head()"
   ],
   "metadata": {
    "collapsed": false,
    "pycharm": {
     "name": "#%%\n"
    }
   }
  },
  {
   "cell_type": "code",
   "execution_count": 4,
   "outputs": [
    {
     "data": {
      "text/plain": "(100000, 3)"
     },
     "execution_count": 4,
     "metadata": {},
     "output_type": "execute_result"
    }
   ],
   "source": [
    "ratings.shape"
   ],
   "metadata": {
    "collapsed": false,
    "pycharm": {
     "name": "#%%\n"
    }
   }
  },
  {
   "cell_type": "code",
   "execution_count": 5,
   "outputs": [],
   "source": [
    "def create_mat(data, users_col, items_col, ratings_col, threshold=None):\n",
    "    if threshold is not None:\n",
    "        data = data[data[ratings_col] >= threshold]\n",
    "        data[ratings_col] = 1\n",
    "    data_user_num_items = (data\n",
    "                           .groupby('user_id')\n",
    "                           .agg(**{'num_items': ('item_id', 'count')})\n",
    "                           .reset_index())\n",
    "    data = data.merge(data_user_num_items, on='user_id', how='inner')\n",
    "    data = data[data['num_items'] > 1]\n",
    "\n",
    "    for col in (items_col, users_col, ratings_col):\n",
    "        data[col] = data[col].astype('category')\n",
    "\n",
    "    ratings = csr_matrix((data[ratings_col],\n",
    "                          (data[users_col].cat.codes, data[items_col].cat.codes)))\n",
    "    ratings.eliminate_zeros()\n",
    "    return ratings, data"
   ],
   "metadata": {
    "collapsed": false,
    "pycharm": {
     "name": "#%%\n"
    }
   }
  },
  {
   "cell_type": "code",
   "execution_count": 6,
   "outputs": [
    {
     "name": "stderr",
     "output_type": "stream",
     "text": [
      "C:\\Users\\Yungi\\AppData\\Local\\Temp\\ipykernel_120488\\4113105480.py:4: SettingWithCopyWarning: \n",
      "A value is trying to be set on a copy of a slice from a DataFrame.\n",
      "Try using .loc[row_indexer,col_indexer] = value instead\n",
      "\n",
      "See the caveats in the documentation: https://pandas.pydata.org/pandas-docs/stable/user_guide/indexing.html#returning-a-view-versus-a-copy\n",
      "  data[ratings_col] = 1\n"
     ]
    }
   ],
   "source": [
    "items_col = 'item_id'\n",
    "users_col = 'user_id'\n",
    "ratings_col = 'rating'\n",
    "threshold = 3\n",
    "X, df = create_mat(ratings, users_col, items_col, ratings_col, threshold)"
   ],
   "metadata": {
    "collapsed": false,
    "pycharm": {
     "name": "#%%\n"
    }
   }
  },
  {
   "cell_type": "code",
   "execution_count": 7,
   "outputs": [
    {
     "name": "stdout",
     "output_type": "stream",
     "text": [
      "  (0, 0)\t1\n",
      "  (0, 1)\t1\n",
      "  (0, 2)\t1\n",
      "  (0, 3)\t1\n",
      "  (0, 4)\t1\n",
      "  (0, 5)\t1\n",
      "  (0, 6)\t1\n",
      "  (0, 8)\t1\n",
      "  (0, 9)\t1\n",
      "  (0, 11)\t1\n",
      "  (0, 12)\t1\n",
      "  (0, 13)\t1\n",
      "  (0, 14)\t1\n",
      "  (0, 15)\t1\n",
      "  (0, 16)\t1\n",
      "  (0, 17)\t1\n",
      "  (0, 18)\t1\n",
      "  (0, 19)\t1\n",
      "  (0, 21)\t1\n",
      "  (0, 22)\t1\n",
      "  (0, 23)\t1\n",
      "  (0, 24)\t1\n",
      "  (0, 25)\t1\n",
      "  (0, 27)\t1\n",
      "  (0, 29)\t1\n",
      "  :\t:\n",
      "  (942, 618)\t1\n",
      "  (942, 648)\t1\n",
      "  (942, 665)\t1\n",
      "  (942, 678)\t1\n",
      "  (942, 710)\t1\n",
      "  (942, 714)\t1\n",
      "  (942, 715)\t1\n",
      "  (942, 725)\t1\n",
      "  (942, 732)\t1\n",
      "  (942, 756)\t1\n",
      "  (942, 758)\t1\n",
      "  (942, 785)\t1\n",
      "  (942, 787)\t1\n",
      "  (942, 799)\t1\n",
      "  (942, 807)\t1\n",
      "  (942, 815)\t1\n",
      "  (942, 816)\t1\n",
      "  (942, 830)\t1\n",
      "  (942, 915)\t1\n",
      "  (942, 930)\t1\n",
      "  (942, 1031)\t1\n",
      "  (942, 1061)\t1\n",
      "  (942, 1175)\t1\n",
      "  (942, 1215)\t1\n",
      "  (942, 1308)\t1\n"
     ]
    }
   ],
   "source": [
    "print(X)"
   ],
   "metadata": {
    "collapsed": false,
    "pycharm": {
     "name": "#%%\n"
    }
   }
  },
  {
   "cell_type": "code",
   "execution_count": 8,
   "outputs": [],
   "source": [
    "def create_train_test(ratings, test_size=0.2, seed=1234):\n",
    "    assert test_size < 1.0 and test_size > 0.0\n",
    "\n",
    "    train = ratings.copy().todok()\n",
    "    test = dok_matrix(train.shape)\n",
    "\n",
    "    rstate = np.random.RandomState(seed)\n",
    "    for u in range(ratings.shape[0]):\n",
    "        split_index = ratings[u].indices\n",
    "        n_splits = ceil(test_size * split_index.shape[0])\n",
    "        test_index = rstate.choice(split_index, size=n_splits, replace=False)\n",
    "        test[u, test_index] = ratings[u, test_index]\n",
    "        train[u, test_index] = 0\n",
    "\n",
    "    train, test = train.tocsr(), test.tocsr()\n",
    "    return train, test"
   ],
   "metadata": {
    "collapsed": false,
    "pycharm": {
     "name": "#%%\n"
    }
   }
  },
  {
   "cell_type": "code",
   "execution_count": 9,
   "outputs": [
    {
     "data": {
      "text/plain": "<943x1574 sparse matrix of type '<class 'numpy.int64'>'\n\twith 65641 stored elements in Compressed Sparse Row format>"
     },
     "execution_count": 9,
     "metadata": {},
     "output_type": "execute_result"
    }
   ],
   "source": [
    "X_train, X_test = create_train_test(X, test_size = 0.2, seed=1234)\n",
    "X_train"
   ],
   "metadata": {
    "collapsed": false,
    "pycharm": {
     "name": "#%%\n"
    }
   }
  },
  {
   "cell_type": "code",
   "execution_count": 10,
   "outputs": [
    {
     "name": "stdout",
     "output_type": "stream",
     "text": [
      "  (0, 0)\t1\n",
      "  (0, 1)\t1\n",
      "  (0, 2)\t1\n",
      "  (0, 3)\t1\n",
      "  (0, 4)\t1\n",
      "  (0, 9)\t1\n",
      "  (0, 12)\t1\n",
      "  (0, 13)\t1\n",
      "  (0, 14)\t1\n",
      "  (0, 15)\t1\n",
      "  (0, 16)\t1\n",
      "  (0, 17)\t1\n",
      "  (0, 18)\t1\n",
      "  (0, 19)\t1\n",
      "  (0, 21)\t1\n",
      "  (0, 22)\t1\n",
      "  (0, 23)\t1\n",
      "  (0, 24)\t1\n",
      "  (0, 25)\t1\n",
      "  (0, 27)\t1\n",
      "  (0, 29)\t1\n",
      "  (0, 30)\t1\n",
      "  (0, 31)\t1\n",
      "  (0, 32)\t1\n",
      "  (0, 37)\t1\n",
      "  :\t:\n",
      "  (942, 535)\t1\n",
      "  (942, 540)\t1\n",
      "  (942, 553)\t1\n",
      "  (942, 560)\t1\n",
      "  (942, 562)\t1\n",
      "  (942, 570)\t1\n",
      "  (942, 607)\t1\n",
      "  (942, 618)\t1\n",
      "  (942, 648)\t1\n",
      "  (942, 665)\t1\n",
      "  (942, 678)\t1\n",
      "  (942, 710)\t1\n",
      "  (942, 714)\t1\n",
      "  (942, 715)\t1\n",
      "  (942, 725)\t1\n",
      "  (942, 732)\t1\n",
      "  (942, 756)\t1\n",
      "  (942, 758)\t1\n",
      "  (942, 785)\t1\n",
      "  (942, 787)\t1\n",
      "  (942, 815)\t1\n",
      "  (942, 816)\t1\n",
      "  (942, 830)\t1\n",
      "  (942, 915)\t1\n",
      "  (942, 1175)\t1\n"
     ]
    }
   ],
   "source": [
    "print(X_train)"
   ],
   "metadata": {
    "collapsed": false,
    "pycharm": {
     "name": "#%%\n"
    }
   }
  },
  {
   "cell_type": "code",
   "execution_count": 11,
   "outputs": [
    {
     "name": "stdout",
     "output_type": "stream",
     "text": [
      "  (0, 5)\t1.0\n",
      "  (0, 129)\t1.0\n",
      "  (0, 6)\t1.0\n",
      "  (0, 200)\t1.0\n",
      "  (0, 70)\t1.0\n",
      "  (0, 65)\t1.0\n",
      "  (0, 188)\t1.0\n",
      "  (0, 90)\t1.0\n",
      "  (0, 225)\t1.0\n",
      "  (0, 11)\t1.0\n",
      "  (0, 61)\t1.0\n",
      "  (0, 164)\t1.0\n",
      "  (0, 8)\t1.0\n",
      "  (0, 261)\t1.0\n",
      "  (0, 205)\t1.0\n",
      "  (0, 256)\t1.0\n",
      "  (0, 38)\t1.0\n",
      "  (0, 87)\t1.0\n",
      "  (0, 177)\t1.0\n",
      "  (0, 162)\t1.0\n",
      "  (0, 75)\t1.0\n",
      "  (0, 157)\t1.0\n",
      "  (0, 124)\t1.0\n",
      "  (0, 112)\t1.0\n",
      "  (0, 41)\t1.0\n",
      "  :\t:\n",
      "  (942, 99)\t1.0\n",
      "  (942, 575)\t1.0\n",
      "  (942, 215)\t1.0\n",
      "  (942, 401)\t1.0\n",
      "  (942, 238)\t1.0\n",
      "  (942, 799)\t1.0\n",
      "  (942, 66)\t1.0\n",
      "  (942, 1308)\t1.0\n",
      "  (942, 316)\t1.0\n",
      "  (942, 233)\t1.0\n",
      "  (942, 185)\t1.0\n",
      "  (942, 187)\t1.0\n",
      "  (942, 1215)\t1.0\n",
      "  (942, 807)\t1.0\n",
      "  (942, 1061)\t1.0\n",
      "  (942, 424)\t1.0\n",
      "  (942, 1031)\t1.0\n",
      "  (942, 203)\t1.0\n",
      "  (942, 30)\t1.0\n",
      "  (942, 193)\t1.0\n",
      "  (942, 281)\t1.0\n",
      "  (942, 930)\t1.0\n",
      "  (942, 204)\t1.0\n",
      "  (942, 150)\t1.0\n",
      "  (942, 232)\t1.0\n"
     ]
    }
   ],
   "source": [
    "print(X_test)"
   ],
   "metadata": {
    "collapsed": false,
    "pycharm": {
     "name": "#%%\n"
    }
   }
  },
  {
   "cell_type": "code",
   "execution_count": 12,
   "outputs": [],
   "source": [
    "class BPR:\n",
    "    def __init__(self, learning_rate=0.01, n_factors=15, n_iters=10,\n",
    "                 batch_size = 1000, reg= 0.01, seed=1234, verbose=True):\n",
    "        self.reg = reg\n",
    "        self.seed = seed\n",
    "        self.verbose = verbose\n",
    "        self.n_iters = n_iters\n",
    "        self.n_factors = n_factors\n",
    "        self.batch_size = batch_size\n",
    "        self.learning_rate = learning_rate\n",
    "\n",
    "        self._prediction = None\n",
    "\n",
    "    def fit(self, ratings):\n",
    "        indptr = ratings.indptr\n",
    "        indices = ratings.indices\n",
    "        n_users, n_items = ratings.shape\n",
    "\n",
    "        batch_size = self.batch_size\n",
    "        if n_users < batch_size:\n",
    "            batch_size = n_users\n",
    "            sys.stderr.write(\"WARNING: Batch Size가 Users보다 많습니다.\"\n",
    "                             'batch_size를 {}로 바꾸세요\\n'.format(n_users))\n",
    "\n",
    "        batch_iters = n_users // batch_size\n",
    "        rstate = np.random.RandomState(self.seed)\n",
    "        self.user_factors = rstate.normal(size=(n_users, self.n_factors))\n",
    "        self.item_factors = rstate.normal(size=(n_items, self.n_factors))\n",
    "\n",
    "        loop = range(self.n_iters)\n",
    "        if self.verbose:\n",
    "            loop = trange(self.n_iters, desc=self.__class__.__name__)\n",
    "\n",
    "        for _ in loop:\n",
    "            for _ in range(batch_iters):\n",
    "                sampled = self._sample(n_users, n_items, indices, indptr)\n",
    "                sampled_users, sampled_pos_items, sampled_neg_items = sampled\n",
    "                self._update(sampled_users, sampled_pos_items, sampled_neg_items)\n",
    "        return self\n",
    "\n",
    "    def _sample(self, n_users, n_items, indices, indptr):\n",
    "        sampled_pos_items = np.zeros(self.batch_size, dtype=np.int32)\n",
    "        sampled_neg_items = np.zeros(self.batch_size, dtype=np.int32)\n",
    "        sampled_users = np.random.choice(\n",
    "            n_users, size=self.batch_size, replace=False)\n",
    "\n",
    "        for idx, user in enumerate(sampled_users):\n",
    "            pos_items = indices[indptr[user] : indptr[user+1]]\n",
    "            pos_item = np.random.choice(pos_items)\n",
    "            neg_item = np.random.choice(n_items)\n",
    "            while neg_item in pos_items:\n",
    "                neg_item = np.random.choice(n_items)\n",
    "            sampled_pos_items[idx] = pos_item\n",
    "            sampled_neg_items[idx] = neg_item\n",
    "\n",
    "        return sampled_users, sampled_pos_items, sampled_neg_items\n",
    "\n",
    "    def _update(self, u, i, j):\n",
    "        user_u = self.user_factors[u]\n",
    "        item_i = self.item_factors[i]\n",
    "        item_j = self.item_factors[j]\n",
    "\n",
    "        # 원래는 Dot Product를 해서 계산하는게 맞는데, 아다마르(hadamard)곱 연산을 통해서 시간을 줄인다. 그냥 element-wise한 계산을 하자는 것 같음\n",
    "        r_uij = np.sum(user_u * (item_i - item_j), axis = 1)\n",
    "        sigmoid = np.exp(-r_uij) / (1.0 + np.exp(-r_uij))\n",
    "\n",
    "        sigmoid_tiled = np.tile(sigmoid, (self.n_factors, 1)).T\n",
    "\n",
    "\n",
    "        grad_u = sigmoid_tiled * (item_j - item_i) + self.reg * user_u\n",
    "        grad_i = sigmoid_tiled * -user_u + self.reg * item_i\n",
    "        grad_j = sigmoid_tiled * user_u + self.reg * item_j\n",
    "        self.user_factors[u] -= self.learning_rate * grad_u\n",
    "        self.item_factors[i] -= self.learning_rate * grad_i\n",
    "        self.item_factors[j] -= self.learning_rate * grad_j\n",
    "        return self\n",
    "\n",
    "    def predict(self):\n",
    "        if self._prediction is None:\n",
    "            self._prediction = self.user_factors.dot(self.item_factors.T)\n",
    "\n",
    "        return self._prediction\n",
    "\n",
    "    def _predict_user(self, user):\n",
    "        user_pred = self.user_factors[user].dot(self.item_factors.T)\n",
    "        return user_pred\n",
    "\n",
    "    def recommend(self, ratings, N=5):\n",
    "        n_users = ratings.shape[0]\n",
    "        recommendation = np.zeros((n_users, N), dtype=np.uint32)\n",
    "        for user in range(n_users):\n",
    "            top_n = self._recommend_user(ratings, user, N)\n",
    "            recommendation[user] = top_n\n",
    "\n",
    "        return recommendation\n",
    "\n",
    "    def _recommend_user(self, ratings, user, N):\n",
    "        scores = self._predict_user(user)\n",
    "\n",
    "        liked = set(ratings[user].indices)\n",
    "        count = N + len(liked)\n",
    "        if count < scores.shape[0]:\n",
    "            ids = np.argpartition(scores, -count)[-count:]\n",
    "            best_ids = np.argsort(scores[ids])[::-1]\n",
    "            best = ids[best_ids]\n",
    "        else:\n",
    "            best = np.argsort(scores)[::-1]\n",
    "\n",
    "        top_n = list(islice((rec for rec in best if rec not in liked), N))\n",
    "        return top_n\n",
    "\n",
    "    def get_similar_items(self, N=5, item_ids = None):\n",
    "        normed_factors = normalize(self.item_factors)\n",
    "        knn = NearestNeighbors(n_neighbors = N + 1, metric = 'euclidean')\n",
    "        knn.fit(normed_factors)\n",
    "\n",
    "        # returns a distance, index tuple,\n",
    "        # we don't actually need the distance\n",
    "        if item_ids is not None:\n",
    "            normed_factors = normed_factors[item_ids]\n",
    "\n",
    "        _, items = knn.kneighbors(normed_factors)\n",
    "        similar_items = items[:, 1:].astype(np.uint32)\n",
    "        return similar_items"
   ],
   "metadata": {
    "collapsed": false,
    "pycharm": {
     "name": "#%%\n"
    }
   }
  },
  {
   "cell_type": "code",
   "execution_count": 13,
   "outputs": [
    {
     "name": "stderr",
     "output_type": "stream",
     "text": [
      "BPR: 100%|██████████| 160/160 [00:05<00:00, 28.46it/s]\n"
     ]
    },
    {
     "data": {
      "text/plain": "<__main__.BPR at 0x1be9938b250>"
     },
     "execution_count": 13,
     "metadata": {},
     "output_type": "execute_result"
    }
   ],
   "source": [
    "bpr_params= {\n",
    "    'reg': 0.01,\n",
    "    \"learning_rate\": 0.1,\n",
    "    'n_iters': 160,\n",
    "    'n_factors': 15,\n",
    "    'batch_size': 100\n",
    "}\n",
    "bpr = BPR(**bpr_params)\n",
    "bpr.fit(X_train)"
   ],
   "metadata": {
    "collapsed": false,
    "pycharm": {
     "name": "#%%\n"
    }
   }
  },
  {
   "cell_type": "code",
   "execution_count": 14,
   "outputs": [],
   "source": [
    "def auc_score(model, ratings):\n",
    "    auc = 0.0\n",
    "    n_users, n_items = ratings.shape\n",
    "    for user, row in enumerate(ratings):\n",
    "        y_pred = model._predict_user(user)\n",
    "        y_true = np.zeros(n_items)\n",
    "        y_true[row.indices] = 1\n",
    "        auc += roc_auc_score(y_true, y_pred)\n",
    "\n",
    "    auc /= n_users\n",
    "    return auc"
   ],
   "metadata": {
    "collapsed": false,
    "pycharm": {
     "name": "#%%\n"
    }
   }
  },
  {
   "cell_type": "code",
   "execution_count": 15,
   "outputs": [
    {
     "name": "stdout",
     "output_type": "stream",
     "text": [
      "0.8978349211141912\n",
      "0.8296478910149392\n"
     ]
    }
   ],
   "source": [
    "print(auc_score(bpr, X_train))\n",
    "print(auc_score(bpr, X_test))"
   ],
   "metadata": {
    "collapsed": false,
    "pycharm": {
     "name": "#%%\n"
    }
   }
  },
  {
   "cell_type": "code",
   "execution_count": 16,
   "outputs": [
    {
     "data": {
      "text/plain": "array([[ 110,   24,   49,  180,  403],\n       [ 130,  687,  425, 1384,  135],\n       [1348,  278,  895,   27, 1007],\n       ...,\n       [1494,  661,  951,  955,  447],\n       [ 366, 1115, 1302,  351,  863],\n       [ 809,  891, 1084,  750,  923]], dtype=uint32)"
     },
     "execution_count": 16,
     "metadata": {},
     "output_type": "execute_result"
    }
   ],
   "source": [
    "bpr.get_similar_items(N=5)"
   ],
   "metadata": {
    "collapsed": false,
    "pycharm": {
     "name": "#%%\n"
    }
   }
  },
  {
   "cell_type": "code",
   "execution_count": 17,
   "outputs": [
    {
     "data": {
      "text/plain": "array([[492, 193, 508, ..., 182, 685, 425],\n       [  8, 741, 806, ..., 733, 267,  99],\n       [683, 301, 320, ..., 675, 313, 356],\n       ...,\n       [219, 469,  23, ...,  13, 117, 868],\n       [172, 763, 162, ..., 285,   0, 167],\n       [167, 184, 728, ..., 237,   6, 264]], dtype=uint32)"
     },
     "execution_count": 17,
     "metadata": {},
     "output_type": "execute_result"
    }
   ],
   "source": [
    "bpr.recommend(X_train, N=10)"
   ],
   "metadata": {
    "collapsed": false,
    "pycharm": {
     "name": "#%%\n"
    }
   }
  },
  {
   "cell_type": "code",
   "execution_count": null,
   "outputs": [],
   "source": [],
   "metadata": {
    "collapsed": false,
    "pycharm": {
     "name": "#%%\n"
    }
   }
  }
 ],
 "metadata": {
  "kernelspec": {
   "display_name": "Python 3",
   "language": "python",
   "name": "python3"
  },
  "language_info": {
   "codemirror_mode": {
    "name": "ipython",
    "version": 2
   },
   "file_extension": ".py",
   "mimetype": "text/x-python",
   "name": "python",
   "nbconvert_exporter": "python",
   "pygments_lexer": "ipython2",
   "version": "2.7.6"
  }
 },
 "nbformat": 4,
 "nbformat_minor": 0
}